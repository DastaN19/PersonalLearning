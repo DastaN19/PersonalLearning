{
 "cells": [
  {
   "cell_type": "markdown",
   "id": "506337ba",
   "metadata": {},
   "source": [
    "Q. Declare a complex number and store it in a variable.\n",
    "Check the type and print the id of the same.\n"
   ]
  },
  {
   "cell_type": "code",
   "execution_count": 2,
   "id": "3a760e2a",
   "metadata": {},
   "outputs": [
    {
     "data": {
      "text/plain": [
       "complex"
      ]
     },
     "execution_count": 2,
     "metadata": {},
     "output_type": "execute_result"
    }
   ],
   "source": [
    "a = 10 + 6j\n",
    "\n",
    "type(a)"
   ]
  },
  {
   "cell_type": "code",
   "execution_count": 3,
   "id": "6c1e2e38",
   "metadata": {},
   "outputs": [
    {
     "name": "stdout",
     "output_type": "stream",
     "text": [
      "2969096082896\n"
     ]
    }
   ],
   "source": [
    "print(id(a))"
   ]
  },
  {
   "cell_type": "markdown",
   "id": "20244857",
   "metadata": {},
   "source": [
    "Q. Arithmetic Operations on complex number\n",
    "Take two different complex numbers.\n",
    "Store them in two different variables.\n",
    "Do below operations on them:-\n",
    " Find sum of both numbers\n",
    " Find difference between them\n",
    " Find the product of both numbers.\n",
    " Find value after dividing first num with second number\n",
    " Find the result of the first num to the power of the second number."
   ]
  },
  {
   "cell_type": "code",
   "execution_count": 4,
   "id": "144b8e52",
   "metadata": {},
   "outputs": [],
   "source": [
    "a = 10 + 3j\n",
    "b = 2 + 3j"
   ]
  },
  {
   "cell_type": "code",
   "execution_count": 5,
   "id": "1e034adc",
   "metadata": {},
   "outputs": [
    {
     "data": {
      "text/plain": [
       "(12+6j)"
      ]
     },
     "execution_count": 5,
     "metadata": {},
     "output_type": "execute_result"
    }
   ],
   "source": [
    "a + b"
   ]
  },
  {
   "cell_type": "code",
   "execution_count": 6,
   "id": "45c889fb",
   "metadata": {},
   "outputs": [
    {
     "data": {
      "text/plain": [
       "(8+0j)"
      ]
     },
     "execution_count": 6,
     "metadata": {},
     "output_type": "execute_result"
    }
   ],
   "source": [
    "a - b"
   ]
  },
  {
   "cell_type": "code",
   "execution_count": 7,
   "id": "ec527035",
   "metadata": {},
   "outputs": [
    {
     "data": {
      "text/plain": [
       "(11+36j)"
      ]
     },
     "execution_count": 7,
     "metadata": {},
     "output_type": "execute_result"
    }
   ],
   "source": [
    "a * b"
   ]
  },
  {
   "cell_type": "code",
   "execution_count": 8,
   "id": "29a8aa77",
   "metadata": {},
   "outputs": [
    {
     "data": {
      "text/plain": [
       "(2.230769230769231-1.8461538461538463j)"
      ]
     },
     "execution_count": 8,
     "metadata": {},
     "output_type": "execute_result"
    }
   ],
   "source": [
    "a / b"
   ]
  },
  {
   "cell_type": "code",
   "execution_count": 10,
   "id": "7d729a36",
   "metadata": {},
   "outputs": [
    {
     "data": {
      "text/plain": [
       "(10.544395751452033+44.22697594263065j)"
      ]
     },
     "execution_count": 10,
     "metadata": {},
     "output_type": "execute_result"
    }
   ],
   "source": [
    "a ** b"
   ]
  },
  {
   "cell_type": "markdown",
   "id": "f9fddecc",
   "metadata": {},
   "source": [
    "Q. Equality Operator\n",
    "Take two different complex numbers.\n",
    "Store them in two different variables.\n",
    "Equate them using equality operators (==, !=)\n",
    "Observe the output(return type should be boolean)"
   ]
  },
  {
   "cell_type": "code",
   "execution_count": 13,
   "id": "cae07221",
   "metadata": {},
   "outputs": [],
   "source": [
    "a = 15 + 16j\n",
    "b = 10 + 10j"
   ]
  },
  {
   "cell_type": "code",
   "execution_count": 14,
   "id": "eb5a94ff",
   "metadata": {},
   "outputs": [
    {
     "data": {
      "text/plain": [
       "False"
      ]
     },
     "execution_count": 14,
     "metadata": {},
     "output_type": "execute_result"
    }
   ],
   "source": [
    "a == b"
   ]
  },
  {
   "cell_type": "code",
   "execution_count": 15,
   "id": "d1d7f03c",
   "metadata": {},
   "outputs": [
    {
     "data": {
      "text/plain": [
       "True"
      ]
     },
     "execution_count": 15,
     "metadata": {},
     "output_type": "execute_result"
    }
   ],
   "source": [
    "a != b"
   ]
  },
  {
   "cell_type": "markdown",
   "id": "c8ee8f5d",
   "metadata": {},
   "source": [
    "Q. Logical operators\n",
    "Observe the output of below code\n",
    "Cross check the output manually\n"
   ]
  },
  {
   "cell_type": "code",
   "execution_count": 17,
   "id": "1ef8c641",
   "metadata": {},
   "outputs": [
    {
     "name": "stdout",
     "output_type": "stream",
     "text": [
      "(20+30j)\n"
     ]
    }
   ],
   "source": [
    "print(10+20j and 20+30j) \n"
   ]
  },
  {
   "cell_type": "code",
   "execution_count": 18,
   "id": "34b2c282",
   "metadata": {},
   "outputs": [
    {
     "name": "stdout",
     "output_type": "stream",
     "text": [
      "0j\n"
     ]
    }
   ],
   "source": [
    "print(0+0j and 20+30j)"
   ]
  },
  {
   "cell_type": "code",
   "execution_count": 19,
   "id": "81e3ba85",
   "metadata": {},
   "outputs": [
    {
     "name": "stdout",
     "output_type": "stream",
     "text": [
      "0j\n"
     ]
    }
   ],
   "source": [
    "print(20+30j and 0+0j)\n"
   ]
  },
  {
   "cell_type": "code",
   "execution_count": 20,
   "id": "7abe8108",
   "metadata": {},
   "outputs": [
    {
     "name": "stdout",
     "output_type": "stream",
     "text": [
      "0j\n"
     ]
    }
   ],
   "source": [
    "print(0+0j and 0+0j) "
   ]
  },
  {
   "cell_type": "code",
   "execution_count": 21,
   "id": "cf0ccf6b",
   "metadata": {},
   "outputs": [
    {
     "name": "stdout",
     "output_type": "stream",
     "text": [
      "(10+20j)\n"
     ]
    }
   ],
   "source": [
    "print(10+20j or 20+30j)"
   ]
  },
  {
   "cell_type": "code",
   "execution_count": 22,
   "id": "a0891747",
   "metadata": {},
   "outputs": [
    {
     "name": "stdout",
     "output_type": "stream",
     "text": [
      "(20+30j)\n"
     ]
    }
   ],
   "source": [
    "print(0+0j or 20+30j) "
   ]
  },
  {
   "cell_type": "code",
   "execution_count": 23,
   "id": "9b6c8cc8",
   "metadata": {},
   "outputs": [
    {
     "name": "stdout",
     "output_type": "stream",
     "text": [
      "(20+30j)\n"
     ]
    }
   ],
   "source": [
    "print(20+30j or 0+0j) "
   ]
  },
  {
   "cell_type": "code",
   "execution_count": 24,
   "id": "c6c99387",
   "metadata": {},
   "outputs": [
    {
     "name": "stdout",
     "output_type": "stream",
     "text": [
      "0j\n"
     ]
    }
   ],
   "source": [
    "print(0+0j or 0+0j) "
   ]
  },
  {
   "cell_type": "code",
   "execution_count": 25,
   "id": "8eb324ff",
   "metadata": {},
   "outputs": [
    {
     "name": "stdout",
     "output_type": "stream",
     "text": [
      "False\n"
     ]
    }
   ],
   "source": [
    "print(not 10+20j) "
   ]
  },
  {
   "cell_type": "code",
   "execution_count": 26,
   "id": "efec95ec",
   "metadata": {},
   "outputs": [
    {
     "name": "stdout",
     "output_type": "stream",
     "text": [
      "True\n"
     ]
    }
   ],
   "source": [
    "print(not 0+0j)"
   ]
  },
  {
   "cell_type": "markdown",
   "id": "80926d49",
   "metadata": {},
   "source": [
    "Q. What is the output of the expression inside the print statement.\n",
    "Cross check before running the program."
   ]
  },
  {
   "cell_type": "code",
   "execution_count": 28,
   "id": "618e2424",
   "metadata": {},
   "outputs": [],
   "source": [
    "a = 10+20j\n",
    "b = 10+20j\n"
   ]
  },
  {
   "cell_type": "code",
   "execution_count": 29,
   "id": "7460f358",
   "metadata": {},
   "outputs": [
    {
     "name": "stdout",
     "output_type": "stream",
     "text": [
      "False\n"
     ]
    }
   ],
   "source": [
    "\n",
    "print(a is b) \n"
   ]
  },
  {
   "cell_type": "code",
   "execution_count": 30,
   "id": "ca111f53",
   "metadata": {},
   "outputs": [
    {
     "name": "stdout",
     "output_type": "stream",
     "text": [
      "True\n"
     ]
    }
   ],
   "source": [
    "\n",
    "print(a is not b)"
   ]
  },
  {
   "cell_type": "markdown",
   "id": "255ec72b",
   "metadata": {},
   "source": [
    "Q. Membership operation\n",
    "in, not in are two membership operators and it returns boolean value"
   ]
  },
  {
   "cell_type": "code",
   "execution_count": 31,
   "id": "88c579d3",
   "metadata": {},
   "outputs": [
    {
     "name": "stdout",
     "output_type": "stream",
     "text": [
      "True\n"
     ]
    }
   ],
   "source": [
    "print('2.7' in 'Python2.7.8')\n"
   ]
  },
  {
   "cell_type": "code",
   "execution_count": 32,
   "id": "accedcb6",
   "metadata": {},
   "outputs": [
    {
     "name": "stdout",
     "output_type": "stream",
     "text": [
      "True\n"
     ]
    }
   ],
   "source": [
    "print(10+20j in [10,10.20,10+20j,'Python'])\n"
   ]
  },
  {
   "cell_type": "code",
   "execution_count": 33,
   "id": "3f030b36",
   "metadata": {},
   "outputs": [
    {
     "name": "stdout",
     "output_type": "stream",
     "text": [
      "True\n"
     ]
    }
   ],
   "source": [
    "print(10+20j in (10,10.20,10+20j,'Python')) \n"
   ]
  },
  {
   "cell_type": "code",
   "execution_count": 34,
   "id": "0aee2dfe",
   "metadata": {},
   "outputs": [
    {
     "name": "stdout",
     "output_type": "stream",
     "text": [
      "True\n"
     ]
    }
   ],
   "source": [
    "print(30+40j in {1,20.30,30+40j})\n"
   ]
  },
  {
   "cell_type": "code",
   "execution_count": 35,
   "id": "5fcd3568",
   "metadata": {},
   "outputs": [
    {
     "name": "stdout",
     "output_type": "stream",
     "text": [
      "True\n"
     ]
    }
   ],
   "source": [
    "print(30+40j in {1:100, 2.3:200, 30+40j:300}) \n"
   ]
  },
  {
   "cell_type": "code",
   "execution_count": 36,
   "id": "568d8119",
   "metadata": {},
   "outputs": [
    {
     "name": "stdout",
     "output_type": "stream",
     "text": [
      "True\n"
     ]
    }
   ],
   "source": [
    "print(10 in range(20))"
   ]
  },
  {
   "cell_type": "code",
   "execution_count": null,
   "id": "f763fb58",
   "metadata": {},
   "outputs": [],
   "source": []
  }
 ],
 "metadata": {
  "kernelspec": {
   "display_name": "Python 3 (ipykernel)",
   "language": "python",
   "name": "python3"
  },
  "language_info": {
   "codemirror_mode": {
    "name": "ipython",
    "version": 3
   },
   "file_extension": ".py",
   "mimetype": "text/x-python",
   "name": "python",
   "nbconvert_exporter": "python",
   "pygments_lexer": "ipython3",
   "version": "3.9.7"
  }
 },
 "nbformat": 4,
 "nbformat_minor": 5
}
