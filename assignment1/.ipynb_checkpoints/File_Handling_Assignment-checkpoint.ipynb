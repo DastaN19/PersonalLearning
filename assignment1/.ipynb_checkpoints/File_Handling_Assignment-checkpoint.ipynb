{
 "cells": [
  {
   "cell_type": "code",
   "execution_count": 5,
   "metadata": {},
   "outputs": [
    {
     "name": "stdout",
     "output_type": "stream",
     "text": [
      "Python is a high-level general-purpose programming language. Its design philosophy emphasizes code readability with the use of significant indentation. Its language constructs and object-oriented approach aim to help programmers write clear, logical code for small- and large-scale projects.[29]\n",
      "\n",
      "Python is dynamically-typed and garbage-collected. It supports multiple programming paradigms, including structured (particularly, procedural), object-oriented and functional programming. It is often described as a \"batteries included\" language due to its comprehensive standard library.[30][31]\n",
      "\n",
      "Guido van Rossum began working on Python in the late 1980s, as a successor to the ABC programming language, and first released it in 1991 as Python 0.9.0.[32] Python 2.0 was released in 2000 and introduced new features such as list comprehensions, cycle-detecting garbage collection, reference counting, and Unicode support. Python 3.0, released in 2008, was a major revision that is not completely backward-compatible with earlier versions. Python 2 was discontinued with version 2.7.18 in 2020.[33]"
     ]
    }
   ],
   "source": [
    "# Write a function in python to read the content from \n",
    "# a text file \"poem.txt\" line by line and display the same on screen.\n",
    "ph = open(\"poem.txt\" , 'r') \n",
    "for lines in ph:\n",
    "    print(lines , end ='')\n",
    "ph.close()"
   ]
  },
  {
   "cell_type": "code",
   "execution_count": 5,
   "metadata": {},
   "outputs": [
    {
     "name": "stdout",
     "output_type": "stream",
     "text": [
      "3\n"
     ]
    }
   ],
   "source": [
    "# Write a function in python to count the number of lines \n",
    "# from a text file \"story.txt\" which is not starting with an alphabet \"T\". \n",
    "\n",
    "# Example: If the file \"story.txt\" contains the following lines: A boy is playing there.\n",
    "# There is a playground.\n",
    "# An aeroplane is in the sky.\n",
    "# The sky is pink.\n",
    "# Alphabets and numbers are allowed in the password.\n",
    "# The function should display the output as 3\n",
    "\n",
    "ph = open(\"poem.txt\" , 'r') \n",
    "count = 0\n",
    "for lines in ph:\n",
    "    \n",
    "    if lines[0] == 'T':\n",
    "        count+=1\n",
    "print(count)\n",
    "ph.close()"
   ]
  },
  {
   "cell_type": "code",
   "execution_count": 6,
   "metadata": {},
   "outputs": [
    {
     "name": "stdout",
     "output_type": "stream",
     "text": [
      "6\n"
     ]
    }
   ],
   "source": [
    "# Write a function in Python to count and display the total number of words in a text file.\n",
    "ph = open(\"poem.txt\" , 'r') \n",
    "count = 0\n",
    "for lines in ph:\n",
    "    count+=1\n",
    "print(count)\n",
    "ph.close()"
   ]
  },
  {
   "cell_type": "code",
   "execution_count": 27,
   "metadata": {},
   "outputs": [
    {
     "name": "stdout",
     "output_type": "stream",
     "text": [
      "5\n"
     ]
    }
   ],
   "source": [
    "# Write a function in Python to read lines from a text file \"notes.txt\". \n",
    "# Your function should find and display the occurrence of the word \"the\".\n",
    "\n",
    "# For example: If the content of the file is:\n",
    "# \"India is the fastest-growing economy. India is looking for more investments around the globe.The whole world is looking at India as a great market. Most of the Indians can foresee the heights that India is capable of reaching.\"\n",
    "\n",
    "# The output should be 5.\n",
    "def countWord():\n",
    "    ph = open(\"notes.txt\" , 'r') \n",
    "    count = 0\n",
    "    lines = ph.read()\n",
    "    s = lines.split()\n",
    "    for i in s:\n",
    "        if i == 'the' or i == 'The':\n",
    "            count+=1\n",
    "    print(count)\n",
    "    ph.close()\n",
    "countWord()"
   ]
  },
  {
   "cell_type": "code",
   "execution_count": 28,
   "metadata": {},
   "outputs": [
    {
     "name": "stdout",
     "output_type": "stream",
     "text": [
      "16\n"
     ]
    }
   ],
   "source": [
    "# Write a function display_words() in python to read lines from a text file \"story.txt\", \n",
    "# and display those words, which are less than 4 characters.\n",
    "def display_words():\n",
    "    ph = open(\"notes.txt\" , 'r') \n",
    "    count = 0\n",
    "    lines = ph.read()\n",
    "    s = lines.split()\n",
    "    for i in s:\n",
    "        if len(i) < 4:\n",
    "            count+=1\n",
    "    print(count)\n",
    "    ph.close()\n",
    "display_words()"
   ]
  },
  {
   "cell_type": "code",
   "execution_count": 30,
   "metadata": {},
   "outputs": [
    {
     "name": "stdout",
     "output_type": "stream",
     "text": [
      "3\n"
     ]
    }
   ],
   "source": [
    "# Write a function in Python to count the words \"this\" and \"these\" present in a text file \"article.txt\". \n",
    "# [Note that the words \"this\" and \"these\" are complete words] \n",
    "def countWord():\n",
    "    ph = open(\"notes.txt\" , 'r') \n",
    "    count = 0\n",
    "    lines = ph.read()\n",
    "    s = lines.split()\n",
    "    for i in s:\n",
    "        if i == 'this' or i == 'These' or i== 'This' or i == 'these':\n",
    "            count+=1\n",
    "    print(count)\n",
    "    ph.close()\n",
    "countWord()"
   ]
  },
  {
   "cell_type": "code",
   "execution_count": 31,
   "metadata": {},
   "outputs": [
    {
     "name": "stdout",
     "output_type": "stream",
     "text": [
      "8\n"
     ]
    }
   ],
   "source": [
    "# Write a function in Python to count words in a text file those are ending with alphabet \"e\"\n",
    "\n",
    "def countwords():\n",
    "    ph = open(\"notes.txt\" , 'r') \n",
    "    count = 0\n",
    "    lines = ph.read()\n",
    "    s = lines.split()\n",
    "    for i in s:\n",
    "        if i[-1] == 'e':\n",
    "            count+=1\n",
    "    print(count)\n",
    "    ph.close()\n",
    "countwords()"
   ]
  },
  {
   "cell_type": "code",
   "execution_count": 33,
   "metadata": {},
   "outputs": [
    {
     "name": "stdout",
     "output_type": "stream",
     "text": [
      "7\n"
     ]
    }
   ],
   "source": [
    "# Write a function in Python to count uppercase character in a text file.\n",
    "def countwords():\n",
    "    ph = open(\"notes.txt\" , 'r') \n",
    "    count = 0\n",
    "    lines = ph.read()\n",
    "    s = lines.split()\n",
    "    for i in s:\n",
    "        if i[0].isupper():\n",
    "            count+=1\n",
    "    print(count)\n",
    "    ph.close()\n",
    "countwords()"
   ]
  },
  {
   "cell_type": "code",
   "execution_count": 39,
   "metadata": {},
   "outputs": [
    {
     "name": "stdout",
     "output_type": "stream",
     "text": [
      "T#H#E# #W#O#R#L#D# #I#S# #R#O#U#N#D#"
     ]
    }
   ],
   "source": [
    "# A text file named \"matter.txt\" contains some text, which needs to be displayed such that \n",
    "# every next character is separated by a symbol \"#\". \n",
    "# Write a function definition for hash_display() in Python that would display \n",
    "# the entire content of the file matter.txt in the desired format.\n",
    "\n",
    "# Example :\n",
    "# If the file matter.txt has the following content stored in it :\n",
    "# THE WORLD IS ROUND\n",
    "\n",
    "# The function hash_display() should display the following content :\n",
    "# T#H#E# #W#O#R#L#D# #I#S# #R#O#U#N#D#\n",
    "\n",
    "def count_hash():\n",
    "    ph = open(\"matter.txt\",\"r\")\n",
    "    words = ph.read()\n",
    "    for i in words:\n",
    "        print(i, end=\"#\")\n",
    "\n",
    "    ph.close()\n",
    "\n",
    "count_hash()\n"
   ]
  },
  {
   "cell_type": "code",
   "execution_count": 2,
   "metadata": {},
   "outputs": [
    {
     "name": "stdout",
     "output_type": "stream",
     "text": [
      "WELL, THIS IS A WORD BY ITSELF. YOU COULD STRETCH THIS TO BE A SENTENCE\n",
      "The function ITOI() should display the following content:\n",
      "WELL, THIS IS A WORD BY ITSELF. YOU COULD STRETCH THIS TO BE A SENTENCE"
     ]
    }
   ],
   "source": [
    "# Aditi has used a text editing software to type some text. After saving the article as WORDS.TXT, \n",
    "# she realised that she has wrongly typed alphabet J in place of alphabet I everywhere in the article.\n",
    "# Write a function definition for JTOI() in Python that would display the corrected version of entire content \n",
    "# of the file WORDS.TXT with all the alphabets \"J\" to be displayed as an alphabet \"I\" on screen.\n",
    "\n",
    "# Note: Assuming that WORD.TXT does not contain any J alphabet otherwise.\n",
    "\n",
    "# Example:\n",
    "# If Aditi has stored the following content in the file WORDS.TXT:\n",
    "# WELL, THJS JS A WORD BY JTSELF. YOU COULD STRETCH THJS TO BE A SENTENCE\n",
    "# The function JTOI() should display the following content:\n",
    "# WELL, THIS IS A WORD BY ITSELF. YOU COULD STRETCH THIS TO BE A SENTENCE\n",
    "\n",
    "def JTOI():\n",
    "    ph = open(\"word.txt\",\"r\")\n",
    "    words = ph.read()\n",
    "    for i in words:\n",
    "        if i == 'J':\n",
    "            print('I', end=\"\")\n",
    "        else :\n",
    "            print(i , end ='')\n",
    "\n",
    "    ph.close()\n",
    "    \n",
    "    \n",
    "JTOI()"
   ]
  },
  {
   "cell_type": "code",
   "execution_count": 4,
   "metadata": {},
   "outputs": [
    {
     "name": "stdout",
     "output_type": "stream",
     "text": [
      "A or a: 4\n",
      "M or m: 2\n"
     ]
    }
   ],
   "source": [
    "# Write a function AMCount() in Python, which should read each character of a text file STORY.TXT, \n",
    "# should count and display the occurance of alphabets A and M (including small cases a and m too).\n",
    "# For Example:\n",
    "# If the file content is as follows:\n",
    "# Updated information\n",
    "# As simplified by official websites.\n",
    "# The EUCount() function should display the output as:\n",
    "# A or a:4\n",
    "# M or m :2\n",
    "\n",
    "def AMcount():\n",
    "    ph = open(\"story.txt\" , 'r') \n",
    "    count1 = 0\n",
    "    count2 = 0\n",
    "    lines = ph.read()\n",
    "    \n",
    "    for i in lines:\n",
    "        if i == 'a' or i == 'A':\n",
    "            count1+=1\n",
    "        if i== 'm' or i == 'M':\n",
    "            count2 += 1\n",
    "    print(f'A or a: {count1}')\n",
    "    print(f'M or m: {count2}')\n",
    "    ph.close()\n",
    "AMcount()"
   ]
  },
  {
   "cell_type": "code",
   "execution_count": 6,
   "metadata": {},
   "outputs": [],
   "source": [
    "# A binary file \"Book.dat\" has structure [BookNo, Book_Name, Author, Price].\n",
    "# i. Write a user defined function createFile() to input data for a record and add to Book.dat.\n",
    "# ii. Write a function countRec(Author) in Python which accepts the Author name as parameter \n",
    "# and count and return number of books by the given Author are stored in the binary file \"Book.dat\"\n",
    "import pickle\n",
    "def createFile():\n",
    "    ph = open(\"book.dat\",\"ab\")\n",
    "    BookNo = int(input(\"Enter book number: \"))\n",
    "    Book_Name = input(\"Enter book Name: \")\n",
    "    Author =input(\"Enter author: \")\n",
    "    Price = int(input(\"Enter price: \"))\n",
    "    rec = [BookNo, Book_Name, Author, Price]\n",
    "    pickle.dump(rec, ph)\n",
    "    ph.close()\n",
    "    \n",
    "def countRec(Author):\n",
    "    ph = open(\"book.dat\",\"rb\")\n",
    "    count = 0\n",
    "    try:\n",
    "        while True:\n",
    "            rec = pickle.load(ph)\n",
    "            if rec[2]==Author:\n",
    "                count+=1\n",
    "    except EOFError:\n",
    "        pass\n",
    "    return count\n",
    "    file.close()\n",
    "    \n",
    "createFile()\n",
    "Author = input('Enter author name to search: ')\n",
    "n = countRec(Author)\n",
    "print(\"No of books are\",n)"
   ]
  },
  {
   "cell_type": "code",
   "execution_count": 7,
   "metadata": {},
   "outputs": [],
   "source": [
    "# A binary file \"STUDENT.DAT\" has structure (admission_number, Name, Percentage). \n",
    "# Write a function count_rec() in Python that would read contents of the file \"STUDENT.DAT\" \n",
    "# and display the details of those students whose percentage is above 75. \n",
    "# Also display number of students scoring above 75%\n",
    "import pickle\n",
    "def count_rec():\n",
    "    ph = open(\"student.dat\",\"rb\")\n",
    "    count = 0\n",
    "    try:\n",
    "        while True:\n",
    "            rec = pickle.load(ph)\n",
    "            if rec[2] > 75:\n",
    "                print(rec)\n",
    "                count+=1\n",
    "    except EOFError:\n",
    "        pass\n",
    "    print('No of students having more than 75% are', count)\n",
    "    ph.close()"
   ]
  },
  {
   "cell_type": "code",
   "execution_count": 11,
   "metadata": {},
   "outputs": [
    {
     "name": "stdout",
     "output_type": "stream",
     "text": [
      "Enter book number: 2\n",
      "Enter book Name: asdsad\n",
      "Enter price: 5000000\n",
      "Employee details having salary more than 30000\n",
      "{'empcode': 2, 'name': 'asda', 'salary': 300000}\n",
      "{'empcode': 2, 'name': 'asdad', 'salary': 5000000}\n",
      "{'empcode': 2, 'name': 'asdsad', 'salary': 5000000}\n"
     ]
    },
    {
     "data": {
      "text/plain": [
       "0"
      ]
     },
     "execution_count": 11,
     "metadata": {},
     "output_type": "execute_result"
    }
   ],
   "source": [
    "# Given a binary file employee.dat, created using dictionary object having keys: (empcode, name, and salary)\n",
    "\n",
    "# Write a python function that add one more record at the end of file.\n",
    "# Write a python function that display all employee records whose salary is more that 30000\n",
    "import pickle\n",
    "def add_record():\n",
    "    ph = open(\"employee.dat\",\"ab\")\n",
    "    rec = {}\n",
    "    rec['empcode'] = int(input(\"Enter book number: \"))\n",
    "    rec['name'] = input(\"Enter book Name: \")\n",
    "    \n",
    "    rec['salary'] = int(input(\"Enter price: \"))\n",
    "    \n",
    "    pickle.dump(rec, ph)\n",
    "    ph.close()\n",
    "    \n",
    "def search():\n",
    "    ph = open(\"employee.dat\",\"rb\")\n",
    "    count = 0\n",
    "    try:\n",
    "        while True:\n",
    "            rec = pickle.load(ph)\n",
    "            if rec['salary'] > 30000:\n",
    "                print(rec)\n",
    "    except EOFError:\n",
    "        pass\n",
    "    return count\n",
    "    file.close()\n",
    "    \n",
    "add_record()\n",
    "print('Employee details having salary more than 30000')\n",
    "search()\n",
    "\n"
   ]
  },
  {
   "cell_type": "code",
   "execution_count": 12,
   "metadata": {},
   "outputs": [],
   "source": [
    "# Write a function to search and display details of student whose rollno is '1005' \n",
    "# from the binary file student.dat having structure [rollno, name, class and fees].\n",
    "import pickle\n",
    "def search():\n",
    "    ph = open(\"student.dat\",\"rb\")\n",
    "    try:\n",
    "        while True:\n",
    "            rec = pickle.load(ph)\n",
    "            if rec[0] == 1005:\n",
    "                print(rec)\n",
    "    except EOFError:\n",
    "        pass\n",
    "    ph.close()\n",
    "    \n",
    "search()"
   ]
  },
  {
   "cell_type": "code",
   "execution_count": 14,
   "metadata": {},
   "outputs": [],
   "source": [
    "# A binary file school.dat has structure(rollno, name, class, fees)\n",
    "\n",
    "# Write a definition for function total_fees( ) that reads each object of file and calculate \n",
    "# the total fees of students and display the same.\n",
    "\n",
    "def total_fees():\n",
    "    ph = open(\"school.dat\",\"rb\")\n",
    "    try:\n",
    "        total = 0\n",
    "        while True:\n",
    "            rec = pickle.load(ph)\n",
    "            total += rec[3]\n",
    "    except EOFError:\n",
    "        pass\n",
    "    print('Total Fees: ',total)\n",
    "    ph.close()"
   ]
  },
  {
   "cell_type": "code",
   "execution_count": 21,
   "metadata": {},
   "outputs": [
    {
     "name": "stdout",
     "output_type": "stream",
     "text": [
      "Enter code: 3\n",
      "Enter Name: Arnav\n",
      "Enter country: india\n",
      "Enter total runs: 566\n",
      "[12, 'Ankit', 'india', 222]\n",
      "[3, 'Arnav', 'india', 566]\n",
      "the number of players whose name starts with A: None\n",
      "Enter country name to search: india\n",
      "No of players are 2\n"
     ]
    }
   ],
   "source": [
    "# A binary file players.dat, containing records of following list format: [code, name, country and total runs]\n",
    "\n",
    "# 1. Write a python function that display all records where player name starts from 'A'\n",
    "# 2. Write a python function that accept country as an argument and count and display \n",
    "#     the number of players of that country.\n",
    "# 3. Write a python function that add one record at the end of file.\n",
    "\n",
    "import pickle\n",
    "\n",
    "def search():\n",
    "    ph = open(\"players.dat\",\"rb\")\n",
    "    try:\n",
    "        while True:\n",
    "            rec = pickle.load(ph)\n",
    "            if rec[1][0] == 'A':\n",
    "                print(rec)\n",
    "    except EOFError:\n",
    "        pass\n",
    "    ph.close()\n",
    "    \n",
    "def playersCountry(Country):\n",
    "    ph = open(\"players.dat\",\"rb\")\n",
    "    count = 0\n",
    "    try:\n",
    "        while True:\n",
    "            rec = pickle.load(ph)\n",
    "            if rec[2]==Country:\n",
    "                count+=1\n",
    "    except EOFError:\n",
    "        pass\n",
    "    return count\n",
    "    ph.close()\n",
    "    \n",
    "\n",
    "def create():\n",
    "    ph = open(\"players.dat\",\"ab\")\n",
    "    Code = int(input(\"Enter code: \"))\n",
    "    Name = input(\"Enter Name: \")\n",
    "    Country =input(\"Enter country: \")\n",
    "    Runs = int(input(\"Enter total runs: \"))\n",
    "    rec = [Code, Name, Country, Runs]\n",
    "    pickle.dump(rec, ph)\n",
    "    ph.close()\n",
    "    \n",
    "    \n",
    "create()\n",
    "print(\"the number of players whose name starts with A:\",search())\n",
    "Country = input('Enter country name to search: ')\n",
    "print(f\"No of players are {playersCountry(Country)}\")"
   ]
  },
  {
   "cell_type": "code",
   "execution_count": 24,
   "metadata": {
    "ExecuteTime": {
     "end_time": "2021-05-29T10:46:59.140338Z",
     "start_time": "2021-05-29T10:46:59.135100Z"
    }
   },
   "outputs": [],
   "source": [
    "# Given a binary file game.dat, containing records of following list format: [game_name, participants]\n",
    "\n",
    "# Write a function in Python that would read contents from the file game.dat and \n",
    "# creates a file named basket.dat copying only those records from game.dat where the game name is \"Basket Ball\"\n",
    "import pickle\n",
    "def contents(country):\n",
    "    a = open(\"game.dat\",\"rb\")\n",
    "    b = open(\"basket.dat\",\"wb\")\n",
    "\n",
    "    try:\n",
    "        while True:\n",
    "            rec = pickle.load(a)\n",
    "            if rec[0] == \"Basket Ball\":\n",
    "                pickle.dump(rec, b)\n",
    "    except EOFError:\n",
    "        pass\n",
    "    a.close()\n",
    "    b.close()\n"
   ]
  },
  {
   "cell_type": "code",
   "execution_count": null,
   "metadata": {},
   "outputs": [],
   "source": []
  }
 ],
 "metadata": {
  "kernelspec": {
   "display_name": "Python 3 (ipykernel)",
   "language": "python",
   "name": "python3"
  },
  "language_info": {
   "codemirror_mode": {
    "name": "ipython",
    "version": 3
   },
   "file_extension": ".py",
   "mimetype": "text/x-python",
   "name": "python",
   "nbconvert_exporter": "python",
   "pygments_lexer": "ipython3",
   "version": "3.9.7"
  }
 },
 "nbformat": 4,
 "nbformat_minor": 2
}
