{
 "cells": [
  {
   "cell_type": "code",
   "execution_count": 1,
   "metadata": {
    "id": "gtlAv2oq9yzd"
   },
   "outputs": [
    {
     "name": "stdout",
     "output_type": "stream",
     "text": [
      "100\n"
     ]
    }
   ],
   "source": [
    "#Write a Python program to find the sum of all elements in a list using loop.\n",
    "#Input:- [10,20,30,40]\n",
    "#Output:- 100\n",
    "\n",
    "my_list = [10,20,30,40]\n",
    "sum = 0\n",
    "for i in my_list:\n",
    "    sum += i\n",
    "print(sum)\n"
   ]
  },
  {
   "cell_type": "code",
   "execution_count": 2,
   "metadata": {
    "id": "gTbA8psa93Y_"
   },
   "outputs": [
    {
     "name": "stdout",
     "output_type": "stream",
     "text": [
      "240000\n"
     ]
    }
   ],
   "source": [
    "#Write a Python program to find the multiplication of all elements in a list using loop.\n",
    "#Input:- [10,20,30,40]\n",
    "#Output:- 240000\n",
    "\n",
    "\n",
    "my_list = [10,20,30,40]\n",
    "mul = 1\n",
    "for i in my_list:\n",
    "    mul *= i\n",
    "print(mul)\n"
   ]
  },
  {
   "cell_type": "code",
   "execution_count": 3,
   "metadata": {
    "id": "XBCrEtLN94Lj"
   },
   "outputs": [
    {
     "name": "stdout",
     "output_type": "stream",
     "text": [
      "2321\n"
     ]
    }
   ],
   "source": [
    "#Write a Python program to find the largest number from a list using loop.\n",
    "#Input:- [10,100,2321, 1,200,2]\n",
    "#Output:- 2321\n",
    "\n",
    "my_list = [10,100,2321, 1,200,2]\n",
    "maxi = my_list[0]\n",
    "for i in my_list:\n",
    "    if i > maxi:\n",
    "        maxi = i\n",
    "print(maxi)\n",
    "\n"
   ]
  },
  {
   "cell_type": "code",
   "execution_count": 4,
   "metadata": {
    "id": "l3paUtbH94Vw"
   },
   "outputs": [
    {
     "name": "stdout",
     "output_type": "stream",
     "text": [
      "1\n"
     ]
    }
   ],
   "source": [
    "#Write a Python program to find the smallest number from a list using loop.\n",
    "#Input:- [10,100,2321, 1,200,2]\n",
    "#Output:- 1\n",
    "\n",
    "my_list = [10,100,2321, 1,200,2]\n",
    "mini = my_list[0]\n",
    "for i in my_list:\n",
    "    if i < mini:\n",
    "        mini = i\n",
    "print(mini)\n"
   ]
  },
  {
   "cell_type": "code",
   "execution_count": 5,
   "metadata": {
    "id": "JTVgy5VD94cE"
   },
   "outputs": [
    {
     "name": "stdout",
     "output_type": "stream",
     "text": [
      "2\n"
     ]
    }
   ],
   "source": [
    "#Write a Python program to count the number of strings having length more than 2 and are palindrome in a list using loop.\n",
    "#Input:- ['ab', 'abc', 'aba', 'xyz', '1991']\n",
    "#Output:- 2\n",
    "\n",
    "my_list = ['ab', 'abc', 'aba', 'xyz', '1991']\n",
    "count = 0\n",
    "for i in my_list:\n",
    "    if i == i[::-1] and len(i) > 2:\n",
    "        count += 1\n",
    "print(count)"
   ]
  },
  {
   "cell_type": "code",
   "execution_count": 8,
   "metadata": {
    "id": "xs-ZGJbJ94gr"
   },
   "outputs": [
    {
     "name": "stdout",
     "output_type": "stream",
     "text": [
      "[1, 2, 9, 10, 65, 80, 100, 298, 483, 9213, 49876]\n"
     ]
    }
   ],
   "source": [
    "#Write a Python program to sort a list in ascending order using loop.\n",
    "#Input:- [100,10,1,298,65,483,49876,2,80,9,9213]\n",
    "#Output:- [1,2,9,10,65,80,100,298,483,9213,49876]\n",
    "\n",
    "my_list = [100,10,1,298,65,483,49876,2,80,9,9213]\n",
    "temp = 0\n",
    "for i in range(0,len(my_list)):\n",
    "    for j in range(i+1 , len(my_list)):\n",
    "        if my_list[i] > my_list[j] :\n",
    "            temp = my_list[i]\n",
    "            my_list[i] = my_list[j]\n",
    "            my_list[j]= temp\n",
    "print(my_list)"
   ]
  },
  {
   "cell_type": "code",
   "execution_count": 15,
   "metadata": {
    "id": "VhKQJizZ94kg"
   },
   "outputs": [
    {
     "name": "stdout",
     "output_type": "stream",
     "text": [
      "[(9, 1), (2, 3), (5, 4), (5, 5), (7, 6), (5, 9)]\n"
     ]
    }
   ],
   "source": [
    "#Write a Python program to get a sorted list in increasing order of last element in each tuple in a given list using loop.\n",
    "#Input:- [(5,4),(9,1),(2,3),(5,9),(7,6),(5,5)]\n",
    "#output:- [(9,1),(2,3),(5,4),(5,5),(7,6),(5,9)]\n",
    "\n",
    "my_list = [(5,4),(9,1),(2,3),(5,9),(7,6),(5,5)]\n",
    "temp = 0\n",
    "for i in range(0,len(my_list)):\n",
    "    for j in range(i+1 , len(my_list)):\n",
    "        if my_list[i][-1] > my_list[j][-1] :\n",
    "            temp = my_list[i]\n",
    "            my_list[i] = my_list[j]\n",
    "            my_list[j]= temp\n",
    "print(my_list)"
   ]
  },
  {
   "cell_type": "code",
   "execution_count": 16,
   "metadata": {
    "id": "YJrCLYp694n_"
   },
   "outputs": [
    {
     "name": "stdout",
     "output_type": "stream",
     "text": [
      "[10, 1, 11, 29, 876, 768, 92]\n"
     ]
    }
   ],
   "source": [
    "#Write a Python program to remove fuplicate element from a list using loop.\n",
    "#Input:- [10,1,11,1,29,876,768,10,11,1,92,29,876]\n",
    "#Output:- [10,1,11,29,876,768,92]\n",
    "\n",
    "my_list = [10,1,11,1,29,876,768,10,11,1,92,29,876]\n",
    "res = []\n",
    "for i in my_list:\n",
    "    if i not in res:\n",
    "        res.append(i)\n",
    "        \n",
    "print(res)\n"
   ]
  },
  {
   "cell_type": "code",
   "execution_count": 20,
   "metadata": {
    "id": "koYe4YCu94rh"
   },
   "outputs": [
    {
     "name": "stdout",
     "output_type": "stream",
     "text": [
      "Enter the list: \n",
      "List is empty\n"
     ]
    }
   ],
   "source": [
    "#Write a Python program to check a list is empty or not?\n",
    "#Input:- []\n",
    "#Output:- List is empty\n",
    "#Input:- [10,20,30]\n",
    "#Output:- List is not empty\n",
    "\n",
    "my_list = list(input('Enter the list: '))\n",
    "if len(my_list) == 0:\n",
    "    print('List is empty')\n",
    "else:\n",
    "    print('List is not empty')\n"
   ]
  },
  {
   "cell_type": "code",
   "execution_count": 21,
   "metadata": {
    "id": "mES1WANa94u5"
   },
   "outputs": [
    {
     "name": "stdout",
     "output_type": "stream",
     "text": [
      "[10, 10.2, (10+20j), 'Python', [10, 20], (10, 20)]\n"
     ]
    }
   ],
   "source": [
    "#Write a Python program to copy a list using loop.\n",
    "#inp_lst = [10,10.20,10+20j, 'Python', [10,20], (10,20)]\n",
    "#out_lst = [10,10.20,10+20j, 'Python', [10,20], (10,20)]\n",
    "\n",
    "my_list = [10,10.20,10+20j, 'Python', [10,20], (10,20)]\n",
    "res = []\n",
    "for i in my_list:\n",
    "    res.append(i)\n",
    "    \n",
    "print(res)\n"
   ]
  },
  {
   "cell_type": "code",
   "execution_count": 23,
   "metadata": {
    "id": "CpBh31WO94yi"
   },
   "outputs": [
    {
     "name": "stdout",
     "output_type": "stream",
     "text": [
      "['How', 'much', 'wood', 'would', 'a', 'woodchuck', 'chuck', 'if', 'could']\n"
     ]
    }
   ],
   "source": [
    "#Write a Python program to find the list of words that are longer than or equal to 4 from a given string.\n",
    "#Input:- 'How much wood would a woodchuck chuck if a woodchuck could chuck wood'\n",
    "#Output:- ['much', 'wood', 'would', 'woodchuck', 'chuck', 'could']\n",
    "#Note:- Duplicate should be avoided.\n",
    "\n",
    "my_str = 'How much wood would a woodchuck chuck if a woodchuck could chuck wood'\n",
    "my_list = my_str.split()\n",
    "res = []\n",
    "for i in my_list:\n",
    "    if i not in res:\n",
    "        res.append(i)\n",
    "        \n",
    "print(res)\n"
   ]
  },
  {
   "cell_type": "code",
   "execution_count": 13,
   "metadata": {
    "id": "YVfj0fgZ9416"
   },
   "outputs": [
    {
     "name": "stdout",
     "output_type": "stream",
     "text": [
      "Enter the first list items : 10,20,'Python', 10.20, 10+20j, [10,20,30], (10,20,30)\n",
      "Enter the second list items : (10,20,30),1,20+3j,100.2, 10+20j, [10,20,30],'Python'\n",
      "True\n"
     ]
    }
   ],
   "source": [
    "#Write a Python program which takes two list as input and returns True if they have at least 3 common elements.\n",
    "#inp_lst1 = [10,20,'Python', 10.20, 10+20j, [10,20,30], (10,20,30)]\n",
    "#inp_lst2 = [(10,20,30),1,20+3j,100.2, 10+20j, [10,20,30],'Python']\n",
    "#Output:- True\n",
    "\n",
    "inp_lst1 = []\n",
    "inp_lst1 = [item for item in input(\"Enter the first list items : \").split(',')]\n",
    "inp_lst2 = []\n",
    "inp_lst2 = [item for item in input(\"Enter the second list items : \").split(',')]\n",
    "count = 0\n",
    "for i in inp_lst1:\n",
    "    for j in inp_lst2:\n",
    "        if i == j:\n",
    "            count+=1\n",
    "if count >= 3:\n",
    "    print(True)\n",
    "else:\n",
    "    print(False)"
   ]
  },
  {
   "cell_type": "code",
   "execution_count": 9,
   "metadata": {
    "id": "7vwc3pjR945O"
   },
   "outputs": [
    {
     "name": "stdout",
     "output_type": "stream",
     "text": [
      "[[0, 0, 0, 0], [0, 1, 2, 3], [0, 2, 4, 6], [0, 3, 6, 9]]\n"
     ]
    }
   ],
   "source": [
    "#Write a Python program to create a 4X4 2D matrix with below elements using loop and list comprehension both.\n",
    "#Output:- [[0,0,0,0],[0,1,2,3],[0,2,4,6],[0,3,6,9]]\n",
    "\n",
    "rows , cols = (4,4)\n",
    "my_list=[]\n",
    "for i in range(rows):\n",
    "    col = []\n",
    "    for j in range(cols):\n",
    "        col.append(i*j)\n",
    "    my_list.append(col)\n",
    "print(my_list)"
   ]
  },
  {
   "cell_type": "code",
   "execution_count": 3,
   "metadata": {
    "id": "Pxafor84948b"
   },
   "outputs": [
    {
     "name": "stdout",
     "output_type": "stream",
     "text": [
      "[[[0, 0, 0, 0, 0, 0], [0, 0, 0, 0, 0, 0], [0, 0, 0, 0, 0, 0], [0, 0, 0, 0, 0, 0]], [[0, 0, 0, 0, 0, 0], [1, 1, 1, 1, 1, 1], [2, 2, 2, 2, 2, 2], [3, 3, 3, 3, 3, 3]], [[0, 0, 0, 0, 0, 0], [2, 2, 2, 2, 2, 2], [4, 4, 4, 4, 4, 4], [6, 6, 6, 6, 6, 6]]]\n"
     ]
    }
   ],
   "source": [
    "#Write a Python program to create a 3X4X6 3D matrix wiith below elements using loop\n",
    "#Output:- \n",
    "# [\n",
    "#     [[0,0,0,0,0,0],[0,0,0,0,0,0],[0,0,0,0,0,0],[0,0,0,0,0,0]],\n",
    "#     [[0,0,0,0,0,0],[1,1,1,1,1,1],[2,2,2,2,2,2],[3,3,3,3,3,3]],\n",
    "#     [[0,0,0,0,0,0],[2,2,2,2,2,2],[4,4,4,4,4,4],[6,6,6,6,6,6]]\n",
    "# ]\n",
    "\n",
    "x , y , z = (3 , 4 , 6)\n",
    "my_list=[]\n",
    "for i in range(0 ,x):\n",
    "    col = []\n",
    "    for j in range(0 ,y):\n",
    "        row = []\n",
    "        for k in range(0 ,z):\n",
    "            row.append(i*j)\n",
    "        col.append(row)\n",
    "    my_list.append(col)\n",
    "print(my_list)\n"
   ]
  },
  {
   "cell_type": "code",
   "execution_count": 11,
   "metadata": {
    "id": "lYNv8gk794_p"
   },
   "outputs": [
    {
     "name": "stdout",
     "output_type": "stream",
     "text": [
      "Enter the list items : 10,21,22,98,87,45,33,1,2,100\n",
      "[21, 87, 45, 33, 1]\n"
     ]
    }
   ],
   "source": [
    "#Write a Python program which takes a list of numbers as input and prints a new list after removing even numbers from it.\n",
    "#Input:- [10,21,22,98,87,45,33,1,2,100]\n",
    "#Output:- [21,87,45,33,1]\n",
    "\n",
    "inp_lst = []\n",
    "inp_lst = [int(item) for item in input(\"Enter the list items : \").split(',')]\n",
    "res = []\n",
    "for i in inp_lst:\n",
    "    if i%2 != 0:\n",
    "        res.append(i)\n",
    "        \n",
    "print(res)\n"
   ]
  },
  {
   "cell_type": "code",
   "execution_count": 14,
   "metadata": {
    "id": "3BaCb-rB95B7"
   },
   "outputs": [
    {
     "name": "stdout",
     "output_type": "stream",
     "text": [
      "Enter the list items : 10,21,22,98,87,45,33,1,2,100\n",
      "[98, 2, 1, 10, 87, 33, 21, 100, 22, 45]\n"
     ]
    }
   ],
   "source": [
    "#Write a Python program which takes a list from the user and prints it after reshuffling the elements of the list.\n",
    "#Input:- [10,21,22,98,87,45,33,1,2,100]\n",
    "#Output:- [1,87,21,10,33,2,100,45,98,22] (It may be any randon list but with same elements)\n",
    "import random \n",
    "\n",
    "inp_lst = []\n",
    "inp_lst = [int(item) for item in input(\"Enter the list items : \").split(',')]\n",
    "\n",
    "random.shuffle(inp_lst)\n",
    "print(inp_lst)\n",
    "\n"
   ]
  },
  {
   "cell_type": "code",
   "execution_count": 10,
   "metadata": {},
   "outputs": [
    {
     "name": "stdout",
     "output_type": "stream",
     "text": [
      "Enter the list items : 10,21,22,98,87,45,33,1,2,100\n",
      "[98, 45, 33, 100, 2, 10, 87, 1, 22, 21]\n"
     ]
    }
   ],
   "source": [
    "inp_lst = []\n",
    "inp_lst = [int(item) for item in input(\"Enter the list items : \").split(',')]\n",
    "\n",
    "n = len(inp_lst)\n",
    "for i in range(0, n ):\n",
    "    j = random.randint(0 , n-1)\n",
    "    ele = inp_lst.pop(j)\n",
    "    inp_lst.append(ele)\n",
    "    \n",
    "print(inp_lst)"
   ]
  },
  {
   "cell_type": "code",
   "execution_count": null,
   "metadata": {},
   "outputs": [],
   "source": []
  }
 ],
 "metadata": {
  "colab": {
   "name": "List_Assignment.ipynb",
   "provenance": []
  },
  "kernelspec": {
   "display_name": "Python 3 (ipykernel)",
   "language": "python",
   "name": "python3"
  },
  "language_info": {
   "codemirror_mode": {
    "name": "ipython",
    "version": 3
   },
   "file_extension": ".py",
   "mimetype": "text/x-python",
   "name": "python",
   "nbconvert_exporter": "python",
   "pygments_lexer": "ipython3",
   "version": "3.9.7"
  }
 },
 "nbformat": 4,
 "nbformat_minor": 1
}
