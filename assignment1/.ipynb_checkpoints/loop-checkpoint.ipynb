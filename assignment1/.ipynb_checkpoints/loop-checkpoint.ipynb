{
 "cells": [
  {
   "cell_type": "markdown",
   "id": "800f4769",
   "metadata": {},
   "source": [
    "Q. W. A P. which takes one number from 0 to 9 from the user and prints\n",
    "it in the word. And if the word is not from 0 to 9 then\n",
    "it should print that number is outside of the range and program should\n",
    "exit.\n",
    "For exapmple:-\n",
    "input = 1\n",
    "output = one"
   ]
  },
  {
   "cell_type": "code",
   "execution_count": 1,
   "id": "3d4d4f41",
   "metadata": {},
   "outputs": [
    {
     "name": "stdout",
     "output_type": "stream",
     "text": [
      "Enter the number :3\n",
      "Three\n"
     ]
    }
   ],
   "source": [
    "a = int(input('Enter the number :'))\n",
    "\n",
    "if a == 0:\n",
    "    print('Zero')\n",
    "elif a == 1:\n",
    "    print('One')\n",
    "elif a == 2:\n",
    "    print('Two')\n",
    "elif a == 3:\n",
    "    print('Three')\n",
    "elif a == 4:\n",
    "    print('Four')\n",
    "elif a == 5:\n",
    "    print('Five')\n",
    "elif a == 6:\n",
    "    print('Six')\n",
    "elif a == 7:\n",
    "    print('Seven')\n",
    "elif a == 8:\n",
    "    print('Eight')\n",
    "elif a == 9:\n",
    "    print('Nine')\n",
    "else:\n",
    "    print(f'{a} is outside of the range 0 to 9')\n"
   ]
  },
  {
   "cell_type": "markdown",
   "id": "32f10436",
   "metadata": {},
   "source": [
    "Q. W. A P. to implement calculator but the operation to be done and two\n",
    "numbers will be taken as input from user:-\n",
    "Operation console should show below:-\n",
    " Please select any one operation from below:-\n",
    " * To add enter 1\n",
    " * to subtract enter 2\n",
    " * To multiply enter 3\n",
    " * To divide enter 4\n",
    " * To divide and find quotient enter 5\n",
    " * To divide and find remainder enter 6\n",
    " * To divide and find num1 to the power of num2 enter 7\n",
    " * To Come out of the program enter 8"
   ]
  },
  {
   "cell_type": "code",
   "execution_count": 23,
   "id": "bac475a0",
   "metadata": {},
   "outputs": [
    {
     "name": "stdout",
     "output_type": "stream",
     "text": [
      "Enter the first number:2\n",
      "Enter the second number:1\n"
     ]
    }
   ],
   "source": [
    "num1 = int(input('Enter the first number:' ))\n",
    "num2 = int(input('Enter the second number:'))\n"
   ]
  },
  {
   "cell_type": "code",
   "execution_count": 24,
   "id": "39f1ff0d",
   "metadata": {},
   "outputs": [
    {
     "name": "stdout",
     "output_type": "stream",
     "text": [
      "To add enter 1\n",
      "to subtract enter 2\n",
      "To multiply enter 3\n",
      "To divide enter 4\n",
      "To divide and find quotient enter 5\n",
      "To divide and find remainder enter 6\n",
      "To divide and find num1 to the power of num2 enter 7\n",
      "To Come out of the program enter 8\n",
      "enter the operation: 3\n"
     ]
    }
   ],
   "source": [
    "print('To add enter 1')\n",
    "print('to subtract enter 2')\n",
    "print('To multiply enter 3')\n",
    "print('To divide enter 4')\n",
    "print('To divide and find quotient enter 5')\n",
    "print('To divide and find remainder enter 6')\n",
    "print('To divide and find num1 to the power of num2 enter 7')\n",
    "print('To Come out of the program enter 8')\n",
    "\n",
    "op = int(input('enter the operation: '))"
   ]
  },
  {
   "cell_type": "code",
   "execution_count": 26,
   "id": "f8f319c5",
   "metadata": {},
   "outputs": [
    {
     "name": "stdout",
     "output_type": "stream",
     "text": [
      "2\n"
     ]
    }
   ],
   "source": [
    "\n",
    "if op == 1:\n",
    "    print(num1 + num2)\n",
    "elif op == 2:\n",
    "    print(num1 - num2)\n",
    "elif op == 3:\n",
    "    print(num1 * num2)\n",
    "elif op == 4:\n",
    "    print(num1 / num2)\n",
    "elif op == 5:\n",
    "    print(num1 // num2)\n",
    "elif op == 6:\n",
    "    print(num1 % num2)\n",
    "elif op == 7:\n",
    "    print(num1 ** num2)\n",
    "elif op == 8:\n",
    "    print('eXITING.........')\n",
    "else:\n",
    "    print('Invalid option')"
   ]
  },
  {
   "cell_type": "markdown",
   "id": "a35bef82",
   "metadata": {},
   "source": [
    "Q. W A P to check whether a year entered by user is an leap year or not?\n",
    "Check with below input:-\n",
    " leap year:- 2012, 1968, 2004, 1200, 1600,2400\n",
    " Non-lear year:- 1971, 2006, 1700,1800,1900\n"
   ]
  },
  {
   "cell_type": "code",
   "execution_count": 4,
   "id": "5a75ce92",
   "metadata": {},
   "outputs": [
    {
     "name": "stdout",
     "output_type": "stream",
     "text": [
      "Enter the year: 2012\n",
      "2012 is a leap year\n"
     ]
    }
   ],
   "source": [
    "year = int(input('Enter the year: '))\n",
    "\n",
    "if year % 400 == 0 :\n",
    "    print(f'{year} is a leap year')\n",
    "elif (year % 4 == 0) and (year % 100 != 0):\n",
    "    print(f'{year} is a leap year')\n",
    "else:\n",
    "    print(f'{year} is not a leap year')"
   ]
  },
  {
   "cell_type": "markdown",
   "id": "11305858",
   "metadata": {},
   "source": [
    "Q. W A P which takes one number from the user and checks whether it is\n",
    "an even or odd number?, If it even then prints number is\n",
    "even number else prints that number is odd number."
   ]
  },
  {
   "cell_type": "code",
   "execution_count": 6,
   "id": "8972ba1f",
   "metadata": {},
   "outputs": [
    {
     "name": "stdout",
     "output_type": "stream",
     "text": [
      "Enter the number: 10\n",
      "10 is even number\n"
     ]
    }
   ],
   "source": [
    "a = int(input('Enter the number: '))\n",
    "\n",
    "if a % 2 == 0:\n",
    "    print(f'{a} is even number')\n",
    "else:\n",
    "    print(f'{a} is odd number')"
   ]
  },
  {
   "cell_type": "markdown",
   "id": "c3d4eacc",
   "metadata": {},
   "source": [
    "Q. W A P which takes two numbers from the user and prints below output:-\n",
    " 1. num1 is greater than num2 if num1 is greater than num2\n",
    " 2. num1 is smaller than num2 if num1 is smaller than num2\n",
    " 3. num1 is equal to num2 if num1 and num2 are equal\n",
    "Note:- 1. Do this problem using if - else\n",
    " 2. Do this using ternary operato"
   ]
  },
  {
   "cell_type": "code",
   "execution_count": 7,
   "id": "9e92b1cd",
   "metadata": {},
   "outputs": [
    {
     "name": "stdout",
     "output_type": "stream",
     "text": [
      "Enter the number: 5\n",
      "Enter the number: 6\n"
     ]
    }
   ],
   "source": [
    "a = int(input('Enter the number: '))\n",
    "b = int(input('Enter the number: '))\n"
   ]
  },
  {
   "cell_type": "code",
   "execution_count": 8,
   "id": "c02d0fcc",
   "metadata": {},
   "outputs": [
    {
     "name": "stdout",
     "output_type": "stream",
     "text": [
      "5 is smaller than 6\n"
     ]
    }
   ],
   "source": [
    "if a > b:\n",
    "    print(f'{a} is greater than {b}')\n",
    "if a < b:\n",
    "    print(f'{a} is smaller than {b}')\n",
    "if a == b:\n",
    "    print(f'{a} is equal to  {b}')"
   ]
  },
  {
   "cell_type": "code",
   "execution_count": 12,
   "id": "02c1830b",
   "metadata": {},
   "outputs": [
    {
     "name": "stdout",
     "output_type": "stream",
     "text": [
      "6 is greater\n"
     ]
    }
   ],
   "source": [
    "c = a if a > b else b\n",
    "print (f'{c} is greater')"
   ]
  },
  {
   "cell_type": "markdown",
   "id": "43d6a851",
   "metadata": {},
   "source": [
    "Q. W A P which takes three numbers from the user and prints below\n",
    "output:-\n",
    " 1. num1 is greater than num2 and num3 if num1 is greater than num2\n",
    "and num3\n",
    " 2. num2 is greater than num1 and num3 if num2 is greater than num1\n",
    "and num3\n",
    " 3. num3 is greater than num1 and num2 if num3 is greater than num1\n",
    "and num2\n",
    "Note:- 1. Do this problem using if - elif - else\n",
    " 2. Do this using ternary operator\n",
    "a = a if a>b else b\n"
   ]
  },
  {
   "cell_type": "code",
   "execution_count": 13,
   "id": "89c9fca1",
   "metadata": {},
   "outputs": [
    {
     "name": "stdout",
     "output_type": "stream",
     "text": [
      "Enter the number: 2\n",
      "Enter the number: 3\n",
      "Enter the number: 4\n"
     ]
    }
   ],
   "source": [
    "a = int(input('Enter the number: '))\n",
    "b = int(input('Enter the number: '))\n",
    "c = int(input('Enter the number: '))"
   ]
  },
  {
   "cell_type": "code",
   "execution_count": 14,
   "id": "cc362864",
   "metadata": {},
   "outputs": [
    {
     "name": "stdout",
     "output_type": "stream",
     "text": [
      "4 is greater than 2 and 3\n"
     ]
    }
   ],
   "source": [
    "if (a > b) and (a > c):\n",
    "    print(f'{a} is greater than {b} and {c}')\n",
    "elif (b > a) and (b > c):\n",
    "    print(f'{b} is greater than {a} and {c}')\n",
    "elif (c > a) and (c > b):\n",
    "    print(f'{c} is greater than {a} and {b}')\n"
   ]
  },
  {
   "cell_type": "code",
   "execution_count": 30,
   "id": "2eb2e03e",
   "metadata": {},
   "outputs": [
    {
     "name": "stdout",
     "output_type": "stream",
     "text": [
      "4\n"
     ]
    }
   ],
   "source": [
    "a = a if (a > b) and (a > c) else b if (b > c) and (b > a) else c\n",
    "\n",
    "print(a)"
   ]
  },
  {
   "cell_type": "markdown",
   "id": "35d64259",
   "metadata": {},
   "source": [
    "Q. Write a Python program to find the length of the my_str using loop:-\n",
    "Input:- 'Write a Python program to find the length of the my_str'\n",
    "Output:- 55"
   ]
  },
  {
   "cell_type": "code",
   "execution_count": 18,
   "id": "c198a536",
   "metadata": {},
   "outputs": [
    {
     "name": "stdout",
     "output_type": "stream",
     "text": [
      "Enter the string: Write a Python program to find the length of the my_str\n",
      "55\n"
     ]
    }
   ],
   "source": [
    "my_str = input('Enter the string: ')\n",
    "i = 0\n",
    "for l in my_str:\n",
    "    i += 1 \n",
    "print(i)"
   ]
  },
  {
   "cell_type": "markdown",
   "id": "b338fe39",
   "metadata": {},
   "source": [
    "Q. Write a Python program to find the total number of times letter 'p'\n",
    "is appeared in the below string using loop:-\n",
    "Input:- 'peter piper picked a peck of pickled peppers.\\n'\n",
    "Output:- 9"
   ]
  },
  {
   "cell_type": "code",
   "execution_count": 20,
   "id": "86ef0ff8",
   "metadata": {},
   "outputs": [
    {
     "name": "stdout",
     "output_type": "stream",
     "text": [
      "Enter the string: peter piper picked a peck of pickled peppers\n",
      "9\n"
     ]
    }
   ],
   "source": [
    "my_str = input('Enter the string: ')\n",
    "count = 0\n",
    "for p in my_str:\n",
    "    if p == 'p':\n",
    "        count += 1\n",
    "print(count)"
   ]
  },
  {
   "cell_type": "markdown",
   "id": "7c1ff7b2",
   "metadata": {},
   "source": [
    "Q. Write a Python Program, to print all the indexes of all occurences of\n",
    "letter 'p' appeared in the string using loop:-\n",
    "Input:- 'peter piper picked a peck of pickled peppers.'\n",
    "Output:-\n",
    "0\n",
    "6\n",
    "8\n",
    "12\n",
    "21\n",
    "29\n",
    "37\n",
    "39\n",
    "40"
   ]
  },
  {
   "cell_type": "code",
   "execution_count": 28,
   "id": "f4240bb7",
   "metadata": {},
   "outputs": [
    {
     "name": "stdout",
     "output_type": "stream",
     "text": [
      "Enter the string: peter piper picked a peck of pickled peppers\n",
      "0\n",
      "6\n",
      "8\n",
      "12\n",
      "21\n",
      "29\n",
      "37\n",
      "39\n",
      "40\n"
     ]
    }
   ],
   "source": [
    "my_str = input('Enter the string: ')\n",
    "index = 0\n",
    "for p,q in enumerate(my_str):\n",
    "    if q == 'p':\n",
    "        print(p)\n",
    "        \n",
    "        \n"
   ]
  },
  {
   "cell_type": "markdown",
   "id": "0c6db952",
   "metadata": {},
   "source": [
    "Q. Write a python program to find below output using loop:-\n",
    "Input:- 'peter piper picked a peck of pickled peppers.'\n",
    "Output:- ['peter', 'piper', 'picked', 'a', 'peck', 'of', 'pickled',\n",
    "'peppers']\n"
   ]
  },
  {
   "cell_type": "code",
   "execution_count": 43,
   "id": "16a11cfb",
   "metadata": {},
   "outputs": [
    {
     "name": "stdout",
     "output_type": "stream",
     "text": [
      "enter the string: 'peter piper picked a peck of pickled peppers.\n",
      "[\"'peter\", 'piper', 'picked', 'a', 'peck', 'of', 'pickled', 'peppers.']\n"
     ]
    }
   ],
   "source": [
    "my_str = input('enter the string: ')\n",
    "my_list =[]\n",
    "word = ''\n",
    "for i,j in enumerate(my_str):\n",
    "    \n",
    "    if(j != ' '):\n",
    "        word = word + j\n",
    "       \n",
    "    else:\n",
    "        my_list.append(word)\n",
    "        word=''\n",
    "    if(i == len(my_str) - 1):\n",
    "        my_list.append(word)\n",
    "print(my_list)"
   ]
  },
  {
   "cell_type": "markdown",
   "id": "9ce781f6",
   "metadata": {},
   "source": [
    "Q. Write a python program to find below output using loop:-\n",
    "Input:- 'peter piper picked a peck of pickled peppers.'\n",
    "Output:- 'peppers pickled of peck a picked piper peter'\n"
   ]
  },
  {
   "cell_type": "code",
   "execution_count": 35,
   "id": "867efdbe",
   "metadata": {},
   "outputs": [],
   "source": [
    "my_list = my_str.split()"
   ]
  },
  {
   "cell_type": "code",
   "execution_count": 36,
   "id": "c8874252",
   "metadata": {},
   "outputs": [
    {
     "name": "stdout",
     "output_type": "stream",
     "text": [
      "peppers pickled of peck a picked piper 'peter\n"
     ]
    }
   ],
   "source": [
    "my_list1 = []\n",
    "for i,j in enumerate(my_list):\n",
    "    my_list1.append(my_list[len(my_list) - i -1])\n",
    "   \n",
    "    \n",
    "my_str1 = ' '.join(my_list1)\n",
    "\n",
    "print(my_str1)"
   ]
  },
  {
   "cell_type": "code",
   "execution_count": 37,
   "id": "7195e7ac",
   "metadata": {},
   "outputs": [
    {
     "name": "stdout",
     "output_type": "stream",
     "text": [
      "enter the string: 'peter piper picked a peck of pickled peppers\n",
      "sreppep delkcip fo kcep a dekcip repip retep'\n"
     ]
    }
   ],
   "source": [
    "my_str = input('enter the string: ')\n",
    "print(my_str[::-1])"
   ]
  },
  {
   "cell_type": "code",
   "execution_count": 40,
   "id": "7bced38b",
   "metadata": {},
   "outputs": [
    {
     "name": "stdout",
     "output_type": "stream",
     "text": [
      "sreppep delkcip fo kcep a dekcip repip retep'\n"
     ]
    }
   ],
   "source": [
    "st = ''\n",
    "for i in my_str:\n",
    "    st = i + st\n",
    "print(st)"
   ]
  },
  {
   "cell_type": "markdown",
   "id": "5484d0f8",
   "metadata": {},
   "source": [
    "Q. Write a python program to find below output using loop:-\n",
    "Input:- 'peter piper picked a peck of pickled peppers.'\n",
    "Output:- 'retep repip dekcip a kcep fo delkcip sreppep'"
   ]
  },
  {
   "cell_type": "code",
   "execution_count": 45,
   "id": "5fc653c2",
   "metadata": {},
   "outputs": [
    {
     "name": "stdout",
     "output_type": "stream",
     "text": [
      "enter the string: peter piper picked a peck of pickled peppers\n"
     ]
    },
    {
     "data": {
      "text/plain": [
       "['peter', 'piper', 'picked', 'a', 'peck', 'of', 'pickled', 'peppers']"
      ]
     },
     "execution_count": 45,
     "metadata": {},
     "output_type": "execute_result"
    }
   ],
   "source": [
    "my_str = input('enter the string: ')\n",
    "my_list = my_str.split()\n",
    "my_list"
   ]
  },
  {
   "cell_type": "code",
   "execution_count": 62,
   "id": "9f879ff7",
   "metadata": {},
   "outputs": [
    {
     "name": "stdout",
     "output_type": "stream",
     "text": [
      "retep repip dekcip a kcep fo delkcip sreppep\n"
     ]
    }
   ],
   "source": [
    "st = ''\n",
    "my_list2 = []\n",
    "for i in my_list:\n",
    "    for j in i:\n",
    "        st = j + st\n",
    "    my_list2.append(st)\n",
    "    st = ''\n",
    "    \n",
    "\n",
    "res = ' '.join(my_list2)\n",
    "print(res)"
   ]
  },
  {
   "cell_type": "markdown",
   "id": "e78ced54",
   "metadata": {},
   "source": [
    "Q. Write a python program to find below output using loop:-\n",
    "Input:- 'peter piper picked a peck of pickled peppers.'\n",
    "Output:- 'Peter Piper Picked A Peck Of Pickled Peppers'\n"
   ]
  },
  {
   "cell_type": "code",
   "execution_count": 13,
   "id": "18fd1514",
   "metadata": {},
   "outputs": [
    {
     "name": "stdout",
     "output_type": "stream",
     "text": [
      "enter the string: peter piper picked a peck of pickled peppers\n",
      "Peter Piper Picked A Peck Of Pickled Peppers\n"
     ]
    }
   ],
   "source": [
    "my_str = input('enter the string: ')\n",
    "my_list = my_str.split()\n",
    "s=''\n",
    "my_list2 = []\n",
    "res = ''\n",
    "for s in my_list:\n",
    "    my_list2.append(s.capitalize())\n",
    "res = ' '.join(my_list2)\n",
    "print(res)"
   ]
  },
  {
   "cell_type": "markdown",
   "id": "72e0eb0f",
   "metadata": {},
   "source": [
    "Q. Write a python program to find below output using loop:-\n",
    "Input:- 'Peter Piper Picked A Peck Of Pickled Peppers.'\n",
    "Output:- 'Peter piper picked a peck of pickled peppers'"
   ]
  },
  {
   "cell_type": "code",
   "execution_count": 20,
   "id": "879d104b",
   "metadata": {},
   "outputs": [
    {
     "name": "stdout",
     "output_type": "stream",
     "text": [
      "enter the string: Peter Piper Picked A Peck Of Pickled Peppers.\n",
      "Peter piper picked a peck of pickled peppers.\n"
     ]
    }
   ],
   "source": [
    "my_str = input('enter the string: ')\n",
    "print(my_str.capitalize())\n"
   ]
  },
  {
   "cell_type": "markdown",
   "id": "c56fd0b3",
   "metadata": {},
   "source": [
    "Q. Write a python program to implement index method using loop. If\n",
    "sub_str is found in my_str then it will print the index\n",
    "of first occurrence of first character of matching string in my_str:-\n",
    "Input:- my_str = 'Peter Piper Picked A Peck Of Pickled Peppers.',\n",
    "sub_str = 'Pickl'\n",
    "Output:- 29"
   ]
  },
  {
   "cell_type": "code",
   "execution_count": 8,
   "id": "9503de6f",
   "metadata": {},
   "outputs": [
    {
     "name": "stdout",
     "output_type": "stream",
     "text": [
      "enter the string: Peter Piper Picked A Peck Of Pickled Peppers\n",
      "enter the substring: Pickl\n",
      "29\n"
     ]
    }
   ],
   "source": [
    "my_str = input('enter the string: ')\n",
    "my_sub = input('enter the substring: ')\n",
    "my_str.find(my_sub)\n",
    "\n",
    "for i in range(len(my_str)):\n",
    "    if my_str[i:i+5] == my_sub:\n",
    "        print(i)\n",
    "        break\n",
    "\n"
   ]
  },
  {
   "cell_type": "markdown",
   "id": "840b18b5",
   "metadata": {},
   "source": [
    "Q. Write a python program to implement replace method using loop. If\n",
    "sub_str is found in my_str then it will replace the first\n",
    "occurrence of sub_str with new_str else it will will print sub_str not\n",
    "found:-\n",
    "Input:- my_str = 'Peter Piper Picked A Peck Of Pickled Peppers.',\n",
    "sub_str = 'Peck', new_str = 'Pack'\n",
    "Output:- 'Peter Piper Picked A Pack Of Pickled Peppers.'\n"
   ]
  },
  {
   "cell_type": "code",
   "execution_count": 4,
   "id": "a012946a",
   "metadata": {},
   "outputs": [
    {
     "name": "stdout",
     "output_type": "stream",
     "text": [
      "enter the string: Peter Piper Picked A Peck Of Pickled Peppers\n",
      "enter the substring: Peck\n",
      "enter the new substring: Pack\n"
     ]
    }
   ],
   "source": [
    "my_str = input('enter the string: ')\n",
    "my_list = my_str.split()\n",
    "my_sub = input('enter the substring: ')\n",
    "new_str = input('enter the new substring: ')\n"
   ]
  },
  {
   "cell_type": "code",
   "execution_count": null,
   "id": "e5cdab3c",
   "metadata": {},
   "outputs": [],
   "source": [
    "res = ''\n",
    "for word,j in enumerate(my_list):\n",
    "    if j == my_sub:\n",
    "        my_list[word] = new_str\n",
    "        \n",
    "res = ' '.join(my_list)\n",
    "print(res)"
   ]
  },
  {
   "cell_type": "markdown",
   "id": "3696d2e9",
   "metadata": {},
   "source": [
    "Q. Write a python program to find below output (implements rjust and\n",
    "ljust) using loop:-\n",
    "Input:- 'Peter Piper Picked A Peck Of Pickled Peppers.', sub_str =\n",
    "'Peck',\n",
    "Output:- '*********************Peck********************'"
   ]
  },
  {
   "cell_type": "code",
   "execution_count": 46,
   "id": "0c79f4ac",
   "metadata": {},
   "outputs": [
    {
     "name": "stdout",
     "output_type": "stream",
     "text": [
      "enter the string: Peter Piper Picked A Peck Of Pickled Peppers\n",
      "enter the substring: Peck\n",
      "* * * * Peck * * *\n"
     ]
    }
   ],
   "source": [
    "my_str = input('enter the string: ')\n",
    "my_sub = input('enter the substring: ')\n",
    "\n"
   ]
  },
  {
   "cell_type": "code",
   "execution_count": 63,
   "id": "9b67e88b",
   "metadata": {},
   "outputs": [
    {
     "name": "stdout",
     "output_type": "stream",
     "text": [
      "*********************Peck**********************\n"
     ]
    }
   ],
   "source": [
    "\n",
    "my_list = []\n",
    "for i,j in enumerate(my_str):\n",
    "    if my_str[i:i + len(my_sub)] == my_sub:\n",
    "        my_list.append(my_str[i:i + len(my_sub)])\n",
    "    else:\n",
    "        my_list.append('*')\n",
    "str2 = ''.join(my_list)\n",
    "print(str2)"
   ]
  },
  {
   "cell_type": "markdown",
   "id": "2f4d0c12",
   "metadata": {},
   "source": [
    "Q. Write a python program to find below output using loop:-\n",
    "Input:- 'This is Python class', sep = ' is',\n",
    "Output:- ['This', 'is', 'Python class']"
   ]
  },
  {
   "cell_type": "code",
   "execution_count": 65,
   "id": "18580c0d",
   "metadata": {},
   "outputs": [
    {
     "name": "stdout",
     "output_type": "stream",
     "text": [
      "enter the string: 'This is Python class\n",
      "enter the separator: is\n"
     ]
    }
   ],
   "source": [
    "my_str = input('enter the string: ')\n",
    "my_sep = input('enter the separator: ')"
   ]
  },
  {
   "cell_type": "code",
   "execution_count": 76,
   "id": "ff7b014a",
   "metadata": {},
   "outputs": [
    {
     "name": "stdout",
     "output_type": "stream",
     "text": [
      "[\"'This\", 'is', 'Python class']\n"
     ]
    }
   ],
   "source": [
    "my_list = []\n",
    "for i,j in enumerate(my_str):\n",
    "    if my_str[i:i + len(my_sep)] == my_sep and my_str[i-1] == ' ':\n",
    "        my_list.append(my_str[:i-1])\n",
    "        my_list.append(my_str[i:i + len(my_sep)])\n",
    "        my_list.append(my_str[i + len(my_sep)+1:])\n",
    "        break\n",
    "print(my_list)"
   ]
  },
  {
   "cell_type": "code",
   "execution_count": null,
   "id": "5adcb7c2",
   "metadata": {},
   "outputs": [],
   "source": []
  }
 ],
 "metadata": {
  "kernelspec": {
   "display_name": "Python 3 (ipykernel)",
   "language": "python",
   "name": "python3"
  },
  "language_info": {
   "codemirror_mode": {
    "name": "ipython",
    "version": 3
   },
   "file_extension": ".py",
   "mimetype": "text/x-python",
   "name": "python",
   "nbconvert_exporter": "python",
   "pygments_lexer": "ipython3",
   "version": "3.9.7"
  }
 },
 "nbformat": 4,
 "nbformat_minor": 5
}
