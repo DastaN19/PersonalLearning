{
 "cells": [
  {
   "cell_type": "markdown",
   "id": "ebd1f792",
   "metadata": {},
   "source": [
    "Write a Python program to print the NumPy \n",
    "version in your system."
   ]
  },
  {
   "cell_type": "code",
   "execution_count": 1,
   "id": "b6908c22",
   "metadata": {},
   "outputs": [
    {
     "name": "stdout",
     "output_type": "stream",
     "text": [
      "<module 'numpy.version' from 'D:\\\\anaconda\\\\lib\\\\site-packages\\\\numpy\\\\version.py'>\n"
     ]
    }
   ],
   "source": [
    "import numpy as np\n",
    "print(np.version)"
   ]
  },
  {
   "cell_type": "markdown",
   "id": "ff6b3ad7",
   "metadata": {},
   "source": [
    "Write a Python program to reverse an array \n",
    "(first element becomes last)"
   ]
  },
  {
   "cell_type": "code",
   "execution_count": 5,
   "id": "392c6e8e",
   "metadata": {},
   "outputs": [
    {
     "name": "stdout",
     "output_type": "stream",
     "text": [
      "[5 4 3 2 1]\n"
     ]
    }
   ],
   "source": [
    "a = np.array([1,2,3,4,5])\n",
    "res = a[::-1]\n",
    "print(res)"
   ]
  },
  {
   "cell_type": "markdown",
   "id": "126a33a8",
   "metadata": {},
   "source": [
    "Write a Python program to convert a list and \n",
    "tuple into arrays"
   ]
  },
  {
   "cell_type": "code",
   "execution_count": 10,
   "id": "98336762",
   "metadata": {},
   "outputs": [
    {
     "name": "stdout",
     "output_type": "stream",
     "text": [
      "<class 'list'>\n",
      "<class 'tuple'>\n"
     ]
    }
   ],
   "source": [
    "a = [1,2,3,4,5]\n",
    "print(type(a))\n",
    "b = (5,6,7,8)\n",
    "print(type(b))"
   ]
  },
  {
   "cell_type": "code",
   "execution_count": 11,
   "id": "576d0934",
   "metadata": {},
   "outputs": [
    {
     "name": "stdout",
     "output_type": "stream",
     "text": [
      "[1 2 3 4 5]\n",
      "<class 'numpy.ndarray'>\n",
      "[5 6 7 8]\n",
      "<class 'numpy.ndarray'>\n"
     ]
    }
   ],
   "source": [
    "arr1 = np.array(a)\n",
    "arr2 = np.array(b)\n",
    "print(arr1)\n",
    "print(type(arr1))\n",
    "print(arr2)\n",
    "print(type(arr2))"
   ]
  },
  {
   "cell_type": "markdown",
   "id": "973259e8",
   "metadata": {},
   "source": [
    "Write a Python program to find common values \n",
    "between two arrays.\n"
   ]
  },
  {
   "cell_type": "code",
   "execution_count": 16,
   "id": "10dc8165",
   "metadata": {},
   "outputs": [
    {
     "name": "stdout",
     "output_type": "stream",
     "text": [
      "5\n"
     ]
    }
   ],
   "source": [
    "arr1 = np.array([1,2,3,4,5])\n",
    "arr2 = np.array([5,6,7,8])\n",
    "\n",
    "for i in arr1:\n",
    "    for j in arr2:\n",
    "        if i == j:\n",
    "            print(j)\n",
    "            break\n",
    "            \n"
   ]
  },
  {
   "cell_type": "markdown",
   "id": "bbc66850",
   "metadata": {},
   "source": [
    "Write a Python program compare two arrays \n",
    "using numpy"
   ]
  },
  {
   "cell_type": "code",
   "execution_count": 20,
   "id": "0f3d7099",
   "metadata": {},
   "outputs": [
    {
     "name": "stdout",
     "output_type": "stream",
     "text": [
      "arr1 > arr2 : [False False False False]\n",
      "arr1 >= arr2 : [False False False False]\n",
      "arr1 < arr2 : [ True  True  True  True]\n",
      "arr1 <= arr2 : [ True  True  True  True]\n"
     ]
    }
   ],
   "source": [
    "arr1 = np.array([1,2,3,5])\n",
    "arr2 = np.array([5,6,7,8])\n",
    "print(f'arr1 > arr2 : {np.greater(arr1,arr2)}')\n",
    "print(f'arr1 >= arr2 : {np.greater_equal(arr1,arr2)}')\n",
    "print(f'arr1 < arr2 : {np.less(arr1,arr2)}')\n",
    "print(f'arr1 <= arr2 : {np.less_equal(arr1,arr2)}')"
   ]
  },
  {
   "cell_type": "markdown",
   "id": "bf5a5d94",
   "metadata": {},
   "source": [
    "Write a Python program to change the \n",
    "dimension of an array.\n"
   ]
  },
  {
   "cell_type": "code",
   "execution_count": 25,
   "id": "9c66dbac",
   "metadata": {},
   "outputs": [
    {
     "name": "stdout",
     "output_type": "stream",
     "text": [
      "[[1 2]\n",
      " [3 5]]\n"
     ]
    }
   ],
   "source": [
    "arr = np.array([1,2,3,5])\n",
    "arr.shape = (2,2)\n",
    "print(arr)"
   ]
  },
  {
   "cell_type": "markdown",
   "id": "1273cf20",
   "metadata": {},
   "source": [
    "Write a Python program (using numpy) to sum \n",
    "of all the multiples of 3 or 5 below 100"
   ]
  },
  {
   "cell_type": "code",
   "execution_count": 27,
   "id": "afd3abe9",
   "metadata": {},
   "outputs": [
    {
     "name": "stdout",
     "output_type": "stream",
     "text": [
      "2318\n"
     ]
    }
   ],
   "source": [
    "a = np.arange(100)\n",
    "sum1 =0\n",
    "for i in a :\n",
    "    if i%3 == 0 or i%5 == 0:\n",
    "        sum1 += i\n",
    "print(sum1)\n",
    "    "
   ]
  },
  {
   "cell_type": "markdown",
   "id": "83aafa81",
   "metadata": {},
   "source": [
    "Write a Python program to convert a NumPy \n",
    "array into Python list structure."
   ]
  },
  {
   "cell_type": "code",
   "execution_count": 28,
   "id": "2d0e966c",
   "metadata": {},
   "outputs": [
    {
     "name": "stdout",
     "output_type": "stream",
     "text": [
      "[0, 1, 2, 3, 4, 5, 6, 7, 8, 9]\n"
     ]
    }
   ],
   "source": [
    "a = np.arange(10)\n",
    "print(list(a))"
   ]
  },
  {
   "cell_type": "markdown",
   "id": "0f02a847",
   "metadata": {},
   "source": [
    "Write a Python program to how to add an extra \n",
    "column to a numpy array.\n"
   ]
  },
  {
   "cell_type": "code",
   "execution_count": 31,
   "id": "6b53dc2d",
   "metadata": {},
   "outputs": [
    {
     "name": "stdout",
     "output_type": "stream",
     "text": [
      "[[ 1  2  3  5 10]\n",
      " [ 6  7  8  9 11]]\n"
     ]
    }
   ],
   "source": [
    "a = np.array([[1,2,3,5] , [6,7,8,9]])\n",
    "b = np.array([[10],[11]])\n",
    "print(np.append(a,b , axis =1))\n"
   ]
  },
  {
   "cell_type": "markdown",
   "id": "086375c9",
   "metadata": {},
   "source": [
    "Write a Python program to check whether the \n",
    "numpy array is empty or not."
   ]
  },
  {
   "cell_type": "code",
   "execution_count": 32,
   "id": "f6c0e526",
   "metadata": {},
   "outputs": [
    {
     "name": "stdout",
     "output_type": "stream",
     "text": [
      "Array is non empty\n"
     ]
    }
   ],
   "source": [
    "a = np.array([[1,2,3,5] , [6,7,8,9]])\n",
    "if a.size == 0:\n",
    "    print('array is Empty')\n",
    "else:\n",
    "    print('Array is non empty')"
   ]
  },
  {
   "cell_type": "markdown",
   "id": "09f29cd0",
   "metadata": {},
   "source": [
    "Write a Python program to normalize a 3x3 \n",
    "random matrix."
   ]
  },
  {
   "cell_type": "code",
   "execution_count": 47,
   "id": "91daefcb",
   "metadata": {},
   "outputs": [
    {
     "name": "stdout",
     "output_type": "stream",
     "text": [
      "Array:\n",
      " [[0.81173142 0.02364486 0.07252621]\n",
      " [0.58811254 0.49750581 0.72578412]\n",
      " [0.12743565 0.2291539  0.25829407]]\n",
      "Normalised Array:\n",
      "[[       inf 0.         0.0661269 ]\n",
      " [2.52423974 1.50802778 8.16941565]\n",
      " [0.15167533 0.35275826 0.42398512]]\n"
     ]
    }
   ],
   "source": [
    "import warnings\n",
    "warnings.filterwarnings('ignore')\n",
    "\n",
    "\n",
    "a = np.random.random((3,3))\n",
    "print(f'Array:\\n {a}')\n",
    "amin = a.min()\n",
    "amax = a.max()\n",
    "print('Normalised Array:')\n",
    "n= (a-amin)/(amax - a)\n",
    "print(n)"
   ]
  },
  {
   "cell_type": "markdown",
   "id": "56c1ca1e",
   "metadata": {},
   "source": [
    "How to ignore all numpy warnings (not \n",
    "recommended)"
   ]
  },
  {
   "cell_type": "code",
   "execution_count": 33,
   "id": "1a491637",
   "metadata": {},
   "outputs": [],
   "source": [
    "import warnings\n",
    "warnings.filterwarnings('ignore')"
   ]
  },
  {
   "cell_type": "markdown",
   "id": "e0924cd4",
   "metadata": {},
   "source": [
    " How to swap two rows of an array?"
   ]
  },
  {
   "cell_type": "code",
   "execution_count": 58,
   "id": "5911af29",
   "metadata": {},
   "outputs": [
    {
     "name": "stdout",
     "output_type": "stream",
     "text": [
      "Arrray: \n",
      "[[0 1 2]\n",
      " [3 4 5]\n",
      " [6 7 8]]\n",
      "Array after row swap: \n",
      "[[3 4 5]\n",
      " [0 1 2]\n",
      " [6 7 8]]\n"
     ]
    }
   ],
   "source": [
    "a = np.arange(9)\n",
    "a.shape = (3,3)\n",
    "print(f'Arrray: \\n{a}')\n",
    "a[[0,1]] = a[[1,0]]\n",
    "print(f'Array after row swap: \\n{a}')"
   ]
  },
  {
   "cell_type": "markdown",
   "id": "bb3beceb",
   "metadata": {},
   "source": [
    "Compute bootstrapped 95% confidence \n",
    "intervals for the mean of a 1D array X (i.e., \n",
    "resample the elements of an array with \n",
    "replacement N times, compute the mean of \n",
    "each sample, and then compute percentiles \n",
    "over the means).\n"
   ]
  },
  {
   "cell_type": "code",
   "execution_count": null,
   "id": "367ebfda",
   "metadata": {},
   "outputs": [],
   "source": []
  },
  {
   "cell_type": "markdown",
   "id": "afecf030",
   "metadata": {},
   "source": [
    "Python program to create a random vector of \n",
    "size 10 and sort it"
   ]
  },
  {
   "cell_type": "code",
   "execution_count": 5,
   "id": "b4597ce9",
   "metadata": {},
   "outputs": [
    {
     "name": "stdout",
     "output_type": "stream",
     "text": [
      "Array: \n",
      "[0.71476827 0.14262826 0.22328618 0.72305498 0.90317352 0.36442567\n",
      " 0.43820103 0.56368305 0.94825957 0.19883196]\n",
      "sorted array: \n",
      "[0.14262826 0.19883196 0.22328618 0.36442567 0.43820103 0.56368305\n",
      " 0.71476827 0.72305498 0.90317352 0.94825957]\n"
     ]
    }
   ],
   "source": [
    "a = np.random.random(10)\n",
    "print(f'Array: \\n{a}')\n",
    "a.sort()\n",
    "print(f'sorted array: \\n{a}')\n"
   ]
  },
  {
   "cell_type": "markdown",
   "id": "acf694aa",
   "metadata": {},
   "source": [
    "Write a Python program to check two random \n",
    "arrays are equal or not.\n"
   ]
  },
  {
   "cell_type": "code",
   "execution_count": 14,
   "id": "5bbd25c3",
   "metadata": {},
   "outputs": [
    {
     "name": "stdout",
     "output_type": "stream",
     "text": [
      "[0.16456404 0.14285314 0.9430692  0.89833577 0.50742252]\n",
      "[0.52620197 0.7358922  0.63272023 0.08922467 0.95067116]\n",
      "not equal\n",
      "False\n"
     ]
    }
   ],
   "source": [
    "a = np.random.random(5)\n",
    "b = np.random.random(5)\n",
    "count = 0\n",
    "for i in a:\n",
    "    for j in b:\n",
    "        if i == j:\n",
    "            count +=1\n",
    "            \n",
    "print(a)\n",
    "print(b)\n",
    "if count == len(a):\n",
    "    print('equal')\n",
    "else:\n",
    "    print('not equal')\n",
    "    \n",
    "#using allclose\n",
    "print(np.allclose(a,b))"
   ]
  },
  {
   "cell_type": "markdown",
   "id": "0372366b",
   "metadata": {},
   "source": [
    "Write a Python program to add, subtract, \n",
    "multiply, divide arguments element-wise."
   ]
  },
  {
   "cell_type": "code",
   "execution_count": 34,
   "id": "ed2987bb",
   "metadata": {},
   "outputs": [
    {
     "name": "stdout",
     "output_type": "stream",
     "text": [
      "[5 5 3 0 6 6 9 5 8 7]\n",
      "[3 6 1 8 4 0 2 6 0 1]\n",
      "[ 8 11  4  8 10  6 11 11  8  8]\n",
      "[ 2 -1  2 -8  2  6  7 -1  8  6]\n",
      "[15 30  3  0 24  0 18 30  0  7]\n",
      "[1.66666667 0.83333333 3.         0.         1.5               inf\n",
      " 4.5        0.83333333        inf 7.        ]\n"
     ]
    }
   ],
   "source": [
    "a = np.random.randint(0,10,10)\n",
    "b = np.random.randint(0,10,10)\n",
    "print(a)\n",
    "print(b)\n",
    "print(np.add(a,b))\n",
    "print(np.subtract(a,b))\n",
    "print(np.multiply(a,b))\n",
    "print(np.divide(a,b))"
   ]
  },
  {
   "cell_type": "markdown",
   "id": "e9e9e18b",
   "metadata": {},
   "source": [
    "Write a Python program to get the dates of \n",
    "yesterday, today and tomorrow"
   ]
  },
  {
   "cell_type": "code",
   "execution_count": 31,
   "id": "8ef2d839",
   "metadata": {},
   "outputs": [],
   "source": [
    "yesterday = np.datetime64('today','D') - np.timedelta64(1,'D')\n",
    "today = np.datetime64('today','D')\n",
    "tomorrow = np.datetime64('today','D') + np.timedelta64(1,'D')"
   ]
  },
  {
   "cell_type": "code",
   "execution_count": 32,
   "id": "c3720dbc",
   "metadata": {},
   "outputs": [
    {
     "name": "stdout",
     "output_type": "stream",
     "text": [
      "yesterday :2022-03-10\n",
      "Today: 2022-03-11\n",
      "Tomorrow: 2022-03-12\n"
     ]
    }
   ],
   "source": [
    "print(f'yesterday :{yesterday}')\n",
    "print(f'Today: {today}')\n",
    "print(f'Tomorrow: {tomorrow}')"
   ]
  },
  {
   "cell_type": "code",
   "execution_count": null,
   "id": "b3722916",
   "metadata": {},
   "outputs": [],
   "source": []
  }
 ],
 "metadata": {
  "kernelspec": {
   "display_name": "Python 3 (ipykernel)",
   "language": "python",
   "name": "python3"
  },
  "language_info": {
   "codemirror_mode": {
    "name": "ipython",
    "version": 3
   },
   "file_extension": ".py",
   "mimetype": "text/x-python",
   "name": "python",
   "nbconvert_exporter": "python",
   "pygments_lexer": "ipython3",
   "version": "3.9.7"
  }
 },
 "nbformat": 4,
 "nbformat_minor": 5
}
