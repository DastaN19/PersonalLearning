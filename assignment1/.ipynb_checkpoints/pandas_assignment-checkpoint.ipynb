{
 "cells": [
  {
   "cell_type": "code",
   "execution_count": 2,
   "id": "0ca7f507",
   "metadata": {},
   "outputs": [],
   "source": [
    "import numpy as np\n",
    "import pandas as pd"
   ]
  },
  {
   "cell_type": "markdown",
   "id": "f3b6ca0a",
   "metadata": {},
   "source": [
    "Write a Python program to create and display a one\u0002dimensional array-like object containing an array of data using \n",
    "Pandas module."
   ]
  },
  {
   "cell_type": "code",
   "execution_count": 2,
   "id": "439c3d13",
   "metadata": {},
   "outputs": [
    {
     "name": "stdout",
     "output_type": "stream",
     "text": [
      "<IntegerArray>\n",
      "[1, 2, 3, 4, 5]\n",
      "Length: 5, dtype: Int64\n"
     ]
    }
   ],
   "source": [
    "a = pd.array([1,2,3,4,5])\n",
    "print(a)"
   ]
  },
  {
   "cell_type": "markdown",
   "id": "8f839acd",
   "metadata": {},
   "source": [
    "Write a Python program to convert a Panda module Series to \n",
    "Python list and its type."
   ]
  },
  {
   "cell_type": "code",
   "execution_count": 4,
   "id": "8a65bd62",
   "metadata": {},
   "outputs": [
    {
     "name": "stdout",
     "output_type": "stream",
     "text": [
      "[2, 3, 4, 5]\n",
      "<class 'list'>\n"
     ]
    }
   ],
   "source": [
    "a = list(pd.Series([2,3,4,5]))\n",
    "print(a)\n",
    "print(type(a))\n"
   ]
  },
  {
   "cell_type": "markdown",
   "id": "783718ad",
   "metadata": {},
   "source": [
    "Write a Python program to add, subtract, multiple and divide \n",
    "two Pandas Series"
   ]
  },
  {
   "cell_type": "code",
   "execution_count": 8,
   "id": "22a5a32e",
   "metadata": {},
   "outputs": [
    {
     "name": "stdout",
     "output_type": "stream",
     "text": [
      "Addition: \n",
      "0     6\n",
      "1     8\n",
      "2    10\n",
      "3    12\n",
      "dtype: int64\n",
      "Subtraction: \n",
      "0   -4\n",
      "1   -4\n",
      "2   -4\n",
      "3   -4\n",
      "dtype: int64\n",
      "Multiplication: \n",
      "0     5\n",
      "1    12\n",
      "2    21\n",
      "3    32\n",
      "dtype: int64\n",
      "Division: \n",
      "0    0.200000\n",
      "1    0.333333\n",
      "2    0.428571\n",
      "3    0.500000\n",
      "dtype: float64\n"
     ]
    }
   ],
   "source": [
    "a = pd.Series([1,2,3,4])\n",
    "b = pd.Series([5,6,7,8])\n",
    "print(f'Addition: \\n{a+b}')\n",
    "print(f'Subtraction: \\n{a-b}')\n",
    "print(f'Multiplication: \\n{a*b}')\n",
    "print(f'Division: \\n{a/b}')"
   ]
  },
  {
   "cell_type": "markdown",
   "id": "763259e0",
   "metadata": {},
   "source": [
    "Write a Python program to compare the elements of the two \n",
    "Pandas Series"
   ]
  },
  {
   "cell_type": "code",
   "execution_count": 10,
   "id": "c08d47b2",
   "metadata": {},
   "outputs": [
    {
     "name": "stdout",
     "output_type": "stream",
     "text": [
      "less than: \n",
      "0    True\n",
      "1    True\n",
      "2    True\n",
      "3    True\n",
      "dtype: bool\n",
      "greater than: \n",
      "0    False\n",
      "1    False\n",
      "2    False\n",
      "3    False\n",
      "dtype: bool\n",
      "equals to: \n",
      "0    False\n",
      "1    False\n",
      "2    False\n",
      "3    False\n",
      "dtype: bool\n"
     ]
    }
   ],
   "source": [
    "a = pd.Series([1,2,3,4])\n",
    "b = pd.Series([5,6,7,8])\n",
    "print(f'less than: \\n{a<b}')\n",
    "print(f'greater than: \\n{a>b}')\n",
    "print(f'equals to: \\n{a==b}')"
   ]
  },
  {
   "cell_type": "markdown",
   "id": "992e63aa",
   "metadata": {},
   "source": [
    "Write a Python program to display the following data column \n",
    "wise."
   ]
  },
  {
   "cell_type": "code",
   "execution_count": 29,
   "id": "786d9c8f",
   "metadata": {},
   "outputs": [
    {
     "name": "stdout",
     "output_type": "stream",
     "text": [
      "1       Ankit\n",
      "2       Akash\n",
      "3     Abhinav\n",
      "4    Abhishek\n",
      "Name: Name, dtype: object\n"
     ]
    }
   ],
   "source": [
    "data = {'Name': ['Ankit' , 'Akash' , 'Abhinav' , 'Abhishek'] ,\n",
    "       'Dept': ['CSE' , 'IT' , 'Maths' , 'Science'] ,\n",
    "       'Marks': [90 , 88 ,75 , 95] ,\n",
    "       'Grade' : ['A' , 'B' , 'C' , 'A']}\n",
    "rollno = [1,2,3,4]\n",
    "\n",
    "df = pd.DataFrame(data , index = rollno)\n",
    "print(df['Name'])\n"
   ]
  },
  {
   "cell_type": "markdown",
   "id": "6bbe060c",
   "metadata": {},
   "source": [
    "Write a Python program to create and display a Data Frame \n",
    "from a specified dictionary data which has the index labels."
   ]
  },
  {
   "cell_type": "code",
   "execution_count": 14,
   "id": "4901acf8",
   "metadata": {},
   "outputs": [
    {
     "name": "stdout",
     "output_type": "stream",
     "text": [
      "       Name     Dept  Marks Grade\n",
      "1     Ankit      CSE     90     A\n",
      "2     Akash       IT     88     B\n",
      "3   Abhinav    Maths     75     C\n",
      "4  Abhishek  Science     95     A\n"
     ]
    }
   ],
   "source": [
    "data = {'Name': ['Ankit' , 'Akash' , 'Abhinav' , 'Abhishek'] ,\n",
    "       'Dept': ['CSE' , 'IT' , 'Maths' , 'Science'] ,\n",
    "       'Marks': [90 , 88 ,75 , 95] ,\n",
    "       'Grade' : ['A' , 'B' , 'C' , 'A']}\n",
    "rollno = [1,2,3,4]\n",
    "\n",
    "df = pd.DataFrame(data , index = rollno)\n",
    "print(df)"
   ]
  },
  {
   "cell_type": "markdown",
   "id": "d912a74d",
   "metadata": {},
   "source": [
    "Write a Python program to select the specified columns and \n",
    "rows from a given Data Frame."
   ]
  },
  {
   "cell_type": "code",
   "execution_count": 25,
   "id": "c4c43b81",
   "metadata": {},
   "outputs": [
    {
     "name": "stdout",
     "output_type": "stream",
     "text": [
      "      Name Grade\n",
      "1    Ankit     A\n",
      "2    Akash     B\n",
      "3  Abhinav     C\n"
     ]
    }
   ],
   "source": [
    "data = {'Name': ['Ankit' , 'Akash' , 'Abhinav' , 'Abhishek'] ,\n",
    "       'Dept': ['CSE' , 'IT' , 'Maths' , 'Science'] ,\n",
    "       'Marks': [15 , 18 ,25 , 21] ,\n",
    "       'Grade' : ['A' , 'B' , 'C' , 'A']}\n",
    "rollno = [1,2,3,4]\n",
    "\n",
    "df = pd.DataFrame(data , index = rollno)\n",
    "print(df.iloc[[0, 1 ,2],[0,3]])"
   ]
  },
  {
   "cell_type": "markdown",
   "id": "6b222b50",
   "metadata": {},
   "source": [
    "Write a Python program to select the rows the score is between \n",
    "15 and 20 (inclusive)"
   ]
  },
  {
   "cell_type": "code",
   "execution_count": 27,
   "id": "f6790918",
   "metadata": {},
   "outputs": [
    {
     "name": "stdout",
     "output_type": "stream",
     "text": [
      "    Name Dept  Scores Grade\n",
      "1  Ankit  CSE      15     A\n",
      "2  Akash   IT      18     B\n"
     ]
    }
   ],
   "source": [
    "data = {'Name': ['Ankit' , 'Akash' , 'Abhinav' , 'Abhishek'] ,\n",
    "       'Dept': ['CSE' , 'IT' , 'Maths' , 'Science'] ,\n",
    "       'Scores': [15 , 18 ,25 , 21] ,\n",
    "       'Grade' : ['A' , 'B' , 'C' , 'A']}\n",
    "rollno = [1,2,3,4]\n",
    "\n",
    "df = pd.DataFrame(data , index = rollno)\n",
    "print(df[df['Scores'].between(15,20)])"
   ]
  },
  {
   "cell_type": "markdown",
   "id": "80f48207",
   "metadata": {},
   "source": [
    "Write a Python program to select the rows where number of \n",
    "attempts in the examination is less than 2 and score greater than \n",
    "15"
   ]
  },
  {
   "cell_type": "code",
   "execution_count": 7,
   "id": "9419c7a9",
   "metadata": {},
   "outputs": [
    {
     "name": "stdout",
     "output_type": "stream",
     "text": [
      "       Name     Dept  Scores Grade  Attempts\n",
      "4  Abhishek  Science      21     A         1\n"
     ]
    }
   ],
   "source": [
    "data = {'Name': ['Ankit' , 'Akash' , 'Abhinav' , 'Abhishek'] ,\n",
    "       'Dept': ['CSE' , 'IT' , 'Maths' , 'Science'] ,\n",
    "       'Scores': [15 , 18 ,25 , 21] ,\n",
    "       'Grade' : ['A' , 'B' , 'C' , 'A'],\n",
    "       'Attempts' : [1,2,3,1]}\n",
    "rollno = [1,2,3,4]\n",
    "\n",
    "df = pd.DataFrame(data , index = rollno)\n",
    "print(df[(df['Attempts'] < 2) & (df['Scores'] > 15)])"
   ]
  },
  {
   "cell_type": "markdown",
   "id": "21e4ed09",
   "metadata": {},
   "source": [
    "Write a Python program to append a new row 'k' to Data Frame \n",
    "with given values for each column. Now delete the new row and \n",
    "return the original data frame"
   ]
  },
  {
   "cell_type": "code",
   "execution_count": 11,
   "id": "0e8f04c1",
   "metadata": {},
   "outputs": [
    {
     "name": "stdout",
     "output_type": "stream",
     "text": [
      "       Name     Dept  Scores Grade  Attempts\n",
      "A     Ankit      CSE      15     A         1\n",
      "B     Akash       IT      18     B         2\n",
      "C   Abhinav    Maths      25     C         3\n",
      "D  Abhishek  Science      21     A         1\n",
      "       Name     Dept  Scores Grade  Attempts\n",
      "A     Ankit      CSE      15     A         1\n",
      "B     Akash       IT      18     B         2\n",
      "C   Abhinav    Maths      25     C         3\n",
      "D  Abhishek  Science      21     A         1\n",
      "K     Avnik      CSE      20     D         2\n",
      "       Name     Dept  Scores Grade  Attempts\n",
      "A     Ankit      CSE      15     A         1\n",
      "B     Akash       IT      18     B         2\n",
      "C   Abhinav    Maths      25     C         3\n",
      "D  Abhishek  Science      21     A         1\n"
     ]
    }
   ],
   "source": [
    "data = {'Name': ['Ankit' , 'Akash' , 'Abhinav' , 'Abhishek'] ,\n",
    "       'Dept': ['CSE' , 'IT' , 'Maths' , 'Science'] ,\n",
    "       'Scores': [15 , 18 ,25 , 21] ,\n",
    "       'Grade' : ['A' , 'B' , 'C' , 'A'],\n",
    "       'Attempts' : [1,2,3,1]}\n",
    "label = ['A' , 'B' , 'C' , 'D']\n",
    "\n",
    "df = pd.DataFrame(data , index = label)\n",
    "print(df)\n",
    "df.loc['K'] = ['Avnik' , 'CSE', 20, 'D' , 2] \n",
    "print(df)\n",
    "df = df.drop('K')\n",
    "print(df)"
   ]
  },
  {
   "cell_type": "markdown",
   "id": "28004f62",
   "metadata": {},
   "source": [
    "Write a Python program to sort the data frame first by 'name' in \n",
    "descending order, then by 'score' in ascending order"
   ]
  },
  {
   "cell_type": "code",
   "execution_count": 3,
   "id": "53269194",
   "metadata": {},
   "outputs": [
    {
     "name": "stdout",
     "output_type": "stream",
     "text": [
      "       Name     Dept  Scores Grade  Attempts\n",
      "A     Ankit      CSE      15     A         1\n",
      "B     Akash       IT      18     B         2\n",
      "C   Abhinav    Maths      25     C         3\n",
      "D  Abhishek  Science      21     A         1\n"
     ]
    }
   ],
   "source": [
    "data = {'Name': ['Ankit' , 'Akash' , 'Abhinav' , 'Abhishek'] ,\n",
    "       'Dept': ['CSE' , 'IT' , 'Maths' , 'Science'] ,\n",
    "       'Scores': [15 , 18 ,25 , 21] ,\n",
    "       'Grade' : ['A' , 'B' , 'C' , 'A'],\n",
    "       'Attempts' : [1,2,3,1]}\n",
    "label = ['A' , 'B' , 'C' , 'D']\n",
    "\n",
    "df = pd.DataFrame(data , index = label)\n",
    "print(df)"
   ]
  },
  {
   "cell_type": "code",
   "execution_count": 9,
   "id": "83a574ad",
   "metadata": {},
   "outputs": [
    {
     "data": {
      "text/html": [
       "<div>\n",
       "<style scoped>\n",
       "    .dataframe tbody tr th:only-of-type {\n",
       "        vertical-align: middle;\n",
       "    }\n",
       "\n",
       "    .dataframe tbody tr th {\n",
       "        vertical-align: top;\n",
       "    }\n",
       "\n",
       "    .dataframe thead th {\n",
       "        text-align: right;\n",
       "    }\n",
       "</style>\n",
       "<table border=\"1\" class=\"dataframe\">\n",
       "  <thead>\n",
       "    <tr style=\"text-align: right;\">\n",
       "      <th></th>\n",
       "      <th>Name</th>\n",
       "      <th>Dept</th>\n",
       "      <th>Scores</th>\n",
       "      <th>Grade</th>\n",
       "      <th>Attempts</th>\n",
       "    </tr>\n",
       "  </thead>\n",
       "  <tbody>\n",
       "    <tr>\n",
       "      <th>A</th>\n",
       "      <td>Ankit</td>\n",
       "      <td>CSE</td>\n",
       "      <td>15</td>\n",
       "      <td>A</td>\n",
       "      <td>1</td>\n",
       "    </tr>\n",
       "    <tr>\n",
       "      <th>B</th>\n",
       "      <td>Akash</td>\n",
       "      <td>IT</td>\n",
       "      <td>18</td>\n",
       "      <td>B</td>\n",
       "      <td>2</td>\n",
       "    </tr>\n",
       "    <tr>\n",
       "      <th>D</th>\n",
       "      <td>Abhishek</td>\n",
       "      <td>Science</td>\n",
       "      <td>21</td>\n",
       "      <td>A</td>\n",
       "      <td>1</td>\n",
       "    </tr>\n",
       "    <tr>\n",
       "      <th>C</th>\n",
       "      <td>Abhinav</td>\n",
       "      <td>Maths</td>\n",
       "      <td>25</td>\n",
       "      <td>C</td>\n",
       "      <td>3</td>\n",
       "    </tr>\n",
       "  </tbody>\n",
       "</table>\n",
       "</div>"
      ],
      "text/plain": [
       "       Name     Dept  Scores Grade  Attempts\n",
       "A     Ankit      CSE      15     A         1\n",
       "B     Akash       IT      18     B         2\n",
       "D  Abhishek  Science      21     A         1\n",
       "C   Abhinav    Maths      25     C         3"
      ]
     },
     "execution_count": 9,
     "metadata": {},
     "output_type": "execute_result"
    }
   ],
   "source": [
    "df.sort_values('Name' , ascending = False).sort_values('Scores')"
   ]
  },
  {
   "cell_type": "code",
   "execution_count": 8,
   "id": "1216e925",
   "metadata": {},
   "outputs": [
    {
     "data": {
      "text/html": [
       "<div>\n",
       "<style scoped>\n",
       "    .dataframe tbody tr th:only-of-type {\n",
       "        vertical-align: middle;\n",
       "    }\n",
       "\n",
       "    .dataframe tbody tr th {\n",
       "        vertical-align: top;\n",
       "    }\n",
       "\n",
       "    .dataframe thead th {\n",
       "        text-align: right;\n",
       "    }\n",
       "</style>\n",
       "<table border=\"1\" class=\"dataframe\">\n",
       "  <thead>\n",
       "    <tr style=\"text-align: right;\">\n",
       "      <th></th>\n",
       "      <th>Name</th>\n",
       "      <th>Dept</th>\n",
       "      <th>Scores</th>\n",
       "      <th>Grade</th>\n",
       "      <th>Attempts</th>\n",
       "    </tr>\n",
       "  </thead>\n",
       "  <tbody>\n",
       "    <tr>\n",
       "      <th>A</th>\n",
       "      <td>Ankit</td>\n",
       "      <td>CSE</td>\n",
       "      <td>15</td>\n",
       "      <td>A</td>\n",
       "      <td>1</td>\n",
       "    </tr>\n",
       "    <tr>\n",
       "      <th>B</th>\n",
       "      <td>Akash</td>\n",
       "      <td>IT</td>\n",
       "      <td>18</td>\n",
       "      <td>B</td>\n",
       "      <td>2</td>\n",
       "    </tr>\n",
       "    <tr>\n",
       "      <th>D</th>\n",
       "      <td>Abhishek</td>\n",
       "      <td>Science</td>\n",
       "      <td>21</td>\n",
       "      <td>A</td>\n",
       "      <td>1</td>\n",
       "    </tr>\n",
       "    <tr>\n",
       "      <th>C</th>\n",
       "      <td>Abhinav</td>\n",
       "      <td>Maths</td>\n",
       "      <td>25</td>\n",
       "      <td>C</td>\n",
       "      <td>3</td>\n",
       "    </tr>\n",
       "  </tbody>\n",
       "</table>\n",
       "</div>"
      ],
      "text/plain": [
       "       Name     Dept  Scores Grade  Attempts\n",
       "A     Ankit      CSE      15     A         1\n",
       "B     Akash       IT      18     B         2\n",
       "D  Abhishek  Science      21     A         1\n",
       "C   Abhinav    Maths      25     C         3"
      ]
     },
     "execution_count": 8,
     "metadata": {},
     "output_type": "execute_result"
    }
   ],
   "source": [
    "df.sort_values(by = ['Name' , 'Scores'] , ascending = [False , True])"
   ]
  },
  {
   "cell_type": "markdown",
   "id": "2b94c26c",
   "metadata": {},
   "source": [
    "Write a Python program to insert a new column in existing Data\n",
    "Frame.\n"
   ]
  },
  {
   "cell_type": "code",
   "execution_count": 12,
   "id": "689b647e",
   "metadata": {},
   "outputs": [
    {
     "name": "stdout",
     "output_type": "stream",
     "text": [
      "       Name     Dept  Scores Grade  Attempts   pass\n",
      "A     Ankit      CSE      15     A         1  False\n",
      "B     Akash       IT      18     B         2  False\n",
      "C   Abhinav    Maths      25     C         3   True\n",
      "D  Abhishek  Science      21     A         1   True\n"
     ]
    }
   ],
   "source": [
    "data = {'Name': ['Ankit' , 'Akash' , 'Abhinav' , 'Abhishek'] ,\n",
    "       'Dept': ['CSE' , 'IT' , 'Maths' , 'Science'] ,\n",
    "       'Scores': [15 , 18 ,25 , 21] ,\n",
    "       'Grade' : ['A' , 'B' , 'C' , 'A'],\n",
    "       'Attempts' : [1,2,3,1]}\n",
    "label = ['A' , 'B' , 'C' , 'D']\n",
    "\n",
    "df = pd.DataFrame(data , index = label)\n",
    "\n",
    "df['pass'] = [False , False , True , True]\n",
    "print(df)"
   ]
  },
  {
   "cell_type": "markdown",
   "id": "c47170b0",
   "metadata": {},
   "source": [
    "Write a Python program to change the name 'James' to 'Suresh' \n",
    "in name column of the data frame"
   ]
  },
  {
   "cell_type": "code",
   "execution_count": 19,
   "id": "31d2a0aa",
   "metadata": {},
   "outputs": [
    {
     "name": "stdout",
     "output_type": "stream",
     "text": [
      "       Name     Dept  Scores Grade  Attempts\n",
      "A     James      CSE      15     A         1\n",
      "B     Akash       IT      18     B         2\n",
      "C   Abhinav    Maths      25     C         3\n",
      "D  Abhishek  Science      21     A         1\n",
      "\n",
      "\n",
      "       Name     Dept  Scores Grade  Attempts\n",
      "A    Suresh      CSE      15     A         1\n",
      "B     Akash       IT      18     B         2\n",
      "C   Abhinav    Maths      25     C         3\n",
      "D  Abhishek  Science      21     A         1\n"
     ]
    }
   ],
   "source": [
    "data = {'Name': ['James' , 'Akash' , 'Abhinav' , 'Abhishek'] ,\n",
    "       'Dept': ['CSE' , 'IT' , 'Maths' , 'Science'] ,\n",
    "       'Scores': [15 , 18 ,25 , 21] ,\n",
    "       'Grade' : ['A' , 'B' , 'C' , 'A'],\n",
    "       'Attempts' : [1,2,3,1]}\n",
    "label = ['A' , 'B' , 'C' , 'D']\n",
    "\n",
    "df = pd.DataFrame(data , index = label)\n",
    "print(df)\n",
    "print('\\n')\n",
    "df['Name'] = df['Name'].replace('James', 'Suresh')\n",
    "print(df)"
   ]
  },
  {
   "cell_type": "code",
   "execution_count": null,
   "id": "c16d516e",
   "metadata": {},
   "outputs": [],
   "source": []
  }
 ],
 "metadata": {
  "kernelspec": {
   "display_name": "Python 3 (ipykernel)",
   "language": "python",
   "name": "python3"
  },
  "language_info": {
   "codemirror_mode": {
    "name": "ipython",
    "version": 3
   },
   "file_extension": ".py",
   "mimetype": "text/x-python",
   "name": "python",
   "nbconvert_exporter": "python",
   "pygments_lexer": "ipython3",
   "version": "3.9.7"
  }
 },
 "nbformat": 4,
 "nbformat_minor": 5
}
