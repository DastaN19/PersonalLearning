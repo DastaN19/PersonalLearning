{
 "cells": [
  {
   "cell_type": "code",
   "execution_count": 1,
   "id": "f6645f33",
   "metadata": {},
   "outputs": [
    {
     "name": "stdout",
     "output_type": "stream",
     "text": [
      "10 20\n"
     ]
    }
   ],
   "source": [
    "print(10, 20)"
   ]
  },
  {
   "cell_type": "code",
   "execution_count": 2,
   "id": "d32bc3f0",
   "metadata": {},
   "outputs": [
    {
     "name": "stdout",
     "output_type": "stream",
     "text": [
      "Hello Hi\n"
     ]
    }
   ],
   "source": [
    "print(\"Hello\", 'Hi')"
   ]
  },
  {
   "cell_type": "code",
   "execution_count": 3,
   "id": "5276701d",
   "metadata": {},
   "outputs": [],
   "source": [
    "# Ternary operator\n",
    "# expr_when_true if condition else expr_when_false"
   ]
  },
  {
   "cell_type": "code",
   "execution_count": 6,
   "id": "728b8892",
   "metadata": {},
   "outputs": [
    {
     "data": {
      "text/plain": [
       "4"
      ]
     },
     "execution_count": 6,
     "metadata": {},
     "output_type": "execute_result"
    }
   ],
   "source": [
    "a = 2\n",
    "b = a ** 2 if a % 2 == 0 else a ** 3\n",
    "b"
   ]
  },
  {
   "cell_type": "code",
   "execution_count": 7,
   "id": "99576049",
   "metadata": {},
   "outputs": [],
   "source": [
    "if a % 2 == 0:\n",
    "    b = a ** 2\n",
    "else:\n",
    "    b = a ** 3"
   ]
  },
  {
   "cell_type": "code",
   "execution_count": 8,
   "id": "2b3452c0",
   "metadata": {},
   "outputs": [
    {
     "data": {
      "text/plain": [
       "4"
      ]
     },
     "execution_count": 8,
     "metadata": {},
     "output_type": "execute_result"
    }
   ],
   "source": [
    "b"
   ]
  },
  {
   "cell_type": "code",
   "execution_count": 9,
   "id": "305b6382",
   "metadata": {},
   "outputs": [
    {
     "data": {
      "text/plain": [
       "4"
      ]
     },
     "execution_count": 9,
     "metadata": {},
     "output_type": "execute_result"
    }
   ],
   "source": [
    "b = a if a % 5 == 0 else a ** 2 if a % 2 == 0 else a ** 3\n",
    "b"
   ]
  },
  {
   "cell_type": "code",
   "execution_count": 10,
   "id": "2b7695c1",
   "metadata": {},
   "outputs": [],
   "source": [
    "if a % 5 == 0:\n",
    "    b = a\n",
    "elif a % 2 == 0:\n",
    "    b = a** 2\n",
    "else:\n",
    "    b = a**3"
   ]
  },
  {
   "cell_type": "code",
   "execution_count": 11,
   "id": "62167c3e",
   "metadata": {},
   "outputs": [
    {
     "data": {
      "text/plain": [
       "4"
      ]
     },
     "execution_count": 11,
     "metadata": {},
     "output_type": "execute_result"
    }
   ],
   "source": [
    "b"
   ]
  },
  {
   "cell_type": "code",
   "execution_count": 13,
   "id": "d6d01a82",
   "metadata": {},
   "outputs": [],
   "source": [
    "#Write a python program to find below output using loop:-\n",
    "\n",
    "#Input:- 'peter piper picked a peck of pickled peppers.'\n",
    "#Output:- 'retep repip dekcip a kcep fo delkcip sreppep'"
   ]
  },
  {
   "cell_type": "code",
   "execution_count": 14,
   "id": "0220e5fa",
   "metadata": {},
   "outputs": [],
   "source": [
    "input_str = 'peter piper picked a peck of pickled peppers.'"
   ]
  },
  {
   "cell_type": "code",
   "execution_count": 17,
   "id": "672eb79c",
   "metadata": {},
   "outputs": [
    {
     "data": {
      "text/plain": [
       "'peter piper picked a peck of pickled peppers'"
      ]
     },
     "execution_count": 17,
     "metadata": {},
     "output_type": "execute_result"
    }
   ],
   "source": [
    "str_1 = input_str.rstrip('.')\n",
    "str_1"
   ]
  },
  {
   "cell_type": "code",
   "execution_count": 19,
   "id": "15257aec",
   "metadata": {},
   "outputs": [
    {
     "data": {
      "text/plain": [
       "['peter', 'piper', 'picked', 'a', 'peck', 'of', 'pickled', 'peppers']"
      ]
     },
     "execution_count": 19,
     "metadata": {},
     "output_type": "execute_result"
    }
   ],
   "source": [
    "list_1 = str_1.split()\n",
    "list_1"
   ]
  },
  {
   "cell_type": "code",
   "execution_count": 22,
   "id": "31496801",
   "metadata": {},
   "outputs": [
    {
     "data": {
      "text/plain": [
       "['retep', 'repip', 'dekcip', 'a', 'kcep', 'fo', 'delkcip', 'sreppep']"
      ]
     },
     "execution_count": 22,
     "metadata": {},
     "output_type": "execute_result"
    }
   ],
   "source": [
    "out_list = []\n",
    "for i in list_1:\n",
    "    out_list.append(i[::-1])\n",
    "    \n",
    "out_list"
   ]
  },
  {
   "cell_type": "code",
   "execution_count": 23,
   "id": "19d8d6a9",
   "metadata": {},
   "outputs": [],
   "source": [
    "out_str = ' '.join(out_list)"
   ]
  },
  {
   "cell_type": "code",
   "execution_count": 24,
   "id": "9fe6b064",
   "metadata": {},
   "outputs": [
    {
     "data": {
      "text/plain": [
       "'retep repip dekcip a kcep fo delkcip sreppep'"
      ]
     },
     "execution_count": 24,
     "metadata": {},
     "output_type": "execute_result"
    }
   ],
   "source": [
    "out_str"
   ]
  },
  {
   "cell_type": "code",
   "execution_count": null,
   "id": "fd0c4d3f",
   "metadata": {},
   "outputs": [],
   "source": []
  },
  {
   "cell_type": "code",
   "execution_count": 25,
   "id": "5138deb0",
   "metadata": {},
   "outputs": [],
   "source": [
    "# #Write a python program to find below output (implements rjust and ljust):-\n",
    "\n",
    "#Input:- 'Peter Piper Picked A Peck Of Pickled Peppers.', sub_str = 'Peck', \n",
    "#Output:- '*********************Peck********************'"
   ]
  },
  {
   "cell_type": "code",
   "execution_count": 26,
   "id": "67461de5",
   "metadata": {},
   "outputs": [],
   "source": [
    "str1 = 'Python'"
   ]
  },
  {
   "cell_type": "code",
   "execution_count": 27,
   "id": "15589dc4",
   "metadata": {},
   "outputs": [
    {
     "data": {
      "text/plain": [
       "'Python'"
      ]
     },
     "execution_count": 27,
     "metadata": {},
     "output_type": "execute_result"
    }
   ],
   "source": [
    "str1"
   ]
  },
  {
   "cell_type": "code",
   "execution_count": 28,
   "id": "1a3b1956",
   "metadata": {},
   "outputs": [
    {
     "data": {
      "text/plain": [
       "'****Python'"
      ]
     },
     "execution_count": 28,
     "metadata": {},
     "output_type": "execute_result"
    }
   ],
   "source": [
    "str1.rjust(10, '*')"
   ]
  },
  {
   "cell_type": "code",
   "execution_count": 30,
   "id": "0e9a78ae",
   "metadata": {},
   "outputs": [
    {
     "data": {
      "text/plain": [
       "10"
      ]
     },
     "execution_count": 30,
     "metadata": {},
     "output_type": "execute_result"
    }
   ],
   "source": [
    "len('****Python')"
   ]
  },
  {
   "cell_type": "code",
   "execution_count": 31,
   "id": "a49ef9ed",
   "metadata": {},
   "outputs": [
    {
     "data": {
      "text/plain": [
       "'Python'"
      ]
     },
     "execution_count": 31,
     "metadata": {},
     "output_type": "execute_result"
    }
   ],
   "source": [
    "str1.rjust(6, '*')"
   ]
  },
  {
   "cell_type": "code",
   "execution_count": 32,
   "id": "962678f0",
   "metadata": {},
   "outputs": [
    {
     "data": {
      "text/plain": [
       "'*Python'"
      ]
     },
     "execution_count": 32,
     "metadata": {},
     "output_type": "execute_result"
    }
   ],
   "source": [
    "str1.rjust(7, '*')"
   ]
  },
  {
   "cell_type": "code",
   "execution_count": 33,
   "id": "591e726e",
   "metadata": {},
   "outputs": [
    {
     "data": {
      "text/plain": [
       "'Python'"
      ]
     },
     "execution_count": 33,
     "metadata": {},
     "output_type": "execute_result"
    }
   ],
   "source": [
    "str1.rjust(3, '*')"
   ]
  },
  {
   "cell_type": "code",
   "execution_count": 34,
   "id": "8d07ff69",
   "metadata": {},
   "outputs": [
    {
     "data": {
      "text/plain": [
       "'#########Python'"
      ]
     },
     "execution_count": 34,
     "metadata": {},
     "output_type": "execute_result"
    }
   ],
   "source": [
    "str1.rjust(15, '#') # 15 - len(str1)"
   ]
  },
  {
   "cell_type": "code",
   "execution_count": 35,
   "id": "c70c9f09",
   "metadata": {},
   "outputs": [
    {
     "data": {
      "text/plain": [
       "'Python#########'"
      ]
     },
     "execution_count": 35,
     "metadata": {},
     "output_type": "execute_result"
    }
   ],
   "source": [
    "str1.ljust(15, '#')"
   ]
  },
  {
   "cell_type": "code",
   "execution_count": null,
   "id": "f9b043dc",
   "metadata": {},
   "outputs": [],
   "source": []
  },
  {
   "cell_type": "code",
   "execution_count": 36,
   "id": "2ec0e08e",
   "metadata": {},
   "outputs": [
    {
     "data": {
      "text/plain": [
       "'Python'"
      ]
     },
     "execution_count": 36,
     "metadata": {},
     "output_type": "execute_result"
    }
   ],
   "source": [
    "str1"
   ]
  },
  {
   "cell_type": "code",
   "execution_count": 37,
   "id": "376523bd",
   "metadata": {},
   "outputs": [
    {
     "data": {
      "text/plain": [
       "True"
      ]
     },
     "execution_count": 37,
     "metadata": {},
     "output_type": "execute_result"
    }
   ],
   "source": [
    "str1.isprintable()"
   ]
  },
  {
   "cell_type": "code",
   "execution_count": 38,
   "id": "f9a3078f",
   "metadata": {},
   "outputs": [
    {
     "data": {
      "text/plain": [
       "True"
      ]
     },
     "execution_count": 38,
     "metadata": {},
     "output_type": "execute_result"
    }
   ],
   "source": [
    "str2 = \"Welcome to Python\"\n",
    "str2.isprintable()"
   ]
  },
  {
   "cell_type": "code",
   "execution_count": 39,
   "id": "a7ce64a2",
   "metadata": {},
   "outputs": [],
   "source": [
    "str3 = \"Welcome to Python. \\n Have fun!\"\n"
   ]
  },
  {
   "cell_type": "code",
   "execution_count": 40,
   "id": "5690c41b",
   "metadata": {},
   "outputs": [
    {
     "data": {
      "text/plain": [
       "'Welcome to Python. \\n Have fun!'"
      ]
     },
     "execution_count": 40,
     "metadata": {},
     "output_type": "execute_result"
    }
   ],
   "source": [
    "str3"
   ]
  },
  {
   "cell_type": "code",
   "execution_count": 41,
   "id": "55fa2285",
   "metadata": {
    "scrolled": true
   },
   "outputs": [
    {
     "name": "stdout",
     "output_type": "stream",
     "text": [
      "Welcome to Python. \n",
      " Have fun!\n"
     ]
    }
   ],
   "source": [
    "print(str3)"
   ]
  },
  {
   "cell_type": "code",
   "execution_count": 42,
   "id": "c46ba363",
   "metadata": {},
   "outputs": [
    {
     "data": {
      "text/plain": [
       "False"
      ]
     },
     "execution_count": 42,
     "metadata": {},
     "output_type": "execute_result"
    }
   ],
   "source": [
    "str3.isprintable()"
   ]
  },
  {
   "cell_type": "code",
   "execution_count": 43,
   "id": "cfff2696",
   "metadata": {},
   "outputs": [
    {
     "data": {
      "text/plain": [
       "False"
      ]
     },
     "execution_count": 43,
     "metadata": {},
     "output_type": "execute_result"
    }
   ],
   "source": [
    "'\\n'.isprintable()"
   ]
  },
  {
   "cell_type": "code",
   "execution_count": 44,
   "id": "a9dbdd07",
   "metadata": {},
   "outputs": [],
   "source": [
    "str4 = \"Welcome to Python. \\t Have fun!\""
   ]
  },
  {
   "cell_type": "code",
   "execution_count": 45,
   "id": "adc1af9d",
   "metadata": {},
   "outputs": [
    {
     "name": "stdout",
     "output_type": "stream",
     "text": [
      "Welcome to Python. \t Have fun!\n"
     ]
    }
   ],
   "source": [
    "print(str4)"
   ]
  },
  {
   "cell_type": "code",
   "execution_count": 46,
   "id": "1bb12ebb",
   "metadata": {},
   "outputs": [
    {
     "data": {
      "text/plain": [
       "False"
      ]
     },
     "execution_count": 46,
     "metadata": {},
     "output_type": "execute_result"
    }
   ],
   "source": [
    "str4.isprintable()"
   ]
  },
  {
   "cell_type": "code",
   "execution_count": 47,
   "id": "22f096c0",
   "metadata": {},
   "outputs": [],
   "source": [
    "str5 = 'Hello World \\r Python'"
   ]
  },
  {
   "cell_type": "code",
   "execution_count": 48,
   "id": "634d0cf6",
   "metadata": {},
   "outputs": [
    {
     "data": {
      "text/plain": [
       "'Hello World \\r Python'"
      ]
     },
     "execution_count": 48,
     "metadata": {},
     "output_type": "execute_result"
    }
   ],
   "source": [
    "str5"
   ]
  },
  {
   "cell_type": "code",
   "execution_count": 49,
   "id": "8acaf89c",
   "metadata": {},
   "outputs": [
    {
     "name": "stdout",
     "output_type": "stream",
     "text": [
      "Hello World \r",
      " Python\n"
     ]
    }
   ],
   "source": [
    "print(str5)"
   ]
  },
  {
   "cell_type": "code",
   "execution_count": 57,
   "id": "22c8b35b",
   "metadata": {},
   "outputs": [
    {
     "name": "stdout",
     "output_type": "stream",
     "text": [
      "num2 is greater than num1 and num3 if num2\n"
     ]
    }
   ],
   "source": [
    "num1 = 10\n",
    "num2 = 30\n",
    "num3 = 20\n",
    "print('num1 is greater than num2 and num3') if (num1>num2 and num1>num3) else print(\"num2 is greater than num1 and num3 if num2\") if (num2>num1 and num2>num3) else print('num3 is greater than num1 and num2') if (num3>num1 and num3>num1) else print('nothing')\n"
   ]
  },
  {
   "cell_type": "code",
   "execution_count": 54,
   "id": "96fd2b7c",
   "metadata": {},
   "outputs": [
    {
     "name": "stdout",
     "output_type": "stream",
     "text": [
      "square\n"
     ]
    }
   ],
   "source": [
    "print('same number') if a % 5 == 0 else print('square') if a % 2 == 0 else print('cube')"
   ]
  },
  {
   "cell_type": "code",
   "execution_count": 58,
   "id": "5da48f9a",
   "metadata": {},
   "outputs": [
    {
     "data": {
      "text/plain": [
       "'Python'"
      ]
     },
     "execution_count": 58,
     "metadata": {},
     "output_type": "execute_result"
    }
   ],
   "source": [
    "str1"
   ]
  },
  {
   "cell_type": "code",
   "execution_count": 59,
   "id": "6abc6386",
   "metadata": {},
   "outputs": [
    {
     "data": {
      "text/plain": [
       "'python'"
      ]
     },
     "execution_count": 59,
     "metadata": {},
     "output_type": "execute_result"
    }
   ],
   "source": [
    "str1.casefold()"
   ]
  },
  {
   "cell_type": "code",
   "execution_count": null,
   "id": "776fa543",
   "metadata": {},
   "outputs": [],
   "source": []
  },
  {
   "cell_type": "code",
   "execution_count": 60,
   "id": "1f073f36",
   "metadata": {},
   "outputs": [],
   "source": [
    "str1 = 'This is Python class'"
   ]
  },
  {
   "cell_type": "code",
   "execution_count": 61,
   "id": "75e53467",
   "metadata": {},
   "outputs": [
    {
     "data": {
      "text/plain": [
       "['This', ' Python class']"
      ]
     },
     "execution_count": 61,
     "metadata": {},
     "output_type": "execute_result"
    }
   ],
   "source": [
    "str1.split(' is')"
   ]
  },
  {
   "cell_type": "code",
   "execution_count": null,
   "id": "18c5ee6e",
   "metadata": {},
   "outputs": [],
   "source": []
  },
  {
   "cell_type": "code",
   "execution_count": 62,
   "id": "b9dc8ce8",
   "metadata": {},
   "outputs": [
    {
     "ename": "TypeError",
     "evalue": "unhashable type: 'list'",
     "output_type": "error",
     "traceback": [
      "\u001b[1;31m---------------------------------------------------------------------------\u001b[0m",
      "\u001b[1;31mTypeError\u001b[0m                                 Traceback (most recent call last)",
      "\u001b[1;32m~\\AppData\\Local\\Temp/ipykernel_2512/2841778856.py\u001b[0m in \u001b[0;36m<module>\u001b[1;34m\u001b[0m\n\u001b[1;32m----> 1\u001b[1;33m \u001b[0mdict1\u001b[0m \u001b[1;33m=\u001b[0m \u001b[1;33m{\u001b[0m\u001b[1;33m[\u001b[0m\u001b[1;36m1\u001b[0m\u001b[1;33m,\u001b[0m\u001b[1;36m2\u001b[0m\u001b[1;33m]\u001b[0m\u001b[1;33m:\u001b[0m \u001b[1;36m100\u001b[0m\u001b[1;33m}\u001b[0m\u001b[1;33m\u001b[0m\u001b[1;33m\u001b[0m\u001b[0m\n\u001b[0m",
      "\u001b[1;31mTypeError\u001b[0m: unhashable type: 'list'"
     ]
    }
   ],
   "source": [
    "dict1 = {[1,2]: 100}"
   ]
  },
  {
   "cell_type": "code",
   "execution_count": 63,
   "id": "549b9ec7",
   "metadata": {},
   "outputs": [],
   "source": [
    "dict1 = {(1,2): 100}"
   ]
  },
  {
   "cell_type": "code",
   "execution_count": 64,
   "id": "17bb7465",
   "metadata": {},
   "outputs": [
    {
     "data": {
      "text/plain": [
       "{(1, 2): 100}"
      ]
     },
     "execution_count": 64,
     "metadata": {},
     "output_type": "execute_result"
    }
   ],
   "source": [
    "dict1"
   ]
  },
  {
   "cell_type": "code",
   "execution_count": null,
   "id": "ed6f4cc0",
   "metadata": {},
   "outputs": [],
   "source": []
  },
  {
   "cell_type": "code",
   "execution_count": 65,
   "id": "70812407",
   "metadata": {},
   "outputs": [
    {
     "name": "stdout",
     "output_type": "stream",
     "text": [
      "id of my_str and my_str1 is same? - False\n"
     ]
    }
   ],
   "source": [
    "my_str = \"Although that way may not be obvious at first unless you're Dutch.\"\n",
    "my_str1 = \"Although that way may not be obvious at first unless you're Dutch.\"\n",
    "\n",
    "print(f'id of my_str and my_str1 is same? - {id(my_str) == id(my_str1)}')\n"
   ]
  },
  {
   "cell_type": "code",
   "execution_count": null,
   "id": "6822887a",
   "metadata": {},
   "outputs": [],
   "source": []
  },
  {
   "cell_type": "code",
   "execution_count": 67,
   "id": "0f8b7892",
   "metadata": {},
   "outputs": [
    {
     "name": "stdout",
     "output_type": "stream",
     "text": [
      "29\n"
     ]
    }
   ],
   "source": [
    "# Write a python program to implement index method using loop. If\n",
    "# sub_str is found in my_str then it will print the index\n",
    "# of first occurrence of first character of matching string in my_str:-\n",
    "# Input:- my_str = 'Peter Piper Picked A Peck Of Pickled Peppers.',\n",
    "# sub_str = 'Pickl'\n",
    "# Output:- 29\n",
    "\n",
    "str1 = 'Peter Piper Picked A Peck Of Pickled Peppers.'\n",
    "sub_str = 'Pickl'\n",
    "sub_str_len = len(sub_str)\n",
    "for i in range(len(str1)):\n",
    "    if str1[i:i+sub_str_len] == sub_str:\n",
    "        print(i)\n",
    "        break\n"
   ]
  },
  {
   "cell_type": "code",
   "execution_count": null,
   "id": "a9acc93f",
   "metadata": {},
   "outputs": [],
   "source": []
  }
 ],
 "metadata": {
  "kernelspec": {
   "display_name": "Python 3 (ipykernel)",
   "language": "python",
   "name": "python3"
  },
  "language_info": {
   "codemirror_mode": {
    "name": "ipython",
    "version": 3
   },
   "file_extension": ".py",
   "mimetype": "text/x-python",
   "name": "python",
   "nbconvert_exporter": "python",
   "pygments_lexer": "ipython3",
   "version": "3.9.7"
  }
 },
 "nbformat": 4,
 "nbformat_minor": 5
}
