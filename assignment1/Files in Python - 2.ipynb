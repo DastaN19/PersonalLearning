{
 "cells": [
  {
   "cell_type": "code",
   "execution_count": 1,
   "id": "19b3e40b",
   "metadata": {},
   "outputs": [],
   "source": [
    "with open('new_file', 'r') as fh:\n",
    "    d = fh.readlines()"
   ]
  },
  {
   "cell_type": "code",
   "execution_count": 2,
   "id": "94672f72",
   "metadata": {},
   "outputs": [
    {
     "data": {
      "text/plain": [
       "['Hello there!\\n', 'Python is fun\\n', 'stop\\n']"
      ]
     },
     "execution_count": 2,
     "metadata": {},
     "output_type": "execute_result"
    }
   ],
   "source": [
    "d"
   ]
  },
  {
   "cell_type": "code",
   "execution_count": 3,
   "id": "d3d69541",
   "metadata": {},
   "outputs": [],
   "source": [
    "with open('new_file', 'r') as fh:\n",
    "    d = fh.readline()"
   ]
  },
  {
   "cell_type": "code",
   "execution_count": 4,
   "id": "23214418",
   "metadata": {},
   "outputs": [
    {
     "data": {
      "text/plain": [
       "'Hello there!\\n'"
      ]
     },
     "execution_count": 4,
     "metadata": {},
     "output_type": "execute_result"
    }
   ],
   "source": [
    "d"
   ]
  },
  {
   "cell_type": "code",
   "execution_count": 5,
   "id": "64d8eadb",
   "metadata": {},
   "outputs": [
    {
     "data": {
      "text/plain": [
       "str"
      ]
     },
     "execution_count": 5,
     "metadata": {},
     "output_type": "execute_result"
    }
   ],
   "source": [
    "type(d)"
   ]
  },
  {
   "cell_type": "code",
   "execution_count": 6,
   "id": "a99df0e9",
   "metadata": {},
   "outputs": [
    {
     "name": "stdout",
     "output_type": "stream",
     "text": [
      "Hello there!\n",
      "\n",
      "Python is fun\n",
      "\n",
      "stop\n",
      "\n"
     ]
    }
   ],
   "source": [
    "with open('new_file', 'r') as fh:\n",
    "    print(fh.readline())\n",
    "    print(fh.readline())\n",
    "    print(fh.readline())"
   ]
  },
  {
   "cell_type": "code",
   "execution_count": 7,
   "id": "6b09f35a",
   "metadata": {},
   "outputs": [
    {
     "name": "stdout",
     "output_type": "stream",
     "text": [
      "Hello there!\n",
      "\n",
      "Python is fun\n",
      "\n",
      "stop\n",
      "\n",
      "\n"
     ]
    }
   ],
   "source": [
    "with open('new_file', 'r') as fh:\n",
    "    print(fh.readline())\n",
    "    print(fh.readline())\n",
    "    print(fh.readline())\n",
    "    print(fh.readline())"
   ]
  },
  {
   "cell_type": "code",
   "execution_count": 8,
   "id": "c296c5ee",
   "metadata": {},
   "outputs": [
    {
     "name": "stdout",
     "output_type": "stream",
     "text": [
      "Hello there!\n",
      "\n",
      "Python is fun\n",
      "\n",
      "stop\n",
      "\n",
      "\n",
      "\n"
     ]
    }
   ],
   "source": [
    "with open('new_file', 'r') as fh:\n",
    "    print(fh.readline())\n",
    "    print(fh.readline())\n",
    "    print(fh.readline())\n",
    "    print(fh.readline())\n",
    "    print(fh.readline())"
   ]
  },
  {
   "cell_type": "code",
   "execution_count": 9,
   "id": "4f234538",
   "metadata": {},
   "outputs": [
    {
     "name": "stdout",
     "output_type": "stream",
     "text": [
      "Hello there!\n",
      "\n",
      "Python is fun\n",
      "\n",
      "stop\n",
      "\n",
      "\n",
      "\n",
      "\n",
      "\n",
      "\n"
     ]
    }
   ],
   "source": [
    "with open('new_file', 'r') as fh:\n",
    "    print(fh.readline())\n",
    "    print(fh.readline())\n",
    "    print(fh.readline())\n",
    "    print(fh.readline())\n",
    "    print(fh.readline())\n",
    "    print(fh.readline())\n",
    "    print(fh.readline())\n",
    "    print(fh.readline())\n",
    "    \n",
    "    \n",
    "    "
   ]
  },
  {
   "cell_type": "code",
   "execution_count": 10,
   "id": "591f7600",
   "metadata": {},
   "outputs": [
    {
     "name": "stdout",
     "output_type": "stream",
     "text": [
      "Present in line 2\n"
     ]
    }
   ],
   "source": [
    "line = 0\n",
    "with open('new_file', 'r') as fh:\n",
    "    while True:\n",
    "        d = fh.readline()\n",
    "        line += 1\n",
    "        if d:\n",
    "            if 'Python' in d:\n",
    "                print(f'Present in line {line}')\n",
    "        else:\n",
    "            break\n",
    "        "
   ]
  },
  {
   "cell_type": "code",
   "execution_count": 11,
   "id": "32898f4e",
   "metadata": {},
   "outputs": [
    {
     "name": "stdout",
     "output_type": "stream",
     "text": [
      "Present in line 2\n",
      "Present in line 4\n"
     ]
    }
   ],
   "source": [
    "line = 0\n",
    "with open('new_file', 'r') as fh:\n",
    "    while True:\n",
    "        d = fh.readline()\n",
    "        line += 1\n",
    "        if d:\n",
    "            if 'Python' in d:\n",
    "                print(f'Present in line {line}')\n",
    "        else:\n",
    "            break"
   ]
  },
  {
   "cell_type": "code",
   "execution_count": 12,
   "id": "ab8f26c3",
   "metadata": {},
   "outputs": [
    {
     "name": "stdout",
     "output_type": "stream",
     "text": [
      "Present in line 2\n",
      "Present in line 5\n"
     ]
    }
   ],
   "source": [
    "line = 0\n",
    "with open('new_file', 'r') as fh:\n",
    "    while True:\n",
    "        d = fh.readline()\n",
    "        line += 1\n",
    "        if d:\n",
    "            if 'Python' in d:\n",
    "                print(f'Present in line {line}')\n",
    "        else:\n",
    "            break"
   ]
  },
  {
   "cell_type": "code",
   "execution_count": 13,
   "id": "7744a543",
   "metadata": {},
   "outputs": [
    {
     "name": "stdout",
     "output_type": "stream",
     "text": [
      "Hello there!\n",
      "\n",
      "Python is fun\n",
      "\n",
      "Present in line 2\n",
      "stop\n",
      "\n",
      "\n",
      "\n",
      "We are learning file handling in Python\n",
      "Present in line 5\n",
      "\n"
     ]
    }
   ],
   "source": [
    "line = 0\n",
    "with open('new_file', 'r') as fh:\n",
    "    while True:\n",
    "        d = fh.readline()\n",
    "        print(d)\n",
    "        line += 1\n",
    "        if d:\n",
    "            if 'Python' in d:\n",
    "                print(f'Present in line {line}')\n",
    "        else:\n",
    "            break"
   ]
  },
  {
   "cell_type": "code",
   "execution_count": null,
   "id": "1f6b95c3",
   "metadata": {},
   "outputs": [],
   "source": []
  },
  {
   "cell_type": "code",
   "execution_count": null,
   "id": "9693b5ff",
   "metadata": {},
   "outputs": [],
   "source": []
  },
  {
   "cell_type": "code",
   "execution_count": 14,
   "id": "ea51a6ca",
   "metadata": {},
   "outputs": [],
   "source": [
    "# tell() - returns the current position of the file pointer in the file"
   ]
  },
  {
   "cell_type": "code",
   "execution_count": 15,
   "id": "83c03b23",
   "metadata": {},
   "outputs": [
    {
     "name": "stdout",
     "output_type": "stream",
     "text": [
      "0\n"
     ]
    }
   ],
   "source": [
    "fh = open('new_file', 'r')\n",
    "print(fh.tell())"
   ]
  },
  {
   "cell_type": "code",
   "execution_count": 16,
   "id": "33b80618",
   "metadata": {},
   "outputs": [
    {
     "data": {
      "text/plain": [
       "'Hello'"
      ]
     },
     "execution_count": 16,
     "metadata": {},
     "output_type": "execute_result"
    }
   ],
   "source": [
    "fh.read(5)"
   ]
  },
  {
   "cell_type": "code",
   "execution_count": 17,
   "id": "ef74f9af",
   "metadata": {},
   "outputs": [
    {
     "name": "stdout",
     "output_type": "stream",
     "text": [
      "5\n"
     ]
    }
   ],
   "source": [
    "print(fh.tell())"
   ]
  },
  {
   "cell_type": "code",
   "execution_count": 18,
   "id": "4221ce06",
   "metadata": {},
   "outputs": [
    {
     "data": {
      "text/plain": [
       "' there!\\nPython is fun\\nstop\\n\\nWe are learning file handling in Python'"
      ]
     },
     "execution_count": 18,
     "metadata": {},
     "output_type": "execute_result"
    }
   ],
   "source": [
    "fh.read()"
   ]
  },
  {
   "cell_type": "code",
   "execution_count": 19,
   "id": "2ece39cd",
   "metadata": {},
   "outputs": [
    {
     "name": "stdout",
     "output_type": "stream",
     "text": [
      "72\n"
     ]
    }
   ],
   "source": [
    "print(fh.tell())"
   ]
  },
  {
   "cell_type": "code",
   "execution_count": 20,
   "id": "5ad1a6bc",
   "metadata": {},
   "outputs": [
    {
     "data": {
      "text/plain": [
       "''"
      ]
     },
     "execution_count": 20,
     "metadata": {},
     "output_type": "execute_result"
    }
   ],
   "source": [
    "fh.read()"
   ]
  },
  {
   "cell_type": "code",
   "execution_count": 21,
   "id": "5bd673d6",
   "metadata": {},
   "outputs": [
    {
     "name": "stdout",
     "output_type": "stream",
     "text": [
      "72\n"
     ]
    }
   ],
   "source": [
    "print(fh.tell())"
   ]
  },
  {
   "cell_type": "code",
   "execution_count": 22,
   "id": "d0360a8f",
   "metadata": {},
   "outputs": [],
   "source": [
    "fh.close()"
   ]
  },
  {
   "cell_type": "code",
   "execution_count": null,
   "id": "63e92066",
   "metadata": {},
   "outputs": [],
   "source": []
  },
  {
   "cell_type": "code",
   "execution_count": 23,
   "id": "b03eabfa",
   "metadata": {},
   "outputs": [],
   "source": [
    "# seek() - Moves the file pointer to the specified position \n",
    "# fh.seek(offset, fromwhere)\n",
    "# fromwhere - 0,1,2\n",
    "# 0 -> beginning\n",
    "# 1 -> current position\n",
    "# 2 -> from the end"
   ]
  },
  {
   "cell_type": "code",
   "execution_count": 24,
   "id": "f748a806",
   "metadata": {},
   "outputs": [],
   "source": [
    "fh = open('new_file', 'r')"
   ]
  },
  {
   "cell_type": "code",
   "execution_count": 25,
   "id": "60bc5380",
   "metadata": {},
   "outputs": [
    {
     "data": {
      "text/plain": [
       "0"
      ]
     },
     "execution_count": 25,
     "metadata": {},
     "output_type": "execute_result"
    }
   ],
   "source": [
    "fh.tell()"
   ]
  },
  {
   "cell_type": "code",
   "execution_count": 26,
   "id": "d3459d10",
   "metadata": {},
   "outputs": [
    {
     "data": {
      "text/plain": [
       "'Hel'"
      ]
     },
     "execution_count": 26,
     "metadata": {},
     "output_type": "execute_result"
    }
   ],
   "source": [
    "fh.read(3)"
   ]
  },
  {
   "cell_type": "code",
   "execution_count": 27,
   "id": "d76e4ae1",
   "metadata": {},
   "outputs": [
    {
     "data": {
      "text/plain": [
       "3"
      ]
     },
     "execution_count": 27,
     "metadata": {},
     "output_type": "execute_result"
    }
   ],
   "source": [
    "fh.tell()"
   ]
  },
  {
   "cell_type": "code",
   "execution_count": 28,
   "id": "36304762",
   "metadata": {},
   "outputs": [
    {
     "ename": "UnsupportedOperation",
     "evalue": "can't do nonzero cur-relative seeks",
     "output_type": "error",
     "traceback": [
      "\u001b[1;31m---------------------------------------------------------------------------\u001b[0m",
      "\u001b[1;31mUnsupportedOperation\u001b[0m                      Traceback (most recent call last)",
      "\u001b[1;32m~\\AppData\\Local\\Temp/ipykernel_2460/3762144683.py\u001b[0m in \u001b[0;36m<module>\u001b[1;34m\u001b[0m\n\u001b[1;32m----> 1\u001b[1;33m \u001b[0mfh\u001b[0m\u001b[1;33m.\u001b[0m\u001b[0mseek\u001b[0m\u001b[1;33m(\u001b[0m\u001b[1;36m5\u001b[0m\u001b[1;33m,\u001b[0m \u001b[1;36m1\u001b[0m\u001b[1;33m)\u001b[0m\u001b[1;33m\u001b[0m\u001b[1;33m\u001b[0m\u001b[0m\n\u001b[0m",
      "\u001b[1;31mUnsupportedOperation\u001b[0m: can't do nonzero cur-relative seeks"
     ]
    }
   ],
   "source": [
    "fh.seek(5, 1)"
   ]
  },
  {
   "cell_type": "code",
   "execution_count": 29,
   "id": "aead9932",
   "metadata": {},
   "outputs": [
    {
     "data": {
      "text/plain": [
       "3"
      ]
     },
     "execution_count": 29,
     "metadata": {},
     "output_type": "execute_result"
    }
   ],
   "source": [
    "fh.tell()"
   ]
  },
  {
   "cell_type": "code",
   "execution_count": 35,
   "id": "9666b053",
   "metadata": {},
   "outputs": [
    {
     "data": {
      "text/plain": [
       "5"
      ]
     },
     "execution_count": 35,
     "metadata": {},
     "output_type": "execute_result"
    }
   ],
   "source": [
    "fh.seek(5)"
   ]
  },
  {
   "cell_type": "code",
   "execution_count": 36,
   "id": "7ec8d54f",
   "metadata": {},
   "outputs": [
    {
     "data": {
      "text/plain": [
       "5"
      ]
     },
     "execution_count": 36,
     "metadata": {},
     "output_type": "execute_result"
    }
   ],
   "source": [
    "fh.tell()"
   ]
  },
  {
   "cell_type": "code",
   "execution_count": 37,
   "id": "11ef21fd",
   "metadata": {},
   "outputs": [
    {
     "data": {
      "text/plain": [
       "2"
      ]
     },
     "execution_count": 37,
     "metadata": {},
     "output_type": "execute_result"
    }
   ],
   "source": [
    "fh.seek(2)"
   ]
  },
  {
   "cell_type": "code",
   "execution_count": 38,
   "id": "6a807295",
   "metadata": {},
   "outputs": [
    {
     "data": {
      "text/plain": [
       "2"
      ]
     },
     "execution_count": 38,
     "metadata": {},
     "output_type": "execute_result"
    }
   ],
   "source": [
    "fh.tell()"
   ]
  },
  {
   "cell_type": "code",
   "execution_count": 39,
   "id": "d4b8828c",
   "metadata": {},
   "outputs": [
    {
     "data": {
      "text/plain": [
       "5"
      ]
     },
     "execution_count": 39,
     "metadata": {},
     "output_type": "execute_result"
    }
   ],
   "source": [
    "fh.seek(5)"
   ]
  },
  {
   "cell_type": "code",
   "execution_count": 40,
   "id": "1d69c169",
   "metadata": {},
   "outputs": [
    {
     "data": {
      "text/plain": [
       "' there!\\nPy'"
      ]
     },
     "execution_count": 40,
     "metadata": {},
     "output_type": "execute_result"
    }
   ],
   "source": [
    "fh.read(10)"
   ]
  },
  {
   "cell_type": "code",
   "execution_count": 41,
   "id": "a3f8263c",
   "metadata": {},
   "outputs": [
    {
     "data": {
      "text/plain": [
       "15"
      ]
     },
     "execution_count": 41,
     "metadata": {},
     "output_type": "execute_result"
    }
   ],
   "source": [
    "fh.tell()"
   ]
  },
  {
   "cell_type": "code",
   "execution_count": 42,
   "id": "e511dabd",
   "metadata": {},
   "outputs": [
    {
     "ename": "UnsupportedOperation",
     "evalue": "can't do nonzero end-relative seeks",
     "output_type": "error",
     "traceback": [
      "\u001b[1;31m---------------------------------------------------------------------------\u001b[0m",
      "\u001b[1;31mUnsupportedOperation\u001b[0m                      Traceback (most recent call last)",
      "\u001b[1;32m~\\AppData\\Local\\Temp/ipykernel_2460/4217401807.py\u001b[0m in \u001b[0;36m<module>\u001b[1;34m\u001b[0m\n\u001b[1;32m----> 1\u001b[1;33m \u001b[0mfh\u001b[0m\u001b[1;33m.\u001b[0m\u001b[0mseek\u001b[0m\u001b[1;33m(\u001b[0m\u001b[1;33m-\u001b[0m\u001b[1;36m8\u001b[0m\u001b[1;33m,\u001b[0m \u001b[1;36m2\u001b[0m\u001b[1;33m)\u001b[0m\u001b[1;33m\u001b[0m\u001b[1;33m\u001b[0m\u001b[0m\n\u001b[0m",
      "\u001b[1;31mUnsupportedOperation\u001b[0m: can't do nonzero end-relative seeks"
     ]
    }
   ],
   "source": [
    "fh.seek(-8, 2)"
   ]
  },
  {
   "cell_type": "code",
   "execution_count": null,
   "id": "4b1bc741",
   "metadata": {},
   "outputs": [],
   "source": []
  },
  {
   "cell_type": "code",
   "execution_count": 43,
   "id": "c3909fee",
   "metadata": {},
   "outputs": [],
   "source": [
    "with open('file_bin', 'wb') as fh:\n",
    "    fh.write(b\"We are writing binary content\")"
   ]
  },
  {
   "cell_type": "code",
   "execution_count": 52,
   "id": "b9420577",
   "metadata": {},
   "outputs": [],
   "source": [
    "fh = open('file_bin', 'rb')"
   ]
  },
  {
   "cell_type": "code",
   "execution_count": 53,
   "id": "949f03b5",
   "metadata": {},
   "outputs": [
    {
     "data": {
      "text/plain": [
       "0"
      ]
     },
     "execution_count": 53,
     "metadata": {},
     "output_type": "execute_result"
    }
   ],
   "source": [
    "fh.tell()"
   ]
  },
  {
   "cell_type": "code",
   "execution_count": 54,
   "id": "2b9b521b",
   "metadata": {},
   "outputs": [
    {
     "data": {
      "text/plain": [
       "3"
      ]
     },
     "execution_count": 54,
     "metadata": {},
     "output_type": "execute_result"
    }
   ],
   "source": [
    "fh.seek(3)"
   ]
  },
  {
   "cell_type": "code",
   "execution_count": 55,
   "id": "a988adbd",
   "metadata": {},
   "outputs": [
    {
     "data": {
      "text/plain": [
       "3"
      ]
     },
     "execution_count": 55,
     "metadata": {},
     "output_type": "execute_result"
    }
   ],
   "source": [
    "fh.tell()"
   ]
  },
  {
   "cell_type": "code",
   "execution_count": 56,
   "id": "24faa9c4",
   "metadata": {},
   "outputs": [
    {
     "data": {
      "text/plain": [
       "b'ar'"
      ]
     },
     "execution_count": 56,
     "metadata": {},
     "output_type": "execute_result"
    }
   ],
   "source": [
    "fh.read(2)"
   ]
  },
  {
   "cell_type": "code",
   "execution_count": 57,
   "id": "d31c85dc",
   "metadata": {},
   "outputs": [
    {
     "data": {
      "text/plain": [
       "5"
      ]
     },
     "execution_count": 57,
     "metadata": {},
     "output_type": "execute_result"
    }
   ],
   "source": [
    "fh.tell()"
   ]
  },
  {
   "cell_type": "code",
   "execution_count": 58,
   "id": "1d36793a",
   "metadata": {},
   "outputs": [
    {
     "data": {
      "text/plain": [
       "10"
      ]
     },
     "execution_count": 58,
     "metadata": {},
     "output_type": "execute_result"
    }
   ],
   "source": [
    "fh.seek(5, 1)"
   ]
  },
  {
   "cell_type": "code",
   "execution_count": 59,
   "id": "dee04c1c",
   "metadata": {},
   "outputs": [
    {
     "data": {
      "text/plain": [
       "b'ti'"
      ]
     },
     "execution_count": 59,
     "metadata": {},
     "output_type": "execute_result"
    }
   ],
   "source": [
    "fh.read(2)"
   ]
  },
  {
   "cell_type": "code",
   "execution_count": 60,
   "id": "862a5e05",
   "metadata": {},
   "outputs": [
    {
     "data": {
      "text/plain": [
       "12"
      ]
     },
     "execution_count": 60,
     "metadata": {},
     "output_type": "execute_result"
    }
   ],
   "source": [
    "fh.tell()"
   ]
  },
  {
   "cell_type": "code",
   "execution_count": 61,
   "id": "9861eb9a",
   "metadata": {},
   "outputs": [
    {
     "data": {
      "text/plain": [
       "24"
      ]
     },
     "execution_count": 61,
     "metadata": {},
     "output_type": "execute_result"
    }
   ],
   "source": [
    "fh.seek(-5, 2)"
   ]
  },
  {
   "cell_type": "code",
   "execution_count": 62,
   "id": "ce2eb7db",
   "metadata": {},
   "outputs": [
    {
     "data": {
      "text/plain": [
       "b'ntent'"
      ]
     },
     "execution_count": 62,
     "metadata": {},
     "output_type": "execute_result"
    }
   ],
   "source": [
    "fh.read()"
   ]
  },
  {
   "cell_type": "code",
   "execution_count": null,
   "id": "773a9754",
   "metadata": {},
   "outputs": [],
   "source": []
  },
  {
   "cell_type": "code",
   "execution_count": 63,
   "id": "41feb311",
   "metadata": {},
   "outputs": [],
   "source": [
    "# pickle - to store structural data in a file\n",
    "# stores data in binary file \n",
    "# Serialization"
   ]
  },
  {
   "cell_type": "code",
   "execution_count": 64,
   "id": "793485c1",
   "metadata": {},
   "outputs": [],
   "source": [
    "student = {'id': 100, 'name': 'Carol', 'marks': 90, 'phone': 99999}"
   ]
  },
  {
   "cell_type": "code",
   "execution_count": 65,
   "id": "7498afcb",
   "metadata": {},
   "outputs": [
    {
     "data": {
      "text/plain": [
       "{'id': 100, 'name': 'Carol', 'marks': 90, 'phone': 99999}"
      ]
     },
     "execution_count": 65,
     "metadata": {},
     "output_type": "execute_result"
    }
   ],
   "source": [
    "student"
   ]
  },
  {
   "cell_type": "code",
   "execution_count": 66,
   "id": "1c7d90c7",
   "metadata": {},
   "outputs": [
    {
     "data": {
      "text/plain": [
       "dict"
      ]
     },
     "execution_count": 66,
     "metadata": {},
     "output_type": "execute_result"
    }
   ],
   "source": [
    "type(student)"
   ]
  },
  {
   "cell_type": "code",
   "execution_count": 67,
   "id": "0dfa9288",
   "metadata": {},
   "outputs": [],
   "source": [
    "import pickle"
   ]
  },
  {
   "cell_type": "code",
   "execution_count": 68,
   "id": "2411bf47",
   "metadata": {},
   "outputs": [],
   "source": [
    "# dump() function"
   ]
  },
  {
   "cell_type": "code",
   "execution_count": 69,
   "id": "a28d6cea",
   "metadata": {},
   "outputs": [],
   "source": [
    "fh = open('student_data.dat', 'wb')\n",
    "pickle.dump(student, fh)\n",
    "fh.close()"
   ]
  },
  {
   "cell_type": "code",
   "execution_count": null,
   "id": "3f02ce79",
   "metadata": {},
   "outputs": [],
   "source": []
  },
  {
   "cell_type": "code",
   "execution_count": null,
   "id": "34312f85",
   "metadata": {},
   "outputs": [],
   "source": []
  },
  {
   "cell_type": "code",
   "execution_count": 70,
   "id": "e1ffde4d",
   "metadata": {},
   "outputs": [],
   "source": [
    "# Unpickle - converts the binary file back to the object\n",
    "# Deserialization\n",
    "# pickle.load(file_handler)"
   ]
  },
  {
   "cell_type": "code",
   "execution_count": 71,
   "id": "59d638d9",
   "metadata": {},
   "outputs": [],
   "source": [
    "fh = open('student_data.dat', 'rb')\n",
    "content = pickle.load(fh)\n",
    "fh.close()"
   ]
  },
  {
   "cell_type": "code",
   "execution_count": 72,
   "id": "cfb1356a",
   "metadata": {},
   "outputs": [
    {
     "data": {
      "text/plain": [
       "{'id': 100, 'name': 'Carol', 'marks': 90, 'phone': 99999}"
      ]
     },
     "execution_count": 72,
     "metadata": {},
     "output_type": "execute_result"
    }
   ],
   "source": [
    "content"
   ]
  },
  {
   "cell_type": "code",
   "execution_count": 73,
   "id": "05c41cbb",
   "metadata": {},
   "outputs": [
    {
     "data": {
      "text/plain": [
       "dict"
      ]
     },
     "execution_count": 73,
     "metadata": {},
     "output_type": "execute_result"
    }
   ],
   "source": [
    "type(content)"
   ]
  },
  {
   "cell_type": "code",
   "execution_count": null,
   "id": "4e4c224d",
   "metadata": {},
   "outputs": [],
   "source": []
  },
  {
   "cell_type": "code",
   "execution_count": 74,
   "id": "ff6e6c56",
   "metadata": {},
   "outputs": [],
   "source": [
    "lst = [102, 'John', 88, 909090]\n",
    "fh = open('student_data.dat', 'ab')\n",
    "pickle.dump(lst, fh)\n",
    "fh.close()"
   ]
  },
  {
   "cell_type": "code",
   "execution_count": null,
   "id": "b4dbc0fb",
   "metadata": {},
   "outputs": [],
   "source": []
  },
  {
   "cell_type": "code",
   "execution_count": 75,
   "id": "a1ec8902",
   "metadata": {},
   "outputs": [],
   "source": [
    "fh = open('student_data.dat', 'rb')\n",
    "content = pickle.load(fh)\n",
    "fh.close()"
   ]
  },
  {
   "cell_type": "code",
   "execution_count": 76,
   "id": "2501eab1",
   "metadata": {},
   "outputs": [
    {
     "data": {
      "text/plain": [
       "{'id': 100, 'name': 'Carol', 'marks': 90, 'phone': 99999}"
      ]
     },
     "execution_count": 76,
     "metadata": {},
     "output_type": "execute_result"
    }
   ],
   "source": [
    "content"
   ]
  },
  {
   "cell_type": "code",
   "execution_count": null,
   "id": "3c8c4cd3",
   "metadata": {},
   "outputs": [],
   "source": []
  },
  {
   "cell_type": "code",
   "execution_count": 77,
   "id": "2afaf989",
   "metadata": {},
   "outputs": [],
   "source": [
    "lst = [102, 'John', 88, 909090]\n",
    "fh = open('student1_data.dat', 'ab')\n",
    "pickle.dump(lst, fh)\n",
    "fh.close()"
   ]
  },
  {
   "cell_type": "code",
   "execution_count": 78,
   "id": "e8fe42ae",
   "metadata": {},
   "outputs": [],
   "source": [
    "lst1 = [103, 'Jill', 89, 909091]\n",
    "fh = open('student1_data.dat', 'ab')\n",
    "pickle.dump(lst1, fh)\n",
    "fh.close()"
   ]
  },
  {
   "cell_type": "code",
   "execution_count": 79,
   "id": "fb328169",
   "metadata": {},
   "outputs": [
    {
     "name": "stdout",
     "output_type": "stream",
     "text": [
      "[102, 'John', 88, 909090]\n"
     ]
    }
   ],
   "source": [
    "fh = open('student1_data.dat', 'rb')\n",
    "content = pickle.load(fh)\n",
    "fh.close()\n",
    "print(content)"
   ]
  },
  {
   "cell_type": "code",
   "execution_count": 81,
   "id": "8cc403e7",
   "metadata": {},
   "outputs": [
    {
     "name": "stdout",
     "output_type": "stream",
     "text": [
      "[102, 'John', 88, 909090]\n",
      "[103, 'Jill', 89, 909091]\n"
     ]
    },
    {
     "ename": "EOFError",
     "evalue": "Ran out of input",
     "output_type": "error",
     "traceback": [
      "\u001b[1;31m---------------------------------------------------------------------------\u001b[0m",
      "\u001b[1;31mEOFError\u001b[0m                                  Traceback (most recent call last)",
      "\u001b[1;32m~\\AppData\\Local\\Temp/ipykernel_2460/372240576.py\u001b[0m in \u001b[0;36m<module>\u001b[1;34m\u001b[0m\n\u001b[0;32m      1\u001b[0m \u001b[1;32mwith\u001b[0m \u001b[0mopen\u001b[0m\u001b[1;33m(\u001b[0m\u001b[1;34m'student1_data.dat'\u001b[0m\u001b[1;33m,\u001b[0m \u001b[1;34m'rb'\u001b[0m\u001b[1;33m)\u001b[0m \u001b[1;32mas\u001b[0m \u001b[0mfh\u001b[0m\u001b[1;33m:\u001b[0m\u001b[1;33m\u001b[0m\u001b[1;33m\u001b[0m\u001b[0m\n\u001b[0;32m      2\u001b[0m     \u001b[1;32mwhile\u001b[0m \u001b[1;32mTrue\u001b[0m\u001b[1;33m:\u001b[0m\u001b[1;33m\u001b[0m\u001b[1;33m\u001b[0m\u001b[0m\n\u001b[1;32m----> 3\u001b[1;33m         \u001b[0mcontent\u001b[0m \u001b[1;33m=\u001b[0m \u001b[0mpickle\u001b[0m\u001b[1;33m.\u001b[0m\u001b[0mload\u001b[0m\u001b[1;33m(\u001b[0m\u001b[0mfh\u001b[0m\u001b[1;33m)\u001b[0m\u001b[1;33m\u001b[0m\u001b[1;33m\u001b[0m\u001b[0m\n\u001b[0m\u001b[0;32m      4\u001b[0m         \u001b[1;32mif\u001b[0m \u001b[0mcontent\u001b[0m\u001b[1;33m:\u001b[0m\u001b[1;33m\u001b[0m\u001b[1;33m\u001b[0m\u001b[0m\n\u001b[0;32m      5\u001b[0m             \u001b[0mprint\u001b[0m\u001b[1;33m(\u001b[0m\u001b[0mcontent\u001b[0m\u001b[1;33m)\u001b[0m\u001b[1;33m\u001b[0m\u001b[1;33m\u001b[0m\u001b[0m\n",
      "\u001b[1;31mEOFError\u001b[0m: Ran out of input"
     ]
    }
   ],
   "source": [
    "with open('student1_data.dat', 'rb') as fh:\n",
    "    while True:\n",
    "        content = pickle.load(fh)\n",
    "        if content:\n",
    "            print(content)\n",
    "        else:\n",
    "            break\n"
   ]
  },
  {
   "cell_type": "code",
   "execution_count": 82,
   "id": "fc198bec",
   "metadata": {},
   "outputs": [],
   "source": [
    "fh = open('new_test', 'w')\n",
    "fh.write(\"This is a content\")\n",
    "fh.close()"
   ]
  },
  {
   "cell_type": "code",
   "execution_count": 83,
   "id": "9ba5545b",
   "metadata": {},
   "outputs": [],
   "source": [
    "fh = open('new_test', 'rb')\n",
    "d = fh.read()\n",
    "fh.close()"
   ]
  },
  {
   "cell_type": "code",
   "execution_count": 84,
   "id": "b59d4938",
   "metadata": {},
   "outputs": [
    {
     "data": {
      "text/plain": [
       "b'This is a content'"
      ]
     },
     "execution_count": 84,
     "metadata": {},
     "output_type": "execute_result"
    }
   ],
   "source": [
    "d"
   ]
  },
  {
   "cell_type": "code",
   "execution_count": 85,
   "id": "a7628a9e",
   "metadata": {},
   "outputs": [
    {
     "data": {
      "text/plain": [
       "bytes"
      ]
     },
     "execution_count": 85,
     "metadata": {},
     "output_type": "execute_result"
    }
   ],
   "source": [
    "type(d)"
   ]
  },
  {
   "cell_type": "code",
   "execution_count": 86,
   "id": "7eb390b7",
   "metadata": {},
   "outputs": [
    {
     "name": "stdout",
     "output_type": "stream",
     "text": [
      "This is a content\n",
      "<class 'str'>\n"
     ]
    }
   ],
   "source": [
    "fh = open('new_test', 'r')\n",
    "d = fh.read()\n",
    "fh.close()\n",
    "print(d)\n",
    "print(type(d))"
   ]
  },
  {
   "cell_type": "code",
   "execution_count": null,
   "id": "38fbe1c9",
   "metadata": {},
   "outputs": [],
   "source": []
  },
  {
   "cell_type": "code",
   "execution_count": 88,
   "id": "f431c949",
   "metadata": {},
   "outputs": [
    {
     "name": "stdout",
     "output_type": "stream",
     "text": [
      "Help on built-in function load in module _pickle:\n",
      "\n",
      "load(file, *, fix_imports=True, encoding='ASCII', errors='strict', buffers=())\n",
      "    Read and return an object from the pickle data stored in a file.\n",
      "    \n",
      "    This is equivalent to ``Unpickler(file).load()``, but may be more\n",
      "    efficient.\n",
      "    \n",
      "    The protocol version of the pickle is detected automatically, so no\n",
      "    protocol argument is needed.  Bytes past the pickled object's\n",
      "    representation are ignored.\n",
      "    \n",
      "    The argument *file* must have two methods, a read() method that takes\n",
      "    an integer argument, and a readline() method that requires no\n",
      "    arguments.  Both methods should return bytes.  Thus *file* can be a\n",
      "    binary file object opened for reading, an io.BytesIO object, or any\n",
      "    other custom object that meets this interface.\n",
      "    \n",
      "    Optional keyword arguments are *fix_imports*, *encoding* and *errors*,\n",
      "    which are used to control compatibility support for pickle stream\n",
      "    generated by Python 2.  If *fix_imports* is True, pickle will try to\n",
      "    map the old Python 2 names to the new names used in Python 3.  The\n",
      "    *encoding* and *errors* tell pickle how to decode 8-bit string\n",
      "    instances pickled by Python 2; these default to 'ASCII' and 'strict',\n",
      "    respectively.  The *encoding* can be 'bytes' to read these 8-bit\n",
      "    string instances as bytes objects.\n",
      "\n"
     ]
    }
   ],
   "source": [
    "help(pickle.load)"
   ]
  },
  {
   "cell_type": "code",
   "execution_count": null,
   "id": "fa6316dc",
   "metadata": {},
   "outputs": [],
   "source": []
  }
 ],
 "metadata": {
  "kernelspec": {
   "display_name": "Python 3 (ipykernel)",
   "language": "python",
   "name": "python3"
  },
  "language_info": {
   "codemirror_mode": {
    "name": "ipython",
    "version": 3
   },
   "file_extension": ".py",
   "mimetype": "text/x-python",
   "name": "python",
   "nbconvert_exporter": "python",
   "pygments_lexer": "ipython3",
   "version": "3.9.7"
  }
 },
 "nbformat": 4,
 "nbformat_minor": 5
}
