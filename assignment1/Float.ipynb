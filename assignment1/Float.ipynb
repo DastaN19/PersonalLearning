{
 "cells": [
  {
   "cell_type": "markdown",
   "id": "ec424bac",
   "metadata": {},
   "source": [
    "Q. Declare a float value and store it in a variable.\n",
    "Check the type and print the id of the same."
   ]
  },
  {
   "cell_type": "code",
   "execution_count": 1,
   "id": "fa1986e0",
   "metadata": {},
   "outputs": [
    {
     "data": {
      "text/plain": [
       "float"
      ]
     },
     "execution_count": 1,
     "metadata": {},
     "output_type": "execute_result"
    }
   ],
   "source": [
    "a = 1.1\n",
    "type(a)"
   ]
  },
  {
   "cell_type": "code",
   "execution_count": 2,
   "id": "94851220",
   "metadata": {},
   "outputs": [
    {
     "name": "stdout",
     "output_type": "stream",
     "text": [
      "1943433540912\n"
     ]
    }
   ],
   "source": [
    "print(id(a))"
   ]
  },
  {
   "cell_type": "markdown",
   "id": "24f4e3e6",
   "metadata": {},
   "source": [
    "Q. Arithmetic Operations on float\n",
    "Take two different float values.\n",
    "Store them in two different variables.\n",
    "Do below operations on them:-\n",
    " Find sum of both numbers\n",
    " Find difference between them\n",
    " Find the product of both numbers.\n",
    " Find value after dividing first num with second number\n",
    " Find the remainder after dividing first number with second number\n",
    " Find the quotient after dividing first number with second number\n",
    " Find the result of the first num to the power of the second number.\n"
   ]
  },
  {
   "cell_type": "code",
   "execution_count": 3,
   "id": "dde897cd",
   "metadata": {},
   "outputs": [],
   "source": [
    "a= 5.1\n",
    "b = 2.1"
   ]
  },
  {
   "cell_type": "code",
   "execution_count": 4,
   "id": "fe1e0480",
   "metadata": {},
   "outputs": [
    {
     "data": {
      "text/plain": [
       "7.199999999999999"
      ]
     },
     "execution_count": 4,
     "metadata": {},
     "output_type": "execute_result"
    }
   ],
   "source": [
    "a+b"
   ]
  },
  {
   "cell_type": "code",
   "execution_count": 5,
   "id": "5ab694da",
   "metadata": {},
   "outputs": [
    {
     "data": {
      "text/plain": [
       "2.9999999999999996"
      ]
     },
     "execution_count": 5,
     "metadata": {},
     "output_type": "execute_result"
    }
   ],
   "source": [
    "a - b"
   ]
  },
  {
   "cell_type": "code",
   "execution_count": 6,
   "id": "fae921db",
   "metadata": {},
   "outputs": [
    {
     "data": {
      "text/plain": [
       "10.709999999999999"
      ]
     },
     "execution_count": 6,
     "metadata": {},
     "output_type": "execute_result"
    }
   ],
   "source": [
    "a*b"
   ]
  },
  {
   "cell_type": "code",
   "execution_count": 7,
   "id": "267f39de",
   "metadata": {},
   "outputs": [
    {
     "data": {
      "text/plain": [
       "2.4285714285714284"
      ]
     },
     "execution_count": 7,
     "metadata": {},
     "output_type": "execute_result"
    }
   ],
   "source": [
    "a / b"
   ]
  },
  {
   "cell_type": "code",
   "execution_count": 8,
   "id": "d903d62b",
   "metadata": {},
   "outputs": [
    {
     "data": {
      "text/plain": [
       "0.8999999999999995"
      ]
     },
     "execution_count": 8,
     "metadata": {},
     "output_type": "execute_result"
    }
   ],
   "source": [
    "a % b"
   ]
  },
  {
   "cell_type": "code",
   "execution_count": 9,
   "id": "7a01241f",
   "metadata": {},
   "outputs": [
    {
     "data": {
      "text/plain": [
       "2.4285714285714284"
      ]
     },
     "execution_count": 9,
     "metadata": {},
     "output_type": "execute_result"
    }
   ],
   "source": [
    "a / b"
   ]
  },
  {
   "cell_type": "code",
   "execution_count": 10,
   "id": "eb46a4c5",
   "metadata": {},
   "outputs": [
    {
     "data": {
      "text/plain": [
       "30.612399320407246"
      ]
     },
     "execution_count": 10,
     "metadata": {},
     "output_type": "execute_result"
    }
   ],
   "source": [
    "a ** b"
   ]
  },
  {
   "cell_type": "markdown",
   "id": "f3cf302c",
   "metadata": {},
   "source": [
    "Q. Comparison Operators on float\n",
    "Take two different float values.\n",
    "Store them in two different variables.\n",
    "Do below operations on them:-\n",
    " Compare these two numbers with below operator:-\n",
    " Greater than, '>'\n",
    " Smaller than, '<'\n",
    " Greater than or equal to, '>='\n",
    " Less than or equal to, '<='\n",
    "Observe their output(return type should be boolean)"
   ]
  },
  {
   "cell_type": "code",
   "execution_count": 11,
   "id": "c990d70d",
   "metadata": {},
   "outputs": [],
   "source": [
    "a = 10.01\n",
    "b = 10.11"
   ]
  },
  {
   "cell_type": "code",
   "execution_count": 12,
   "id": "7596fa44",
   "metadata": {},
   "outputs": [
    {
     "data": {
      "text/plain": [
       "False"
      ]
     },
     "execution_count": 12,
     "metadata": {},
     "output_type": "execute_result"
    }
   ],
   "source": [
    "a > b"
   ]
  },
  {
   "cell_type": "code",
   "execution_count": 13,
   "id": "52a215c1",
   "metadata": {},
   "outputs": [
    {
     "data": {
      "text/plain": [
       "True"
      ]
     },
     "execution_count": 13,
     "metadata": {},
     "output_type": "execute_result"
    }
   ],
   "source": [
    "a < b"
   ]
  },
  {
   "cell_type": "code",
   "execution_count": 14,
   "id": "49361a31",
   "metadata": {},
   "outputs": [
    {
     "data": {
      "text/plain": [
       "False"
      ]
     },
     "execution_count": 14,
     "metadata": {},
     "output_type": "execute_result"
    }
   ],
   "source": [
    "a >= b"
   ]
  },
  {
   "cell_type": "code",
   "execution_count": 15,
   "id": "9894aac1",
   "metadata": {},
   "outputs": [
    {
     "data": {
      "text/plain": [
       "True"
      ]
     },
     "execution_count": 15,
     "metadata": {},
     "output_type": "execute_result"
    }
   ],
   "source": [
    "a<=b"
   ]
  },
  {
   "cell_type": "markdown",
   "id": "eea1acfe",
   "metadata": {},
   "source": [
    "Q. Equality Operator\n",
    "Take two different float values.\n",
    "Store them in two different variables.\n",
    "Equate them using equality operators (==, !=)\n",
    "Observe the output(return type should be boolean)\n"
   ]
  },
  {
   "cell_type": "code",
   "execution_count": 16,
   "id": "c4d060bc",
   "metadata": {},
   "outputs": [],
   "source": [
    "a = 12.01\n",
    "b = 12.11"
   ]
  },
  {
   "cell_type": "code",
   "execution_count": 17,
   "id": "7cf02b84",
   "metadata": {},
   "outputs": [
    {
     "data": {
      "text/plain": [
       "False"
      ]
     },
     "execution_count": 17,
     "metadata": {},
     "output_type": "execute_result"
    }
   ],
   "source": [
    "a == b"
   ]
  },
  {
   "cell_type": "code",
   "execution_count": 18,
   "id": "e2d3e4ed",
   "metadata": {},
   "outputs": [
    {
     "data": {
      "text/plain": [
       "True"
      ]
     },
     "execution_count": 18,
     "metadata": {},
     "output_type": "execute_result"
    }
   ],
   "source": [
    "a!=b"
   ]
  },
  {
   "cell_type": "markdown",
   "id": "ce7abe87",
   "metadata": {},
   "source": [
    "Q. Logical operators\n",
    "Observe the output of below code\n",
    "Cross check the output manually\n"
   ]
  },
  {
   "cell_type": "code",
   "execution_count": 19,
   "id": "e5c78d8d",
   "metadata": {},
   "outputs": [
    {
     "name": "stdout",
     "output_type": "stream",
     "text": [
      "20.3\n"
     ]
    }
   ],
   "source": [
    "print(10.20 and 20.30)"
   ]
  },
  {
   "cell_type": "code",
   "execution_count": 20,
   "id": "9e44a5d1",
   "metadata": {},
   "outputs": [
    {
     "name": "stdout",
     "output_type": "stream",
     "text": [
      "0.0\n"
     ]
    }
   ],
   "source": [
    "print(0.0 and 20.30)"
   ]
  },
  {
   "cell_type": "code",
   "execution_count": 21,
   "id": "c42bb96a",
   "metadata": {},
   "outputs": [
    {
     "name": "stdout",
     "output_type": "stream",
     "text": [
      "0.0\n"
     ]
    }
   ],
   "source": [
    "print(20.30 and 0.0)\n"
   ]
  },
  {
   "cell_type": "code",
   "execution_count": 22,
   "id": "b349575a",
   "metadata": {},
   "outputs": [
    {
     "name": "stdout",
     "output_type": "stream",
     "text": [
      "0.0\n"
     ]
    }
   ],
   "source": [
    "print(0.0 and 0.0)"
   ]
  },
  {
   "cell_type": "code",
   "execution_count": 23,
   "id": "d50784b1",
   "metadata": {},
   "outputs": [
    {
     "name": "stdout",
     "output_type": "stream",
     "text": [
      "10.2\n"
     ]
    }
   ],
   "source": [
    "print(10.20 or 20.30) "
   ]
  },
  {
   "cell_type": "code",
   "execution_count": 24,
   "id": "e724be37",
   "metadata": {},
   "outputs": [
    {
     "name": "stdout",
     "output_type": "stream",
     "text": [
      "20.3\n"
     ]
    }
   ],
   "source": [
    "print(0.0 or 20.30)"
   ]
  },
  {
   "cell_type": "code",
   "execution_count": 25,
   "id": "e4458c06",
   "metadata": {},
   "outputs": [
    {
     "name": "stdout",
     "output_type": "stream",
     "text": [
      "20.3\n"
     ]
    }
   ],
   "source": [
    "print(20.30 or 0.0) "
   ]
  },
  {
   "cell_type": "code",
   "execution_count": 26,
   "id": "e8bd08a2",
   "metadata": {},
   "outputs": [
    {
     "name": "stdout",
     "output_type": "stream",
     "text": [
      "0.0\n"
     ]
    }
   ],
   "source": [
    "print(0.0 or 0.0) "
   ]
  },
  {
   "cell_type": "code",
   "execution_count": 27,
   "id": "82dd64a3",
   "metadata": {},
   "outputs": [
    {
     "name": "stdout",
     "output_type": "stream",
     "text": [
      "False\n"
     ]
    }
   ],
   "source": [
    "print(not 10.20)"
   ]
  },
  {
   "cell_type": "code",
   "execution_count": 28,
   "id": "e49a3012",
   "metadata": {},
   "outputs": [
    {
     "name": "stdout",
     "output_type": "stream",
     "text": [
      "True\n"
     ]
    }
   ],
   "source": [
    "print(not 0.0) "
   ]
  },
  {
   "cell_type": "markdown",
   "id": "e53974d5",
   "metadata": {},
   "source": [
    "Q. What is the output of expression inside print statement. Cross check\n",
    "before running the program."
   ]
  },
  {
   "cell_type": "code",
   "execution_count": 29,
   "id": "87b67171",
   "metadata": {},
   "outputs": [
    {
     "name": "stdout",
     "output_type": "stream",
     "text": [
      "False\n"
     ]
    }
   ],
   "source": [
    "a = 10.20\n",
    "b = 10.20\n",
    "print(a is b)"
   ]
  },
  {
   "cell_type": "code",
   "execution_count": 30,
   "id": "dd877a90",
   "metadata": {},
   "outputs": [
    {
     "name": "stdout",
     "output_type": "stream",
     "text": [
      "True\n"
     ]
    }
   ],
   "source": [
    "print (a is not b)"
   ]
  },
  {
   "cell_type": "markdown",
   "id": "e2bfd7e7",
   "metadata": {},
   "source": [
    "Q. Membership operation\n",
    "in, not in are two membership operators and it returns boolean value"
   ]
  },
  {
   "cell_type": "code",
   "execution_count": 31,
   "id": "9e5819cd",
   "metadata": {},
   "outputs": [
    {
     "name": "stdout",
     "output_type": "stream",
     "text": [
      "True\n"
     ]
    }
   ],
   "source": [
    "print('2.7' in 'Python2.7.8')"
   ]
  },
  {
   "cell_type": "code",
   "execution_count": 32,
   "id": "080d5316",
   "metadata": {},
   "outputs": [
    {
     "name": "stdout",
     "output_type": "stream",
     "text": [
      "True\n"
     ]
    }
   ],
   "source": [
    "print(10.20 in [10,10.20,10+20j,'Python'])"
   ]
  },
  {
   "cell_type": "code",
   "execution_count": 33,
   "id": "84bbfa9b",
   "metadata": {},
   "outputs": [
    {
     "name": "stdout",
     "output_type": "stream",
     "text": [
      "True\n"
     ]
    }
   ],
   "source": [
    "print(10.20 in (10,10.20,10+20j,'Python'))\n"
   ]
  },
  {
   "cell_type": "code",
   "execution_count": 34,
   "id": "8324ab01",
   "metadata": {},
   "outputs": [
    {
     "name": "stdout",
     "output_type": "stream",
     "text": [
      "True\n"
     ]
    }
   ],
   "source": [
    "print(20.30 in {1,20.30,30+40j}) "
   ]
  },
  {
   "cell_type": "code",
   "execution_count": 35,
   "id": "3394d877",
   "metadata": {},
   "outputs": [
    {
     "name": "stdout",
     "output_type": "stream",
     "text": [
      "True\n"
     ]
    }
   ],
   "source": [
    "print(2.3 in {1:100, 2.3:200, 30+40j:300})"
   ]
  },
  {
   "cell_type": "code",
   "execution_count": 36,
   "id": "5f240a35",
   "metadata": {},
   "outputs": [
    {
     "name": "stdout",
     "output_type": "stream",
     "text": [
      "True\n"
     ]
    }
   ],
   "source": [
    "print(10 in range(20))"
   ]
  },
  {
   "cell_type": "code",
   "execution_count": null,
   "id": "961fa3ab",
   "metadata": {},
   "outputs": [],
   "source": []
  }
 ],
 "metadata": {
  "kernelspec": {
   "display_name": "Python 3 (ipykernel)",
   "language": "python",
   "name": "python3"
  },
  "language_info": {
   "codemirror_mode": {
    "name": "ipython",
    "version": 3
   },
   "file_extension": ".py",
   "mimetype": "text/x-python",
   "name": "python",
   "nbconvert_exporter": "python",
   "pygments_lexer": "ipython3",
   "version": "3.9.7"
  }
 },
 "nbformat": 4,
 "nbformat_minor": 5
}
