{
 "cells": [
  {
   "cell_type": "code",
   "execution_count": 1,
   "id": "5ee79534",
   "metadata": {},
   "outputs": [],
   "source": [
    "# regex"
   ]
  },
  {
   "cell_type": "code",
   "execution_count": 2,
   "id": "ff18796b",
   "metadata": {},
   "outputs": [],
   "source": [
    "# used to extract specific data from a string\n",
    "# regular expression is a string or a pattern contains special characters and symbols\n",
    "# which helps us to find some information"
   ]
  },
  {
   "cell_type": "code",
   "execution_count": 3,
   "id": "b667b587",
   "metadata": {},
   "outputs": [
    {
     "data": {
      "text/plain": [
       "'\\n.       - Any Character Except New Line\\n\\\\d      - Digit (0-9)\\n\\\\D      - Not a Digit (0-9)\\n\\\\w      - Alphanumeric Character (a-z, A-Z, 0-9, _)\\n\\\\W      - Non Alphanumeric Character\\n\\\\s      - Whitespace (space, tab, newline)\\n\\\\S      - Not Whitespace (space, tab, newline)\\n\\n\\x08      - Word Boundary\\n\\\\B      - Not a Word Boundary\\n^       - Beginning of a String\\n$       - End of a String\\n\\n[A-Za-z]   - Matches one Characters in brackets\\n[^A-Z]  - Matches Characters NOT in brackets\\n|       - Either Or\\n(com|net)     - Group\\n\\nQuantifiers:\\n*       - 0 or More\\n+       - 1 or More\\n?       - 0 or One\\n{3}     - Exact Number\\n{3,4}   - Range of Numbers (Minimum, Maximum)'"
      ]
     },
     "execution_count": 3,
     "metadata": {},
     "output_type": "execute_result"
    }
   ],
   "source": [
    "# Special characters and quantifiers - help to find and extract information\n",
    "\n",
    "'''\n",
    ".       - Any Character Except New Line\n",
    "\\d      - Digit (0-9)\n",
    "\\D      - Not a Digit (0-9)\n",
    "\\w      - Alphanumeric Character (a-z, A-Z, 0-9, _)\n",
    "\\W      - Non bwwnumeric Character\n",
    "\\s      - Whitespace (space, tab, newline)\n",
    "\\S      - Not Whitespace (space, tab, newline)\n",
    "\n",
    "\\b      - Word Boundary\n",
    "\\B      - Not a Word Boundary\n",
    "^       - Beginning of a String\n",
    "$       - End of a String\n",
    "\n",
    "[A-Za-z]   - Mawwwwe Character in brackets\n",
    "[^A-Z]  - Matches Characters NOT in brackets\n",
    "|       - Either Or\n",
    "(com|net)     - Group\n",
    "\n",
    "Quantifiers:\n",
    "*       - 0 or More\n",
    "+       - 1 or More\n",
    "?       - 0 or One\n",
    "{3}     - Exact Number\n",
    "{3,4}   - Range of Numbers (Minimum, Maximum)'''\n",
    "# "
   ]
  },
  {
   "cell_type": "code",
   "execution_count": 4,
   "id": "fb6adb2f",
   "metadata": {},
   "outputs": [],
   "source": [
    "# re module \n",
    "import re"
   ]
  },
  {
   "cell_type": "code",
   "execution_count": 5,
   "id": "360327e6",
   "metadata": {},
   "outputs": [],
   "source": [
    "# match - looks for pattern in the beginning of a string\n",
    "# re.match(pattern, string)\n",
    "# If pattern is present at the beginning of the string, it returns a 'match object', else None"
   ]
  },
  {
   "cell_type": "code",
   "execution_count": 6,
   "id": "c762511a",
   "metadata": {},
   "outputs": [],
   "source": [
    "# match object - has the exact matching string of the pattern \n",
    "# It also has the index from which to which the pattern if found"
   ]
  },
  {
   "cell_type": "code",
   "execution_count": 7,
   "id": "f8139477",
   "metadata": {},
   "outputs": [
    {
     "name": "stdout",
     "output_type": "stream",
     "text": [
      "Welcome to Python. \n",
      " Hello\n"
     ]
    }
   ],
   "source": [
    "str1 = \"Welcome to Python. \\n Hello\"\n",
    "print(str1)"
   ]
  },
  {
   "cell_type": "code",
   "execution_count": 8,
   "id": "1169d5ef",
   "metadata": {},
   "outputs": [
    {
     "name": "stdout",
     "output_type": "stream",
     "text": [
      "Is this version old\n",
      "ew??\n"
     ]
    }
   ],
   "source": [
    "str2 = \"Is this version old\\new??\"\n",
    "print(str2)"
   ]
  },
  {
   "cell_type": "code",
   "execution_count": 9,
   "id": "fa7450cb",
   "metadata": {},
   "outputs": [
    {
     "name": "stdout",
     "output_type": "stream",
     "text": [
      "Is this version old\\new??\n"
     ]
    }
   ],
   "source": [
    "str2 = r\"Is this version old\\new??\"\n",
    "print(str2)"
   ]
  },
  {
   "cell_type": "code",
   "execution_count": 12,
   "id": "eb04bf17",
   "metadata": {},
   "outputs": [
    {
     "name": "stdout",
     "output_type": "stream",
     "text": [
      "Is this version old\\new 10??\n"
     ]
    }
   ],
   "source": [
    "var = 10\n",
    "str3 = fr\"Is this version old\\new {var}??\"\n",
    "print(str3)"
   ]
  },
  {
   "cell_type": "code",
   "execution_count": 13,
   "id": "66973f5e",
   "metadata": {},
   "outputs": [
    {
     "name": "stdout",
     "output_type": "stream",
     "text": [
      "Is this version old\\new 10??\n"
     ]
    }
   ],
   "source": [
    "print(rf\"Is this version old\\new {var}??\")"
   ]
  },
  {
   "cell_type": "code",
   "execution_count": 16,
   "id": "6a3ae466",
   "metadata": {},
   "outputs": [
    {
     "name": "stdout",
     "output_type": "stream",
     "text": [
      "Is this version old\\new 10??\n"
     ]
    }
   ],
   "source": [
    "print(f\"Is this version old\\\\new {var}??\")"
   ]
  },
  {
   "cell_type": "code",
   "execution_count": 17,
   "id": "e0772fe4",
   "metadata": {},
   "outputs": [
    {
     "name": "stdout",
     "output_type": "stream",
     "text": [
      "Python is a programming language\n",
      "Python3\n",
      "We are learning Python3\n",
      "We have completed our assignments\n",
      "learn python\n",
      "Assignments are submitted to learnbay3rdfeb@gmail.com\n",
      "My phone number is      91-9876543210\n",
      "a123-456-7890\n",
      "IP address is 192.100.76.24\n",
      "192.101.77.20\n",
      "What are the topics left?\n",
      "John lives in Sweden\n",
      "abc@learnbay.com\n",
      "john123@yahoo.in\n",
      "python2\n",
      "let's learn regex\n",
      "python34\n",
      "xyz-id-12@gmail.com\n",
      "xyz-id-12@gmail.com_char\n",
      "xyz-id-12@gmail-com\n",
      "xyz-id-12@gmail.whatever\n"
     ]
    }
   ],
   "source": [
    "with open('regex_file.txt', 'r') as fh:\n",
    "    content = fh.read()\n",
    "    \n",
    "print(content)"
   ]
  },
  {
   "cell_type": "code",
   "execution_count": 18,
   "id": "e6b59554",
   "metadata": {},
   "outputs": [
    {
     "data": {
      "text/plain": [
       "str"
      ]
     },
     "execution_count": 18,
     "metadata": {},
     "output_type": "execute_result"
    }
   ],
   "source": [
    "type(content)"
   ]
  },
  {
   "cell_type": "code",
   "execution_count": 20,
   "id": "a8606d6f",
   "metadata": {},
   "outputs": [],
   "source": [
    "pattern = r'Pytho\\n'\n",
    "match = re.match(pattern, content)"
   ]
  },
  {
   "cell_type": "code",
   "execution_count": 22,
   "id": "c9ffd722",
   "metadata": {},
   "outputs": [
    {
     "name": "stdout",
     "output_type": "stream",
     "text": [
      "None\n"
     ]
    }
   ],
   "source": [
    "print(match)"
   ]
  },
  {
   "cell_type": "code",
   "execution_count": 23,
   "id": "22b9595e",
   "metadata": {},
   "outputs": [
    {
     "name": "stdout",
     "output_type": "stream",
     "text": [
      "<re.Match object; span=(0, 6), match='Python'>\n"
     ]
    }
   ],
   "source": [
    "pattern = r'Python'\n",
    "match = re.match(pattern, content)\n",
    "print(match)"
   ]
  },
  {
   "cell_type": "code",
   "execution_count": 24,
   "id": "f5fa5ee9",
   "metadata": {},
   "outputs": [
    {
     "data": {
      "text/plain": [
       "'Python'"
      ]
     },
     "execution_count": 24,
     "metadata": {},
     "output_type": "execute_result"
    }
   ],
   "source": [
    "match.group()"
   ]
  },
  {
   "cell_type": "code",
   "execution_count": 25,
   "id": "82e2aea3",
   "metadata": {},
   "outputs": [
    {
     "data": {
      "text/plain": [
       "(0, 6)"
      ]
     },
     "execution_count": 25,
     "metadata": {},
     "output_type": "execute_result"
    }
   ],
   "source": [
    "match.span()"
   ]
  },
  {
   "cell_type": "code",
   "execution_count": 26,
   "id": "9728a483",
   "metadata": {},
   "outputs": [
    {
     "data": {
      "text/plain": [
       "0"
      ]
     },
     "execution_count": 26,
     "metadata": {},
     "output_type": "execute_result"
    }
   ],
   "source": [
    "match.start()"
   ]
  },
  {
   "cell_type": "code",
   "execution_count": 27,
   "id": "c8575621",
   "metadata": {},
   "outputs": [
    {
     "data": {
      "text/plain": [
       "6"
      ]
     },
     "execution_count": 27,
     "metadata": {},
     "output_type": "execute_result"
    }
   ],
   "source": [
    "match.end()"
   ]
  },
  {
   "cell_type": "code",
   "execution_count": 29,
   "id": "2bf467bb",
   "metadata": {},
   "outputs": [
    {
     "name": "stdout",
     "output_type": "stream",
     "text": [
      "None\n"
     ]
    },
    {
     "ename": "AttributeError",
     "evalue": "'NoneType' object has no attribute 'group'",
     "output_type": "error",
     "traceback": [
      "\u001b[1;31m---------------------------------------------------------------------------\u001b[0m",
      "\u001b[1;31mAttributeError\u001b[0m                            Traceback (most recent call last)",
      "\u001b[1;32m~\\AppData\\Local\\Temp/ipykernel_10032/743043947.py\u001b[0m in \u001b[0;36m<module>\u001b[1;34m\u001b[0m\n\u001b[0;32m      5\u001b[0m \u001b[0mmatch\u001b[0m \u001b[1;33m=\u001b[0m \u001b[0mre\u001b[0m\u001b[1;33m.\u001b[0m\u001b[0mmatch\u001b[0m\u001b[1;33m(\u001b[0m\u001b[0mpattern\u001b[0m\u001b[1;33m,\u001b[0m \u001b[0mcontent\u001b[0m\u001b[1;33m)\u001b[0m\u001b[1;33m\u001b[0m\u001b[1;33m\u001b[0m\u001b[0m\n\u001b[0;32m      6\u001b[0m \u001b[0mprint\u001b[0m\u001b[1;33m(\u001b[0m\u001b[0mmatch\u001b[0m\u001b[1;33m)\u001b[0m\u001b[1;33m\u001b[0m\u001b[1;33m\u001b[0m\u001b[0m\n\u001b[1;32m----> 7\u001b[1;33m \u001b[0mprint\u001b[0m\u001b[1;33m(\u001b[0m\u001b[0mmatch\u001b[0m\u001b[1;33m.\u001b[0m\u001b[0mgroup\u001b[0m\u001b[1;33m(\u001b[0m\u001b[1;33m)\u001b[0m\u001b[1;33m,\u001b[0m \u001b[0mmatch\u001b[0m\u001b[1;33m.\u001b[0m\u001b[0mspan\u001b[0m\u001b[1;33m(\u001b[0m\u001b[1;33m)\u001b[0m\u001b[1;33m)\u001b[0m\u001b[1;33m\u001b[0m\u001b[1;33m\u001b[0m\u001b[0m\n\u001b[0m",
      "\u001b[1;31mAttributeError\u001b[0m: 'NoneType' object has no attribute 'group'"
     ]
    }
   ],
   "source": [
    "with open('regex_file.txt', 'r') as fh:\n",
    "    content = fh.read()\n",
    "    \n",
    "pattern = r'Python3'\n",
    "match = re.match(pattern, content)\n",
    "print(match)\n",
    "print(match.group(), match.span())"
   ]
  },
  {
   "cell_type": "code",
   "execution_count": null,
   "id": "32418dba",
   "metadata": {},
   "outputs": [],
   "source": []
  },
  {
   "cell_type": "code",
   "execution_count": 30,
   "id": "5068e7bc",
   "metadata": {},
   "outputs": [
    {
     "name": "stdout",
     "output_type": "stream",
     "text": [
      "<re.Match object; span=(0, 1), match='P'>\n"
     ]
    }
   ],
   "source": [
    "with open('regex_file.txt', 'r') as fh:\n",
    "    content = fh.read()\n",
    "    \n",
    "pattern = r'[A-Za-z]'\n",
    "match = re.match(pattern, content)\n",
    "print(match)"
   ]
  },
  {
   "cell_type": "code",
   "execution_count": 31,
   "id": "f9afd9c5",
   "metadata": {},
   "outputs": [
    {
     "name": "stdout",
     "output_type": "stream",
     "text": [
      "<re.Match object; span=(0, 1), match='W'>\n"
     ]
    }
   ],
   "source": [
    "with open('regex_file.txt', 'r') as fh:\n",
    "    content = fh.read()\n",
    "    \n",
    "pattern = r'[A-Za-z]'\n",
    "match = re.match(pattern, content)\n",
    "print(match)"
   ]
  },
  {
   "cell_type": "code",
   "execution_count": 32,
   "id": "f8d81c92",
   "metadata": {},
   "outputs": [
    {
     "name": "stdout",
     "output_type": "stream",
     "text": [
      "<re.Match object; span=(0, 6), match='Python'>\n"
     ]
    }
   ],
   "source": [
    "with open('regex_file.txt', 'r') as fh:\n",
    "    content = fh.read()\n",
    "    \n",
    "pattern = r'[A-Za-z]{6}'\n",
    "match = re.match(pattern, content)\n",
    "print(match)"
   ]
  },
  {
   "cell_type": "code",
   "execution_count": 33,
   "id": "31073300",
   "metadata": {},
   "outputs": [
    {
     "name": "stdout",
     "output_type": "stream",
     "text": [
      "None\n"
     ]
    }
   ],
   "source": [
    "with open('regex_file.txt', 'r') as fh:\n",
    "    content = fh.read()\n",
    "    \n",
    "pattern = r'[A-Za-z]{7}'\n",
    "match = re.match(pattern, content)\n",
    "print(match)"
   ]
  },
  {
   "cell_type": "code",
   "execution_count": 34,
   "id": "d552d596",
   "metadata": {},
   "outputs": [
    {
     "name": "stdout",
     "output_type": "stream",
     "text": [
      "None\n"
     ]
    }
   ],
   "source": [
    "with open('regex_file.txt', 'r') as fh:\n",
    "    content = fh.read()\n",
    "    \n",
    "pattern = r'[A-Za-z]{6}\\d'\n",
    "match = re.match(pattern, content)\n",
    "print(match)"
   ]
  },
  {
   "cell_type": "code",
   "execution_count": 1,
   "id": "99a82353",
   "metadata": {},
   "outputs": [
    {
     "ename": "FileNotFoundError",
     "evalue": "[Errno 2] No such file or directory: 'regex_file.txt'",
     "output_type": "error",
     "traceback": [
      "\u001b[1;31m---------------------------------------------------------------------------\u001b[0m",
      "\u001b[1;31mFileNotFoundError\u001b[0m                         Traceback (most recent call last)",
      "\u001b[1;32m~\\AppData\\Local\\Temp/ipykernel_16144/2127168843.py\u001b[0m in \u001b[0;36m<module>\u001b[1;34m\u001b[0m\n\u001b[1;32m----> 1\u001b[1;33m \u001b[1;32mwith\u001b[0m \u001b[0mopen\u001b[0m\u001b[1;33m(\u001b[0m\u001b[1;34m'regex_file.txt'\u001b[0m\u001b[1;33m,\u001b[0m \u001b[1;34m'r'\u001b[0m\u001b[1;33m)\u001b[0m \u001b[1;32mas\u001b[0m \u001b[0mfh\u001b[0m\u001b[1;33m:\u001b[0m\u001b[1;33m\u001b[0m\u001b[1;33m\u001b[0m\u001b[0m\n\u001b[0m\u001b[0;32m      2\u001b[0m     \u001b[0mcontent\u001b[0m \u001b[1;33m=\u001b[0m \u001b[0mfh\u001b[0m\u001b[1;33m.\u001b[0m\u001b[0mread\u001b[0m\u001b[1;33m(\u001b[0m\u001b[1;33m)\u001b[0m\u001b[1;33m\u001b[0m\u001b[1;33m\u001b[0m\u001b[0m\n\u001b[0;32m      3\u001b[0m \u001b[1;33m\u001b[0m\u001b[0m\n\u001b[0;32m      4\u001b[0m \u001b[0mpattern\u001b[0m \u001b[1;33m=\u001b[0m \u001b[1;34mr'[A-Za-z]{6}\\d'\u001b[0m\u001b[1;33m\u001b[0m\u001b[1;33m\u001b[0m\u001b[0m\n\u001b[0;32m      5\u001b[0m \u001b[0mmatch\u001b[0m \u001b[1;33m=\u001b[0m \u001b[0mre\u001b[0m\u001b[1;33m.\u001b[0m\u001b[0mmatch\u001b[0m\u001b[1;33m(\u001b[0m\u001b[0mpattern\u001b[0m\u001b[1;33m,\u001b[0m \u001b[0mcontent\u001b[0m\u001b[1;33m)\u001b[0m\u001b[1;33m\u001b[0m\u001b[1;33m\u001b[0m\u001b[0m\n",
      "\u001b[1;31mFileNotFoundError\u001b[0m: [Errno 2] No such file or directory: 'regex_file.txt'"
     ]
    }
   ],
   "source": [
    "with open('regex_file.txt', 'r') as fh:\n",
    "    content = fh.read()\n",
    "    \n",
    "pattern = r'[A-Za-z]{6}\\d'\n",
    "match = re.match(pattern, content)\n",
    "print(match)"
   ]
  },
  {
   "cell_type": "code",
   "execution_count": 36,
   "id": "2d12f483",
   "metadata": {},
   "outputs": [
    {
     "name": "stdout",
     "output_type": "stream",
     "text": [
      "<re.Match object; span=(0, 7), match='Python3'>\n"
     ]
    }
   ],
   "source": [
    "with open('regex_file.txt', 'r') as fh:\n",
    "    content = fh.read()\n",
    "    \n",
    "pattern = r'[A-Za-z]{6}[0-9]'\n",
    "match = re.match(pattern, content)\n",
    "print(match)"
   ]
  },
  {
   "cell_type": "code",
   "execution_count": 37,
   "id": "c8fdfcd6",
   "metadata": {},
   "outputs": [
    {
     "data": {
      "text/plain": [
       "re.Match"
      ]
     },
     "execution_count": 37,
     "metadata": {},
     "output_type": "execute_result"
    }
   ],
   "source": [
    "type(match)"
   ]
  },
  {
   "cell_type": "code",
   "execution_count": 2,
   "id": "2bb56844",
   "metadata": {},
   "outputs": [],
   "source": [
    "str5 = \"\"\"3feb batch\n",
    "Learning Python\n",
    "Learning regex today\n",
    "\"\"\""
   ]
  },
  {
   "cell_type": "code",
   "execution_count": 5,
   "id": "cf922b4d",
   "metadata": {},
   "outputs": [
    {
     "name": "stdout",
     "output_type": "stream",
     "text": [
      "3feb batch\n",
      "Learning Python\n",
      "Learning regex today\n",
      "\n"
     ]
    }
   ],
   "source": [
    "print(str5)\n",
    "import re"
   ]
  },
  {
   "cell_type": "code",
   "execution_count": 6,
   "id": "73fd70a4",
   "metadata": {},
   "outputs": [
    {
     "name": "stdout",
     "output_type": "stream",
     "text": [
      "<re.Match object; span=(0, 4), match='3feb'>\n"
     ]
    }
   ],
   "source": [
    "pattern = r'\\d[a-z]{3}'\n",
    "m = re.match(pattern, str5)\n",
    "print(m)"
   ]
  },
  {
   "cell_type": "code",
   "execution_count": 43,
   "id": "1d819a7e",
   "metadata": {},
   "outputs": [],
   "source": [
    "str5 = \"\"\"13feb batch\n",
    "Learning Python\n",
    "Learning regex today\n",
    "\"\"\""
   ]
  },
  {
   "cell_type": "code",
   "execution_count": 44,
   "id": "4aa9239e",
   "metadata": {},
   "outputs": [
    {
     "name": "stdout",
     "output_type": "stream",
     "text": [
      "None\n"
     ]
    }
   ],
   "source": [
    "pattern = r'\\d[a-z]{3}'\n",
    "m = re.match(pattern, str5)\n",
    "print(m)"
   ]
  },
  {
   "cell_type": "code",
   "execution_count": 45,
   "id": "b5afab28",
   "metadata": {},
   "outputs": [
    {
     "name": "stdout",
     "output_type": "stream",
     "text": [
      "<re.Match object; span=(0, 5), match='13feb'>\n"
     ]
    }
   ],
   "source": [
    "pattern = r'\\d{2}[a-z]{3}'\n",
    "m = re.match(pattern, str5)\n",
    "print(m)"
   ]
  },
  {
   "cell_type": "code",
   "execution_count": 46,
   "id": "d8726852",
   "metadata": {},
   "outputs": [
    {
     "data": {
      "text/plain": [
       "'13feb batch\\nLearning Python\\nLearning regex today\\n'"
      ]
     },
     "execution_count": 46,
     "metadata": {},
     "output_type": "execute_result"
    }
   ],
   "source": [
    "str5"
   ]
  },
  {
   "cell_type": "code",
   "execution_count": 47,
   "id": "5eca40a3",
   "metadata": {},
   "outputs": [
    {
     "name": "stdout",
     "output_type": "stream",
     "text": [
      "<re.Match object; span=(0, 5), match='13feb'>\n"
     ]
    }
   ],
   "source": [
    "pattern = r'\\d+[a-z]{3}'\n",
    "m = re.match(pattern, str5)\n",
    "print(m)"
   ]
  },
  {
   "cell_type": "code",
   "execution_count": 48,
   "id": "785d1c6e",
   "metadata": {},
   "outputs": [
    {
     "name": "stdout",
     "output_type": "stream",
     "text": [
      "<re.Match object; span=(0, 4), match='3feb'>\n"
     ]
    }
   ],
   "source": [
    "str6 = \"\"\"3feb batch\n",
    "Learning Python\n",
    "Learning regex today\n",
    "\"\"\"\n",
    "pattern = r'\\d+[a-z]{3}'\n",
    "m = re.match(pattern, str6)\n",
    "print(m)\n"
   ]
  },
  {
   "cell_type": "code",
   "execution_count": 49,
   "id": "e0b60d1d",
   "metadata": {},
   "outputs": [
    {
     "name": "stdout",
     "output_type": "stream",
     "text": [
      "<re.Match object; span=(0, 7), match='2022feb'>\n"
     ]
    }
   ],
   "source": [
    "str6 = \"\"\"2022feb3 batch\n",
    "Learning Python\n",
    "Learning regex today\n",
    "\"\"\"\n",
    "pattern = r'\\d+[a-z]{3}'\n",
    "m = re.match(pattern, str6)\n",
    "print(m)\n"
   ]
  },
  {
   "cell_type": "code",
   "execution_count": 50,
   "id": "32a3a65f",
   "metadata": {},
   "outputs": [
    {
     "name": "stdout",
     "output_type": "stream",
     "text": [
      "<re.Match object; span=(0, 7), match='2022feb'>\n"
     ]
    }
   ],
   "source": [
    "str6 = \"\"\"2022feb3 batch\n",
    "Learning Python\n",
    "Learning regex today\n",
    "\"\"\"\n",
    "pattern = r'\\d+[a-z]+'\n",
    "m = re.match(pattern, str6)\n",
    "print(m)"
   ]
  },
  {
   "cell_type": "code",
   "execution_count": 51,
   "id": "8f39dbcc",
   "metadata": {},
   "outputs": [
    {
     "name": "stdout",
     "output_type": "stream",
     "text": [
      "<re.Match object; span=(0, 8), match='2022feb3'>\n"
     ]
    }
   ],
   "source": [
    "str6 = \"\"\"2022feb3 batch\n",
    "Learning Python\n",
    "Learning regex today\n",
    "\"\"\"\n",
    "pattern = r'\\d+[a-z]+\\d+'\n",
    "m = re.match(pattern, str6)\n",
    "print(m)"
   ]
  },
  {
   "cell_type": "code",
   "execution_count": 52,
   "id": "ef88d924",
   "metadata": {},
   "outputs": [
    {
     "name": "stdout",
     "output_type": "stream",
     "text": [
      "<re.Match object; span=(0, 11), match='2022march31'>\n"
     ]
    }
   ],
   "source": [
    "str6 = \"\"\"2022march31 batch\n",
    "Learning Python\n",
    "Learning regex today\n",
    "\"\"\"\n",
    "pattern = r'\\d+[a-z]+\\d+'\n",
    "m = re.match(pattern, str6)\n",
    "print(m)"
   ]
  },
  {
   "cell_type": "code",
   "execution_count": 53,
   "id": "04888d75",
   "metadata": {},
   "outputs": [
    {
     "name": "stdout",
     "output_type": "stream",
     "text": [
      "None\n"
     ]
    }
   ],
   "source": [
    "str6 = \"\"\"2022March31 batch\n",
    "Learning Python\n",
    "Learning regex today\n",
    "\"\"\"\n",
    "pattern = r'\\d+[a-z]+\\d+'\n",
    "m = re.match(pattern, str6)\n",
    "print(m)"
   ]
  },
  {
   "cell_type": "code",
   "execution_count": 54,
   "id": "e74aa2cb",
   "metadata": {},
   "outputs": [
    {
     "name": "stdout",
     "output_type": "stream",
     "text": [
      "<re.Match object; span=(0, 11), match='2022March31'>\n"
     ]
    }
   ],
   "source": [
    "str6 = \"\"\"2022March31 batch\n",
    "Learning Python\n",
    "Learning regex today\n",
    "\"\"\"\n",
    "pattern = r'\\d+[a-zA-Z]+\\d+'\n",
    "m = re.match(pattern, str6)\n",
    "print(m)"
   ]
  },
  {
   "cell_type": "code",
   "execution_count": 55,
   "id": "962413b6",
   "metadata": {},
   "outputs": [
    {
     "name": "stdout",
     "output_type": "stream",
     "text": [
      "<re.Match object; span=(0, 11), match='2022March31'>\n"
     ]
    }
   ],
   "source": [
    "str6 = \"\"\"2022March31 batch\n",
    "Learning Python\n",
    "Learning regex today\n",
    "\"\"\"\n",
    "pattern = r'\\w+'\n",
    "m = re.match(pattern, str6)\n",
    "print(m)"
   ]
  },
  {
   "cell_type": "code",
   "execution_count": null,
   "id": "333a0d7d",
   "metadata": {},
   "outputs": [],
   "source": []
  },
  {
   "cell_type": "code",
   "execution_count": 56,
   "id": "37beb1a9",
   "metadata": {},
   "outputs": [],
   "source": [
    "# search - finds the pattern in the string  (anywhere in the string)\n",
    "# if pattern is found, it returns match object of the first occurance\n",
    "# if pattern is not found, returns None"
   ]
  },
  {
   "cell_type": "code",
   "execution_count": 57,
   "id": "0081c31d",
   "metadata": {},
   "outputs": [
    {
     "name": "stdout",
     "output_type": "stream",
     "text": [
      "<re.Match object; span=(13, 19), match='progra'>\n"
     ]
    }
   ],
   "source": [
    "with open('regex_file.txt', 'r') as fh:\n",
    "    content = fh.read()\n",
    "    \n",
    "pattern = r'[a-z]{6}'\n",
    "match = re.search(pattern, content)\n",
    "print(match)"
   ]
  },
  {
   "cell_type": "code",
   "execution_count": 59,
   "id": "0a8a0c89",
   "metadata": {},
   "outputs": [
    {
     "name": "stdout",
     "output_type": "stream",
     "text": [
      "<re.Match object; span=(191, 204), match='91-9876543210'>\n"
     ]
    }
   ],
   "source": [
    "with open('regex_file.txt', 'r') as fh:\n",
    "    content = fh.read()\n",
    "    \n",
    "pattern = r'[0-9]{2}-[0-9]{10}'\n",
    "match = re.search(pattern, content)\n",
    "print(match)"
   ]
  },
  {
   "cell_type": "code",
   "execution_count": 61,
   "id": "6153c200",
   "metadata": {},
   "outputs": [
    {
     "name": "stdout",
     "output_type": "stream",
     "text": [
      "<re.Match object; span=(191, 204), match='91-9876543210'>\n"
     ]
    }
   ],
   "source": [
    "with open('regex_file.txt', 'r') as fh:\n",
    "    content = fh.read()\n",
    "    \n",
    "pattern = r'\\d{2}\\W\\d{10}'\n",
    "match = re.search(pattern, content)\n",
    "print(match)"
   ]
  },
  {
   "cell_type": "code",
   "execution_count": 62,
   "id": "127536f7",
   "metadata": {},
   "outputs": [],
   "source": [
    "# findall() - finds all occurances of the pattern\n",
    "# re.findall(pattern, string)\n",
    "# If pattern is found, returns a list of all the match occurances\n",
    "# If pattern not found, it returns an empty list"
   ]
  },
  {
   "cell_type": "code",
   "execution_count": 63,
   "id": "b57fb5e4",
   "metadata": {},
   "outputs": [
    {
     "name": "stdout",
     "output_type": "stream",
     "text": [
      "['Python3', 'Python3', 'Python3', 'arnbay3', 'Jothan2', 'python2', 'python3']\n"
     ]
    }
   ],
   "source": [
    "with open('regex_file.txt', 'r') as fh:\n",
    "    content = fh.read()\n",
    "    \n",
    "pattern = r'[a-zA-Z]{6}\\d'\n",
    "match = re.findall(pattern, content)\n",
    "print(match)"
   ]
  },
  {
   "cell_type": "code",
   "execution_count": 64,
   "id": "7eada7d5",
   "metadata": {},
   "outputs": [
    {
     "name": "stdout",
     "output_type": "stream",
     "text": [
      "['language', 'learning', 'learnbay', 'learnbay']\n"
     ]
    }
   ],
   "source": [
    "with open('regex_file.txt', 'r') as fh:\n",
    "    content = fh.read()\n",
    "    \n",
    "pattern = r'l[a-zA-Z]{7}'\n",
    "match = re.findall(pattern, content)\n",
    "print(match)"
   ]
  },
  {
   "cell_type": "code",
   "execution_count": 65,
   "id": "0d8c85bb",
   "metadata": {},
   "outputs": [
    {
     "name": "stdout",
     "output_type": "stream",
     "text": [
      "['Python3', 'Python3', 'Python3', 'learnbay3', 'a123', 'Jothan25', 'john123', 'python2', 'python34']\n"
     ]
    }
   ],
   "source": [
    "with open('regex_file.txt', 'r') as fh:\n",
    "    content = fh.read()\n",
    "    \n",
    "pattern = r'[a-zA-Z]+[0-9]+'\n",
    "match = re.findall(pattern, content)\n",
    "print(match)"
   ]
  },
  {
   "cell_type": "code",
   "execution_count": 67,
   "id": "d9846da8",
   "metadata": {},
   "outputs": [
    {
     "name": "stdout",
     "output_type": "stream",
     "text": [
      "['abc', 'def', 'ghi', 'klm', 'pqr']\n"
     ]
    }
   ],
   "source": [
    "str2 = 'abc def ghij klmno pqr'\n",
    "pattern = r'[a-z]{3}'\n",
    "match = re.findall(pattern, str2)\n",
    "print(match)"
   ]
  },
  {
   "cell_type": "code",
   "execution_count": 68,
   "id": "9c1b2358",
   "metadata": {},
   "outputs": [
    {
     "name": "stdout",
     "output_type": "stream",
     "text": [
      "['abc', 'def', 'ghij', 'klmno', 'pqr']\n"
     ]
    }
   ],
   "source": [
    "str2 = 'abc def ghij klmno pqr'\n",
    "pattern = r'[a-z]+'\n",
    "match = re.findall(pattern, str2)\n",
    "print(match)"
   ]
  },
  {
   "cell_type": "code",
   "execution_count": 69,
   "id": "1ecd14bd",
   "metadata": {},
   "outputs": [
    {
     "name": "stdout",
     "output_type": "stream",
     "text": [
      "[\"let's learn regex\"]\n"
     ]
    }
   ],
   "source": [
    "with open('regex_file.txt', 'r') as fh:\n",
    "    content = fh.read()\n",
    "    \n",
    "pattern = r\"let's learn regex\"\n",
    "match = re.findall(pattern, content)\n",
    "print(match)"
   ]
  },
  {
   "cell_type": "code",
   "execution_count": 76,
   "id": "876fa86a",
   "metadata": {},
   "outputs": [
    {
     "name": "stdout",
     "output_type": "stream",
     "text": [
      "['leted our assignments', \"let's learn regex\", 'let me work, buddy!']\n"
     ]
    }
   ],
   "source": [
    "with open('regex_file.txt', 'r') as fh:\n",
    "    content = fh.read()\n",
    "    \n",
    "pattern = r'let.*'\n",
    "match = re.findall(pattern, content)\n",
    "print(match)"
   ]
  },
  {
   "cell_type": "code",
   "execution_count": 77,
   "id": "60121098",
   "metadata": {},
   "outputs": [
    {
     "name": "stdout",
     "output_type": "stream",
     "text": [
      "[]\n"
     ]
    }
   ],
   "source": [
    "with open('regex_file.txt', 'r') as fh:\n",
    "    content = fh.read()\n",
    "    \n",
    "pattern = r'^let.*'\n",
    "match = re.findall(pattern, content)\n",
    "print(match)"
   ]
  },
  {
   "cell_type": "code",
   "execution_count": 78,
   "id": "be7057a7",
   "metadata": {},
   "outputs": [],
   "source": [
    "# finditer()\n",
    "# finds all the occurances of the pattern\n",
    "# If pattern is found, it returns an iterator of match objects for all occurances\n",
    "# If not found, it returns None\n",
    "# re.finditer(pattern, string)"
   ]
  },
  {
   "cell_type": "code",
   "execution_count": 79,
   "id": "7e8030d9",
   "metadata": {},
   "outputs": [
    {
     "name": "stdout",
     "output_type": "stream",
     "text": [
      "<callable_iterator object at 0x000001684588A6A0>\n"
     ]
    }
   ],
   "source": [
    "with open('regex_file.txt', 'r') as fh:\n",
    "    content = fh.read()\n",
    "    \n",
    "pattern = r'l[a-zA-Z]{7}'\n",
    "match = re.finditer(pattern, content)\n",
    "print(match)"
   ]
  },
  {
   "cell_type": "code",
   "execution_count": 80,
   "id": "d71c9b2b",
   "metadata": {},
   "outputs": [
    {
     "name": "stdout",
     "output_type": "stream",
     "text": [
      "<re.Match object; span=(25, 33), match='language'>\n",
      "<re.Match object; span=(49, 57), match='learning'>\n",
      "<re.Match object; span=(142, 150), match='learnbay'>\n",
      "<re.Match object; span=(331, 339), match='learnbay'>\n"
     ]
    }
   ],
   "source": [
    "for i in match:\n",
    "    print(i)"
   ]
  },
  {
   "cell_type": "code",
   "execution_count": 81,
   "id": "f5a52a80",
   "metadata": {},
   "outputs": [],
   "source": [
    "for i in match:\n",
    "    print(i.group())"
   ]
  },
  {
   "cell_type": "code",
   "execution_count": 82,
   "id": "e27179fb",
   "metadata": {},
   "outputs": [
    {
     "data": {
      "text/plain": [
       "<callable_iterator at 0x1684588a6a0>"
      ]
     },
     "execution_count": 82,
     "metadata": {},
     "output_type": "execute_result"
    }
   ],
   "source": [
    "match"
   ]
  },
  {
   "cell_type": "code",
   "execution_count": 83,
   "id": "13f8cfc4",
   "metadata": {},
   "outputs": [
    {
     "name": "stdout",
     "output_type": "stream",
     "text": [
      "language\n",
      "learning\n",
      "learnbay\n",
      "learnbay\n"
     ]
    }
   ],
   "source": [
    "with open('regex_file.txt', 'r') as fh:\n",
    "    content = fh.read()\n",
    "    \n",
    "pattern = r'l[a-zA-Z]{7}'\n",
    "match = re.finditer(pattern, content)\n",
    "for i in match:\n",
    "    print(i.group())"
   ]
  },
  {
   "cell_type": "code",
   "execution_count": 84,
   "id": "68fc82d2",
   "metadata": {},
   "outputs": [
    {
     "name": "stdout",
     "output_type": "stream",
     "text": [
      "<re.Match object; span=(7, 8), match=' '>\n",
      "<re.Match object; span=(10, 11), match=' '>\n",
      "<re.Match object; span=(12, 13), match=' '>\n",
      "<re.Match object; span=(24, 25), match=' '>\n",
      "<re.Match object; span=(33, 34), match='\\n'>\n",
      "<re.Match object; span=(41, 42), match='\\n'>\n",
      "<re.Match object; span=(44, 45), match=' '>\n",
      "<re.Match object; span=(48, 49), match=' '>\n",
      "<re.Match object; span=(57, 58), match=' '>\n",
      "<re.Match object; span=(65, 66), match='\\n'>\n",
      "<re.Match object; span=(68, 69), match=' '>\n",
      "<re.Match object; span=(73, 74), match=' '>\n",
      "<re.Match object; span=(83, 84), match=' '>\n",
      "<re.Match object; span=(87, 88), match=' '>\n",
      "<re.Match object; span=(99, 100), match='\\n'>\n",
      "<re.Match object; span=(105, 106), match=' '>\n",
      "<re.Match object; span=(112, 113), match='\\n'>\n",
      "<re.Match object; span=(124, 125), match=' '>\n",
      "<re.Match object; span=(128, 129), match=' '>\n",
      "<re.Match object; span=(138, 139), match=' '>\n",
      "<re.Match object; span=(141, 142), match=' '>\n",
      "<re.Match object; span=(156, 157), match='@'>\n",
      "<re.Match object; span=(162, 163), match='.'>\n",
      "<re.Match object; span=(166, 167), match='\\n'>\n",
      "<re.Match object; span=(169, 170), match=' '>\n",
      "<re.Match object; span=(175, 176), match=' '>\n",
      "<re.Match object; span=(182, 183), match=' '>\n",
      "<re.Match object; span=(185, 186), match=' '>\n",
      "<re.Match object; span=(186, 187), match=' '>\n",
      "<re.Match object; span=(187, 188), match=' '>\n",
      "<re.Match object; span=(188, 189), match=' '>\n",
      "<re.Match object; span=(189, 190), match=' '>\n",
      "<re.Match object; span=(190, 191), match=' '>\n",
      "<re.Match object; span=(193, 194), match='-'>\n",
      "<re.Match object; span=(204, 205), match='\\n'>\n",
      "<re.Match object; span=(209, 210), match='-'>\n",
      "<re.Match object; span=(213, 214), match='-'>\n",
      "<re.Match object; span=(218, 219), match='\\n'>\n",
      "<re.Match object; span=(221, 222), match=' '>\n",
      "<re.Match object; span=(229, 230), match=' '>\n",
      "<re.Match object; span=(232, 233), match=' '>\n",
      "<re.Match object; span=(236, 237), match='.'>\n",
      "<re.Match object; span=(240, 241), match='.'>\n",
      "<re.Match object; span=(243, 244), match='.'>\n",
      "<re.Match object; span=(246, 247), match='\\n'>\n",
      "<re.Match object; span=(250, 251), match='.'>\n",
      "<re.Match object; span=(254, 255), match='.'>\n",
      "<re.Match object; span=(257, 258), match='.'>\n",
      "<re.Match object; span=(260, 261), match='\\n'>\n",
      "<re.Match object; span=(269, 270), match='@'>\n",
      "<re.Match object; span=(275, 276), match='.'>\n",
      "<re.Match object; span=(279, 280), match='\\n'>\n",
      "<re.Match object; span=(284, 285), match=' '>\n",
      "<re.Match object; span=(288, 289), match=' '>\n",
      "<re.Match object; span=(292, 293), match=' '>\n",
      "<re.Match object; span=(299, 300), match=' '>\n",
      "<re.Match object; span=(304, 305), match='?'>\n",
      "<re.Match object; span=(305, 306), match='\\n'>\n",
      "<re.Match object; span=(310, 311), match=' '>\n",
      "<re.Match object; span=(316, 317), match=' '>\n",
      "<re.Match object; span=(319, 320), match=' '>\n",
      "<re.Match object; span=(326, 327), match='\\n'>\n",
      "<re.Match object; span=(330, 331), match='@'>\n",
      "<re.Match object; span=(339, 340), match='.'>\n",
      "<re.Match object; span=(343, 344), match='\\n'>\n",
      "<re.Match object; span=(351, 352), match='@'>\n",
      "<re.Match object; span=(357, 358), match='.'>\n",
      "<re.Match object; span=(360, 361), match='\\n'>\n",
      "<re.Match object; span=(368, 369), match='\\n'>\n",
      "<re.Match object; span=(372, 373), match=\"'\">\n",
      "<re.Match object; span=(374, 375), match=' '>\n",
      "<re.Match object; span=(380, 381), match=' '>\n",
      "<re.Match object; span=(386, 387), match='\\n'>\n",
      "<re.Match object; span=(395, 396), match='\\n'>\n",
      "<re.Match object; span=(398, 399), match=' '>\n",
      "<re.Match object; span=(403, 404), match=','>\n",
      "<re.Match object; span=(404, 405), match=' '>\n",
      "<re.Match object; span=(408, 409), match=' '>\n",
      "<re.Match object; span=(411, 412), match=' '>\n",
      "<re.Match object; span=(416, 417), match=','>\n",
      "<re.Match object; span=(417, 418), match=' '>\n",
      "<re.Match object; span=(423, 424), match='!'>\n",
      "<re.Match object; span=(424, 425), match='\\n'>\n",
      "<re.Match object; span=(428, 429), match='-'>\n",
      "<re.Match object; span=(431, 432), match='-'>\n",
      "<re.Match object; span=(434, 435), match='@'>\n",
      "<re.Match object; span=(440, 441), match='.'>\n",
      "<re.Match object; span=(444, 445), match='\\n'>\n",
      "<re.Match object; span=(448, 449), match='-'>\n",
      "<re.Match object; span=(451, 452), match='-'>\n",
      "<re.Match object; span=(454, 455), match='@'>\n",
      "<re.Match object; span=(460, 461), match='.'>\n",
      "<re.Match object; span=(469, 470), match='\\n'>\n",
      "<re.Match object; span=(473, 474), match='-'>\n",
      "<re.Match object; span=(476, 477), match='-'>\n",
      "<re.Match object; span=(479, 480), match='@'>\n",
      "<re.Match object; span=(485, 486), match='-'>\n",
      "<re.Match object; span=(489, 490), match='\\n'>\n",
      "<re.Match object; span=(493, 494), match='-'>\n",
      "<re.Match object; span=(496, 497), match='-'>\n",
      "<re.Match object; span=(499, 500), match='@'>\n",
      "<re.Match object; span=(505, 506), match='.'>\n"
     ]
    }
   ],
   "source": [
    "# \\W - non alphanumeric character\n",
    "\n",
    "with open('regex_file.txt', 'r') as fh:\n",
    "    content = fh.read()\n",
    "    \n",
    "pattern = r'\\W'\n",
    "match = re.finditer(pattern, content)\n",
    "for i in match:\n",
    "    print(i)"
   ]
  },
  {
   "cell_type": "code",
   "execution_count": 85,
   "id": "99962d36",
   "metadata": {},
   "outputs": [
    {
     "name": "stdout",
     "output_type": "stream",
     "text": [
      "<re.Match object; span=(6, 7), match='3'>\n",
      "<re.Match object; span=(40, 41), match='3'>\n",
      "<re.Match object; span=(64, 65), match='3'>\n",
      "<re.Match object; span=(150, 151), match='3'>\n",
      "<re.Match object; span=(191, 192), match='9'>\n",
      "<re.Match object; span=(192, 193), match='1'>\n",
      "<re.Match object; span=(194, 195), match='9'>\n",
      "<re.Match object; span=(195, 196), match='8'>\n",
      "<re.Match object; span=(196, 197), match='7'>\n",
      "<re.Match object; span=(197, 198), match='6'>\n",
      "<re.Match object; span=(198, 199), match='5'>\n",
      "<re.Match object; span=(199, 200), match='4'>\n",
      "<re.Match object; span=(200, 201), match='3'>\n",
      "<re.Match object; span=(201, 202), match='2'>\n",
      "<re.Match object; span=(202, 203), match='1'>\n",
      "<re.Match object; span=(203, 204), match='0'>\n",
      "<re.Match object; span=(206, 207), match='1'>\n",
      "<re.Match object; span=(207, 208), match='2'>\n",
      "<re.Match object; span=(208, 209), match='3'>\n",
      "<re.Match object; span=(210, 211), match='4'>\n",
      "<re.Match object; span=(211, 212), match='5'>\n",
      "<re.Match object; span=(212, 213), match='6'>\n",
      "<re.Match object; span=(214, 215), match='7'>\n",
      "<re.Match object; span=(215, 216), match='8'>\n",
      "<re.Match object; span=(216, 217), match='9'>\n",
      "<re.Match object; span=(217, 218), match='0'>\n",
      "<re.Match object; span=(233, 234), match='1'>\n",
      "<re.Match object; span=(234, 235), match='9'>\n",
      "<re.Match object; span=(235, 236), match='2'>\n",
      "<re.Match object; span=(237, 238), match='1'>\n",
      "<re.Match object; span=(238, 239), match='0'>\n",
      "<re.Match object; span=(239, 240), match='0'>\n",
      "<re.Match object; span=(241, 242), match='7'>\n",
      "<re.Match object; span=(242, 243), match='6'>\n",
      "<re.Match object; span=(244, 245), match='2'>\n",
      "<re.Match object; span=(245, 246), match='4'>\n",
      "<re.Match object; span=(247, 248), match='1'>\n",
      "<re.Match object; span=(248, 249), match='9'>\n",
      "<re.Match object; span=(249, 250), match='2'>\n",
      "<re.Match object; span=(251, 252), match='1'>\n",
      "<re.Match object; span=(252, 253), match='0'>\n",
      "<re.Match object; span=(253, 254), match='1'>\n",
      "<re.Match object; span=(255, 256), match='7'>\n",
      "<re.Match object; span=(256, 257), match='7'>\n",
      "<re.Match object; span=(258, 259), match='2'>\n",
      "<re.Match object; span=(259, 260), match='0'>\n",
      "<re.Match object; span=(267, 268), match='2'>\n",
      "<re.Match object; span=(268, 269), match='5'>\n",
      "<re.Match object; span=(348, 349), match='1'>\n",
      "<re.Match object; span=(349, 350), match='2'>\n",
      "<re.Match object; span=(350, 351), match='3'>\n",
      "<re.Match object; span=(367, 368), match='2'>\n",
      "<re.Match object; span=(393, 394), match='3'>\n",
      "<re.Match object; span=(394, 395), match='4'>\n",
      "<re.Match object; span=(432, 433), match='1'>\n",
      "<re.Match object; span=(433, 434), match='2'>\n",
      "<re.Match object; span=(452, 453), match='1'>\n",
      "<re.Match object; span=(453, 454), match='2'>\n",
      "<re.Match object; span=(477, 478), match='1'>\n",
      "<re.Match object; span=(478, 479), match='2'>\n",
      "<re.Match object; span=(497, 498), match='1'>\n",
      "<re.Match object; span=(498, 499), match='2'>\n"
     ]
    }
   ],
   "source": [
    "with open('regex_file.txt', 'r') as fh:\n",
    "    content = fh.read()\n",
    "    \n",
    "pattern = r'\\d'\n",
    "match = re.finditer(pattern, content)\n",
    "for i in match:\n",
    "    print(i)"
   ]
  },
  {
   "cell_type": "code",
   "execution_count": 87,
   "id": "2853f1fb",
   "metadata": {},
   "outputs": [
    {
     "data": {
      "text/plain": [
       "['P',\n",
       " 'y',\n",
       " 't',\n",
       " 'h',\n",
       " 'o',\n",
       " 'n',\n",
       " '3',\n",
       " ' ',\n",
       " 'i',\n",
       " 's',\n",
       " ' ',\n",
       " 'a',\n",
       " ' ',\n",
       " 'p',\n",
       " 'r',\n",
       " 'o',\n",
       " 'g',\n",
       " 'r',\n",
       " 'a',\n",
       " 'm',\n",
       " 'm',\n",
       " 'i',\n",
       " 'n',\n",
       " 'g',\n",
       " ' ',\n",
       " 'l',\n",
       " 'a',\n",
       " 'n',\n",
       " 'g',\n",
       " 'u',\n",
       " 'a',\n",
       " 'g',\n",
       " 'e',\n",
       " 'P',\n",
       " 'y',\n",
       " 't',\n",
       " 'h',\n",
       " 'o',\n",
       " 'n',\n",
       " '3',\n",
       " 'W',\n",
       " 'e',\n",
       " ' ',\n",
       " 'a',\n",
       " 'r',\n",
       " 'e',\n",
       " ' ',\n",
       " 'l',\n",
       " 'e',\n",
       " 'a',\n",
       " 'r',\n",
       " 'n',\n",
       " 'i',\n",
       " 'n',\n",
       " 'g',\n",
       " ' ',\n",
       " 'P',\n",
       " 'y',\n",
       " 't',\n",
       " 'h',\n",
       " 'o',\n",
       " 'n',\n",
       " '3',\n",
       " 'W',\n",
       " 'e',\n",
       " ' ',\n",
       " 'h',\n",
       " 'a',\n",
       " 'v',\n",
       " 'e',\n",
       " ' ',\n",
       " 'c',\n",
       " 'o',\n",
       " 'm',\n",
       " 'p',\n",
       " 'l',\n",
       " 'e',\n",
       " 't',\n",
       " 'e',\n",
       " 'd',\n",
       " ' ',\n",
       " 'o',\n",
       " 'u',\n",
       " 'r',\n",
       " ' ',\n",
       " 'a',\n",
       " 's',\n",
       " 's',\n",
       " 'i',\n",
       " 'g',\n",
       " 'n',\n",
       " 'm',\n",
       " 'e',\n",
       " 'n',\n",
       " 't',\n",
       " 's',\n",
       " 'l',\n",
       " 'e',\n",
       " 'a',\n",
       " 'r',\n",
       " 'n',\n",
       " ' ',\n",
       " 'p',\n",
       " 'y',\n",
       " 't',\n",
       " 'h',\n",
       " 'o',\n",
       " 'n',\n",
       " 'A',\n",
       " 's',\n",
       " 's',\n",
       " 'i',\n",
       " 'g',\n",
       " 'n',\n",
       " 'm',\n",
       " 'e',\n",
       " 'n',\n",
       " 't',\n",
       " 's',\n",
       " ' ',\n",
       " 'a',\n",
       " 'r',\n",
       " 'e',\n",
       " ' ',\n",
       " 's',\n",
       " 'u',\n",
       " 'b',\n",
       " 'm',\n",
       " 'i',\n",
       " 't',\n",
       " 't',\n",
       " 'e',\n",
       " 'd',\n",
       " ' ',\n",
       " 't',\n",
       " 'o',\n",
       " ' ',\n",
       " 'l',\n",
       " 'e',\n",
       " 'a',\n",
       " 'r',\n",
       " 'n',\n",
       " 'b',\n",
       " 'a',\n",
       " 'y',\n",
       " '3',\n",
       " 'r',\n",
       " 'd',\n",
       " 'f',\n",
       " 'e',\n",
       " 'b',\n",
       " '@',\n",
       " 'g',\n",
       " 'm',\n",
       " 'a',\n",
       " 'i',\n",
       " 'l',\n",
       " '.',\n",
       " 'c',\n",
       " 'o',\n",
       " 'm',\n",
       " 'M',\n",
       " 'y',\n",
       " ' ',\n",
       " 'p',\n",
       " 'h',\n",
       " 'o',\n",
       " 'n',\n",
       " 'e',\n",
       " ' ',\n",
       " 'n',\n",
       " 'u',\n",
       " 'm',\n",
       " 'b',\n",
       " 'e',\n",
       " 'r',\n",
       " ' ',\n",
       " 'i',\n",
       " 's',\n",
       " ' ',\n",
       " ' ',\n",
       " ' ',\n",
       " ' ',\n",
       " ' ',\n",
       " ' ',\n",
       " '9',\n",
       " '1',\n",
       " '-',\n",
       " '9',\n",
       " '8',\n",
       " '7',\n",
       " '6',\n",
       " '5',\n",
       " '4',\n",
       " '3',\n",
       " '2',\n",
       " '1',\n",
       " '0',\n",
       " 'a',\n",
       " '1',\n",
       " '2',\n",
       " '3',\n",
       " '-',\n",
       " '4',\n",
       " '5',\n",
       " '6',\n",
       " '-',\n",
       " '7',\n",
       " '8',\n",
       " '9',\n",
       " '0',\n",
       " 'I',\n",
       " 'P',\n",
       " ' ',\n",
       " 'a',\n",
       " 'd',\n",
       " 'd',\n",
       " 'r',\n",
       " 'e',\n",
       " 's',\n",
       " 's',\n",
       " ' ',\n",
       " 'i',\n",
       " 's',\n",
       " ' ',\n",
       " '1',\n",
       " '9',\n",
       " '2',\n",
       " '.',\n",
       " '1',\n",
       " '0',\n",
       " '0',\n",
       " '.',\n",
       " '7',\n",
       " '6',\n",
       " '.',\n",
       " '2',\n",
       " '4',\n",
       " '1',\n",
       " '9',\n",
       " '2',\n",
       " '.',\n",
       " '1',\n",
       " '0',\n",
       " '1',\n",
       " '.',\n",
       " '7',\n",
       " '7',\n",
       " '.',\n",
       " '2',\n",
       " '0',\n",
       " 'J',\n",
       " 'o',\n",
       " 't',\n",
       " 'h',\n",
       " 'a',\n",
       " 'n',\n",
       " '2',\n",
       " '5',\n",
       " '@',\n",
       " 'g',\n",
       " 'm',\n",
       " 'a',\n",
       " 'i',\n",
       " 'l',\n",
       " '.',\n",
       " 'c',\n",
       " 'o',\n",
       " 'm',\n",
       " 'W',\n",
       " 'h',\n",
       " 'a',\n",
       " 't',\n",
       " ' ',\n",
       " 'a',\n",
       " 'r',\n",
       " 'e',\n",
       " ' ',\n",
       " 't',\n",
       " 'h',\n",
       " 'e',\n",
       " ' ',\n",
       " 't',\n",
       " 'o',\n",
       " 'p',\n",
       " 'i',\n",
       " 'c',\n",
       " 's',\n",
       " ' ',\n",
       " 'l',\n",
       " 'e',\n",
       " 'f',\n",
       " 't',\n",
       " '?',\n",
       " 'J',\n",
       " 'o',\n",
       " 'h',\n",
       " 'n',\n",
       " ' ',\n",
       " 'l',\n",
       " 'i',\n",
       " 'v',\n",
       " 'e',\n",
       " 's',\n",
       " ' ',\n",
       " 'i',\n",
       " 'n',\n",
       " ' ',\n",
       " 'S',\n",
       " 'w',\n",
       " 'e',\n",
       " 'd',\n",
       " 'e',\n",
       " 'n',\n",
       " 'a',\n",
       " 'b',\n",
       " 'c',\n",
       " '@',\n",
       " 'l',\n",
       " 'e',\n",
       " 'a',\n",
       " 'r',\n",
       " 'n',\n",
       " 'b',\n",
       " 'a',\n",
       " 'y',\n",
       " '.',\n",
       " 'c',\n",
       " 'o',\n",
       " 'm',\n",
       " 'j',\n",
       " 'o',\n",
       " 'h',\n",
       " 'n',\n",
       " '1',\n",
       " '2',\n",
       " '3',\n",
       " '@',\n",
       " 'y',\n",
       " 'a',\n",
       " 'h',\n",
       " 'o',\n",
       " 'o',\n",
       " '.',\n",
       " 'i',\n",
       " 'n',\n",
       " 'p',\n",
       " 'y',\n",
       " 't',\n",
       " 'h',\n",
       " 'o',\n",
       " 'n',\n",
       " '2',\n",
       " 'l',\n",
       " 'e',\n",
       " 't',\n",
       " \"'\",\n",
       " 's',\n",
       " ' ',\n",
       " 'l',\n",
       " 'e',\n",
       " 'a',\n",
       " 'r',\n",
       " 'n',\n",
       " ' ',\n",
       " 'r',\n",
       " 'e',\n",
       " 'g',\n",
       " 'e',\n",
       " 'x',\n",
       " 'p',\n",
       " 'y',\n",
       " 't',\n",
       " 'h',\n",
       " 'o',\n",
       " 'n',\n",
       " '3',\n",
       " '4',\n",
       " 'H',\n",
       " 'e',\n",
       " ' ',\n",
       " 's',\n",
       " 'a',\n",
       " 'y',\n",
       " 's',\n",
       " ',',\n",
       " ' ',\n",
       " 'l',\n",
       " 'e',\n",
       " 't',\n",
       " ' ',\n",
       " 'm',\n",
       " 'e',\n",
       " ' ',\n",
       " 'w',\n",
       " 'o',\n",
       " 'r',\n",
       " 'k',\n",
       " ',',\n",
       " ' ',\n",
       " 'b',\n",
       " 'u',\n",
       " 'd',\n",
       " 'd',\n",
       " 'y',\n",
       " '!',\n",
       " 'x',\n",
       " 'y',\n",
       " 'z',\n",
       " '-',\n",
       " 'i',\n",
       " 'd',\n",
       " '-',\n",
       " '1',\n",
       " '2',\n",
       " '@',\n",
       " 'g',\n",
       " 'm',\n",
       " 'a',\n",
       " 'i',\n",
       " 'l',\n",
       " '.',\n",
       " 'c',\n",
       " 'o',\n",
       " 'm',\n",
       " 'x',\n",
       " 'y',\n",
       " 'z',\n",
       " '-',\n",
       " 'i',\n",
       " 'd',\n",
       " '-',\n",
       " '1',\n",
       " '2',\n",
       " '@',\n",
       " 'g',\n",
       " 'm',\n",
       " 'a',\n",
       " 'i',\n",
       " 'l',\n",
       " '.',\n",
       " 'c',\n",
       " 'o',\n",
       " 'm',\n",
       " '_',\n",
       " 'c',\n",
       " 'h',\n",
       " 'a',\n",
       " 'r',\n",
       " 'x',\n",
       " 'y',\n",
       " 'z',\n",
       " '-',\n",
       " 'i',\n",
       " 'd',\n",
       " '-',\n",
       " '1',\n",
       " '2',\n",
       " '@',\n",
       " 'g',\n",
       " 'm',\n",
       " 'a',\n",
       " 'i',\n",
       " 'l',\n",
       " '-',\n",
       " 'c',\n",
       " 'o',\n",
       " 'm',\n",
       " 'x',\n",
       " 'y',\n",
       " 'z',\n",
       " '-',\n",
       " 'i',\n",
       " 'd',\n",
       " '-',\n",
       " '1',\n",
       " '2',\n",
       " '@',\n",
       " 'g',\n",
       " 'm',\n",
       " 'a',\n",
       " 'i',\n",
       " 'l',\n",
       " '.',\n",
       " 'w',\n",
       " 'h',\n",
       " 'a',\n",
       " 't',\n",
       " 'e',\n",
       " 'v',\n",
       " 'e',\n",
       " 'r']"
      ]
     },
     "execution_count": 87,
     "metadata": {},
     "output_type": "execute_result"
    }
   ],
   "source": [
    "with open('regex_file.txt', 'r') as fh:\n",
    "    content = fh.read()\n",
    "    \n",
    "pattern = r'.'\n",
    "match = re.findall(pattern, content)\n",
    "match"
   ]
  },
  {
   "cell_type": "code",
   "execution_count": 92,
   "id": "980686c6",
   "metadata": {},
   "outputs": [
    {
     "name": "stdout",
     "output_type": "stream",
     "text": [
      "<re.Match object; span=(0, 29), match='My name is John. My age is 25'>\n"
     ]
    }
   ],
   "source": [
    "content = 'My name is John. My age is 25'\n",
    "    \n",
    "pattern = r'^[A-Z].*[0-9]+$'\n",
    "match = re.finditer(pattern, content)\n",
    "for i in match:\n",
    "    print(i)"
   ]
  },
  {
   "cell_type": "code",
   "execution_count": 93,
   "id": "5a3b3db0",
   "metadata": {},
   "outputs": [],
   "source": [
    "content = 'My name is John. \\n My age is 25'\n",
    "    \n",
    "pattern = r'^[A-Z].*[0-9]+$'\n",
    "match = re.finditer(pattern, content)\n",
    "for i in match:\n",
    "    print(i)"
   ]
  },
  {
   "cell_type": "code",
   "execution_count": 94,
   "id": "72d0098f",
   "metadata": {},
   "outputs": [],
   "source": [
    "content = 'My name is John. My age is 25.\\nMy name is Jill. My age is 23.'\n",
    "    \n",
    "pattern = r'^[A-Z].*[0-9]+$'\n",
    "match = re.finditer(pattern, content)\n",
    "for i in match:\n",
    "    print(i)"
   ]
  },
  {
   "cell_type": "code",
   "execution_count": 95,
   "id": "33f6430f",
   "metadata": {},
   "outputs": [
    {
     "name": "stdout",
     "output_type": "stream",
     "text": [
      "<re.Match object; span=(0, 29), match='My name is John. My age is 25'>\n"
     ]
    }
   ],
   "source": [
    "content = 'My name is John. My age is 25.\\nMy name is Jill. My age is 23.'\n",
    "    \n",
    "pattern = r'^[A-Z].*[0-9]+'\n",
    "match = re.finditer(pattern, content)\n",
    "for i in match:\n",
    "    print(i)"
   ]
  },
  {
   "cell_type": "code",
   "execution_count": 96,
   "id": "71ffa415",
   "metadata": {},
   "outputs": [
    {
     "name": "stdout",
     "output_type": "stream",
     "text": [
      "<re.Match object; span=(0, 29), match='My name is John. My age is 25'>\n",
      "<re.Match object; span=(31, 60), match='My name is Jill. My age is 23'>\n"
     ]
    }
   ],
   "source": [
    "content = 'My name is John. My age is 25.\\nMy name is Jill. My age is 23.'\n",
    "    \n",
    "pattern = r'[A-Z].*[0-9]+'\n",
    "match = re.finditer(pattern, content)\n",
    "for i in match:\n",
    "    print(i)"
   ]
  },
  {
   "cell_type": "code",
   "execution_count": null,
   "id": "46f01072",
   "metadata": {},
   "outputs": [],
   "source": []
  },
  {
   "cell_type": "code",
   "execution_count": 101,
   "id": "195845be",
   "metadata": {},
   "outputs": [
    {
     "name": "stdout",
     "output_type": "stream",
     "text": [
      "<re.Match object; span=(49, 54), match='learn'>\n",
      "<re.Match object; span=(100, 105), match='learn'>\n",
      "<re.Match object; span=(115, 120), match='learn'>\n",
      "<re.Match object; span=(150, 155), match='learn'>\n",
      "<re.Match object; span=(339, 344), match='learn'>\n",
      "<re.Match object; span=(383, 388), match='learn'>\n"
     ]
    }
   ],
   "source": [
    "with open('regex_file.txt', 'r') as fh:\n",
    "    content = fh.read()\n",
    "    \n",
    "pattern = r'learn'\n",
    "match = re.finditer(pattern, content)\n",
    "for i in match:\n",
    "    print(i)"
   ]
  },
  {
   "cell_type": "code",
   "execution_count": 102,
   "id": "9fcfdcc9",
   "metadata": {},
   "outputs": [
    {
     "name": "stdout",
     "output_type": "stream",
     "text": [
      "<re.Match object; span=(100, 105), match='learn'>\n",
      "<re.Match object; span=(383, 388), match='learn'>\n"
     ]
    }
   ],
   "source": [
    "with open('regex_file.txt', 'r') as fh:\n",
    "    content = fh.read()\n",
    "    \n",
    "pattern = r'\\blearn\\b'\n",
    "match = re.finditer(pattern, content)\n",
    "for i in match:\n",
    "    print(i)"
   ]
  },
  {
   "cell_type": "code",
   "execution_count": 103,
   "id": "1ec1b11f",
   "metadata": {},
   "outputs": [
    {
     "name": "stdout",
     "output_type": "stream",
     "text": [
      "['learn', 'learn', 'learn', 'learn', 'learn']\n"
     ]
    }
   ],
   "source": [
    "with open('regex_file.txt', 'r') as fh:\n",
    "    content = fh.read()\n",
    "    \n",
    "pattern = r'\\blearn'\n",
    "match = re.findall(pattern, content)\n",
    "print(match)"
   ]
  },
  {
   "cell_type": "code",
   "execution_count": 104,
   "id": "a7e2ddbb",
   "metadata": {},
   "outputs": [
    {
     "name": "stdout",
     "output_type": "stream",
     "text": [
      "['learn', 'learn', 'learn']\n"
     ]
    }
   ],
   "source": [
    "with open('regex_file.txt', 'r') as fh:\n",
    "    content = fh.read()\n",
    "    \n",
    "pattern = r'learn\\b'\n",
    "match = re.findall(pattern, content)\n",
    "print(match)"
   ]
  },
  {
   "cell_type": "code",
   "execution_count": 106,
   "id": "b0c7b1ba",
   "metadata": {},
   "outputs": [
    {
     "name": "stdout",
     "output_type": "stream",
     "text": [
      "<re.Match object; span=(0, 6), match='Python'>\n",
      "<re.Match object; span=(34, 40), match='Python'>\n",
      "<re.Match object; span=(58, 64), match='Python'>\n",
      "<re.Match object; span=(106, 112), match='python'>\n",
      "<re.Match object; span=(369, 375), match='python'>\n",
      "<re.Match object; span=(395, 401), match='python'>\n"
     ]
    }
   ],
   "source": [
    "with open('regex_file.txt', 'r') as fh:\n",
    "    content = fh.read()\n",
    "    \n",
    "pattern = r'(python|Python)'\n",
    "match = re.finditer(pattern, content)\n",
    "for i in match:\n",
    "    print(i)"
   ]
  },
  {
   "cell_type": "code",
   "execution_count": 110,
   "id": "4463441c",
   "metadata": {},
   "outputs": [
    {
     "name": "stdout",
     "output_type": "stream",
     "text": [
      "<re.Match object; span=(170, 174), match='.com'>\n",
      "<re.Match object; span=(283, 287), match='.com'>\n",
      "<re.Match object; span=(347, 351), match='.com'>\n",
      "<re.Match object; span=(365, 368), match='.in'>\n",
      "<re.Match object; span=(448, 452), match='.com'>\n",
      "<re.Match object; span=(468, 472), match='.com'>\n"
     ]
    }
   ],
   "source": [
    "with open('regex_file.txt', 'r') as fh:\n",
    "    content = fh.read()\n",
    "    \n",
    "pattern = r'(\\.com|\\.in)'\n",
    "match = re.finditer(pattern, content)\n",
    "for i in match:\n",
    "    print(i)"
   ]
  },
  {
   "cell_type": "code",
   "execution_count": 111,
   "id": "21f478d1",
   "metadata": {},
   "outputs": [
    {
     "name": "stdout",
     "output_type": "stream",
     "text": [
      "<re.Match object; span=(170, 174), match='.com'>\n",
      "<re.Match object; span=(283, 287), match='.com'>\n",
      "<re.Match object; span=(347, 351), match='.com'>\n",
      "<re.Match object; span=(365, 368), match='.in'>\n",
      "<re.Match object; span=(448, 452), match='.com'>\n",
      "<re.Match object; span=(468, 472), match='.com'>\n"
     ]
    }
   ],
   "source": [
    "with open('regex_file.txt', 'r') as fh:\n",
    "    content = fh.read()\n",
    "    \n",
    "pattern = '(\\.com|\\.in)'\n",
    "match = re.finditer(pattern, content)\n",
    "for i in match:\n",
    "    print(i)"
   ]
  },
  {
   "cell_type": "code",
   "execution_count": 122,
   "id": "576c91a2",
   "metadata": {},
   "outputs": [
    {
     "name": "stdout",
     "output_type": "stream",
     "text": [
      "<re.Match object; span=(0, 6), match='Python'>\n",
      "<re.Match object; span=(13, 24), match='programming'>\n",
      "<re.Match object; span=(34, 40), match='Python'>\n",
      "<re.Match object; span=(58, 64), match='Python'>\n",
      "<re.Match object; span=(106, 112), match='python'>\n",
      "<re.Match object; span=(178, 183), match='phone'>\n",
      "<re.Match object; span=(369, 375), match='python'>\n",
      "<re.Match object; span=(395, 401), match='python'>\n"
     ]
    }
   ],
   "source": [
    "with open('regex_file.txt', 'r') as fh:\n",
    "    content = fh.read()\n",
    "    \n",
    "pattern = r'\\b(P|p)[a-z]+'\n",
    "match = re.finditer(pattern, content)\n",
    "for i in match:\n",
    "    print(i)"
   ]
  },
  {
   "cell_type": "code",
   "execution_count": 123,
   "id": "312ec4f6",
   "metadata": {},
   "outputs": [
    {
     "name": "stdout",
     "output_type": "stream",
     "text": [
      "<re.Match object; span=(0, 6), match='Python'>\n",
      "<re.Match object; span=(13, 24), match='programming'>\n",
      "<re.Match object; span=(34, 40), match='Python'>\n",
      "<re.Match object; span=(58, 64), match='Python'>\n",
      "<re.Match object; span=(106, 112), match='python'>\n",
      "<re.Match object; span=(178, 183), match='phone'>\n",
      "<re.Match object; span=(369, 375), match='python'>\n",
      "<re.Match object; span=(395, 401), match='python'>\n"
     ]
    }
   ],
   "source": [
    "with open('regex_file.txt', 'r') as fh:\n",
    "    content = fh.read()\n",
    "    \n",
    "pattern = r'\\b[Pp][a-z]+'\n",
    "match = re.finditer(pattern, content)\n",
    "for i in match:\n",
    "    print(i)"
   ]
  },
  {
   "cell_type": "code",
   "execution_count": 124,
   "id": "40ebd96f",
   "metadata": {},
   "outputs": [],
   "source": [
    "str1 = \"Hello\\bworld\""
   ]
  },
  {
   "cell_type": "code",
   "execution_count": 125,
   "id": "b6211000",
   "metadata": {},
   "outputs": [
    {
     "name": "stdout",
     "output_type": "stream",
     "text": [
      "Hello\bworld\n"
     ]
    }
   ],
   "source": [
    "print(str1)"
   ]
  },
  {
   "cell_type": "code",
   "execution_count": 126,
   "id": "400d269b",
   "metadata": {},
   "outputs": [
    {
     "name": "stdout",
     "output_type": "stream",
     "text": [
      "Hello\b\b\bworld\n"
     ]
    }
   ],
   "source": [
    "print(\"Hello\\b\\b\\bworld\")"
   ]
  },
  {
   "cell_type": "code",
   "execution_count": 127,
   "id": "b521afbb",
   "metadata": {},
   "outputs": [],
   "source": [
    "# How to match all email ids??\n",
    "# learnbay3rdfeb@gmail.com, Jothan25@gmail.com, abc@learnbay.com, john123@yahoo.in, xyz-id-12@gmail.com, xyz-id-12@gmail.whatever\n",
    "# "
   ]
  },
  {
   "cell_type": "code",
   "execution_count": 129,
   "id": "4cac4f26",
   "metadata": {},
   "outputs": [
    {
     "name": "stdout",
     "output_type": "stream",
     "text": [
      "<re.Match object; span=(121, 174), match='Assignments are submitted to learnbay3rdfeb@gmail>\n",
      "<re.Match object; span=(269, 287), match='Jothan25@gmail.com'>\n",
      "<re.Match object; span=(335, 351), match='abc@learnbay.com'>\n",
      "<re.Match object; span=(352, 368), match='john123@yahoo.in'>\n",
      "<re.Match object; span=(433, 452), match='xyz-id-12@gmail.com'>\n",
      "<re.Match object; span=(453, 472), match='xyz-id-12@gmail.com'>\n",
      "<re.Match object; span=(498, 522), match='xyz-id-12@gmail.whatever'>\n"
     ]
    }
   ],
   "source": [
    "with open('regex_file.txt', 'r') as fh:\n",
    "    content = fh.read()\n",
    "    \n",
    "pattern = r'.+@[a-z]+\\.[a-z]+'\n",
    "match = re.finditer(pattern, content)\n",
    "for i in match:\n",
    "    print(i)"
   ]
  },
  {
   "cell_type": "code",
   "execution_count": 130,
   "id": "491399d5",
   "metadata": {},
   "outputs": [
    {
     "name": "stdout",
     "output_type": "stream",
     "text": [
      "<re.Match object; span=(150, 174), match='learnbay3rdfeb@gmail.com'>\n",
      "<re.Match object; span=(269, 287), match='Jothan25@gmail.com'>\n",
      "<re.Match object; span=(335, 351), match='abc@learnbay.com'>\n",
      "<re.Match object; span=(352, 368), match='john123@yahoo.in'>\n",
      "<re.Match object; span=(440, 452), match='12@gmail.com'>\n",
      "<re.Match object; span=(460, 472), match='12@gmail.com'>\n",
      "<re.Match object; span=(505, 522), match='12@gmail.whatever'>\n"
     ]
    }
   ],
   "source": [
    "with open('regex_file.txt', 'r') as fh:\n",
    "    content = fh.read()\n",
    "    \n",
    "pattern = r'\\w+@[a-z]+\\.[a-z]+'\n",
    "match = re.finditer(pattern, content)\n",
    "for i in match:\n",
    "    print(i)"
   ]
  },
  {
   "cell_type": "code",
   "execution_count": 142,
   "id": "33196eb6",
   "metadata": {},
   "outputs": [
    {
     "name": "stdout",
     "output_type": "stream",
     "text": [
      "<re.Match object; span=(150, 174), match='learnbay3rdfeb@gmail.com'>\n",
      "<re.Match object; span=(269, 287), match='Jothan25@gmail.com'>\n",
      "<re.Match object; span=(335, 351), match='abc@learnbay.com'>\n",
      "<re.Match object; span=(352, 368), match='john123@yahoo.in'>\n",
      "<re.Match object; span=(433, 452), match='xyz-id-12@gmail.com'>\n",
      "<re.Match object; span=(453, 472), match='xyz-id-12@gmail.com'>\n",
      "<re.Match object; span=(498, 522), match='xyz-id-12@gmail.whatever'>\n"
     ]
    }
   ],
   "source": [
    "with open('regex_file.txt', 'r') as fh:\n",
    "    content = fh.read()\n",
    "    \n",
    "pattern = r'\\w+[\\w.-]+@[a-z]+\\.[a-z]+'\n",
    "match = re.finditer(pattern, content)\n",
    "for i in match:\n",
    "    print(i)"
   ]
  },
  {
   "cell_type": "code",
   "execution_count": 140,
   "id": "9f33e482",
   "metadata": {},
   "outputs": [
    {
     "name": "stdout",
     "output_type": "stream",
     "text": [
      "<re.Match object; span=(150, 174), match='learnbay3rdfeb@gmail.com'>\n",
      "<re.Match object; span=(269, 287), match='Jothan25@gmail.com'>\n",
      "<re.Match object; span=(335, 351), match='abc@learnbay.com'>\n",
      "<re.Match object; span=(352, 368), match='john123@yahoo.in'>\n",
      "<re.Match object; span=(433, 452), match='xyz-id-12@gmail.com'>\n",
      "<re.Match object; span=(453, 472), match='xyz-id-12@gmail.com'>\n",
      "<re.Match object; span=(498, 522), match='xyz-id-12@gmail.whatever'>\n",
      "<re.Match object; span=(523, 534), match='-@gmail.com'>\n"
     ]
    }
   ],
   "source": [
    "with open('regex_file.txt', 'r') as fh:\n",
    "    content = fh.read()\n",
    "    \n",
    "pattern = r'[\\w.-]*[\\w]*@[A-Za-z0-9]+\\.[A-Za-z]+'\n",
    "match = re.finditer(pattern, content)\n",
    "for i in match:\n",
    "    print(i)"
   ]
  },
  {
   "cell_type": "code",
   "execution_count": 144,
   "id": "88d915e6",
   "metadata": {},
   "outputs": [
    {
     "name": "stdout",
     "output_type": "stream",
     "text": [
      "<re.Match object; span=(150, 174), match='learnbay3rdfeb@gmail.com'>\n",
      "<re.Match object; span=(269, 287), match='Jothan25@gmail.com'>\n",
      "<re.Match object; span=(335, 351), match='abc@learnbay.com'>\n",
      "<re.Match object; span=(352, 368), match='john123@yahoo.in'>\n",
      "<re.Match object; span=(433, 452), match='xyz-id-12@gmail.com'>\n",
      "<re.Match object; span=(453, 472), match='xyz-id-12@gmail.com'>\n"
     ]
    }
   ],
   "source": [
    "with open('regex_file.txt', 'r') as fh:\n",
    "    content = fh.read()\n",
    "    \n",
    "pattern = r'\\w+[\\w.-]+@[a-z]+\\.(com|in)'\n",
    "match = re.finditer(pattern, content)\n",
    "for i in match:\n",
    "    print(i)"
   ]
  },
  {
   "cell_type": "code",
   "execution_count": null,
   "id": "faf5a002",
   "metadata": {},
   "outputs": [],
   "source": []
  },
  {
   "cell_type": "code",
   "execution_count": 145,
   "id": "0d17773a",
   "metadata": {},
   "outputs": [],
   "source": [
    "import random"
   ]
  },
  {
   "cell_type": "code",
   "execution_count": 146,
   "id": "95bed7da",
   "metadata": {},
   "outputs": [],
   "source": [
    "lst = [3,1,2,6,5]\n",
    "random.shuffle(lst)"
   ]
  },
  {
   "cell_type": "code",
   "execution_count": 147,
   "id": "9a2b2a36",
   "metadata": {},
   "outputs": [
    {
     "data": {
      "text/plain": [
       "[5, 2, 3, 1, 6]"
      ]
     },
     "execution_count": 147,
     "metadata": {},
     "output_type": "execute_result"
    }
   ],
   "source": [
    "lst"
   ]
  },
  {
   "cell_type": "code",
   "execution_count": 148,
   "id": "fa5738d6",
   "metadata": {},
   "outputs": [
    {
     "name": "stdout",
     "output_type": "stream",
     "text": [
      "Help on module random:\n",
      "\n",
      "NAME\n",
      "    random - Random variable generators.\n",
      "\n",
      "MODULE REFERENCE\n",
      "    https://docs.python.org/3.9/library/random\n",
      "    \n",
      "    The following documentation is automatically generated from the Python\n",
      "    source files.  It may be incomplete, incorrect or include features that\n",
      "    are considered implementation detail and may vary between Python\n",
      "    implementations.  When in doubt, consult the module reference at the\n",
      "    location listed above.\n",
      "\n",
      "DESCRIPTION\n",
      "        bytes\n",
      "        -----\n",
      "               uniform bytes (values between 0 and 255)\n",
      "    \n",
      "        integers\n",
      "        --------\n",
      "               uniform within range\n",
      "    \n",
      "        sequences\n",
      "        ---------\n",
      "               pick random element\n",
      "               pick random sample\n",
      "               pick weighted random sample\n",
      "               generate random permutation\n",
      "    \n",
      "        distributions on the real line:\n",
      "        ------------------------------\n",
      "               uniform\n",
      "               triangular\n",
      "               normal (Gaussian)\n",
      "               lognormal\n",
      "               negative exponential\n",
      "               gamma\n",
      "               beta\n",
      "               pareto\n",
      "               Weibull\n",
      "    \n",
      "        distributions on the circle (angles 0 to 2pi)\n",
      "        ---------------------------------------------\n",
      "               circular uniform\n",
      "               von Mises\n",
      "    \n",
      "    General notes on the underlying Mersenne Twister core generator:\n",
      "    \n",
      "    * The period is 2**19937-1.\n",
      "    * It is one of the most extensively tested generators in existence.\n",
      "    * The random() method is implemented in C, executes in a single Python step,\n",
      "      and is, therefore, threadsafe.\n",
      "\n",
      "CLASSES\n",
      "    _random.Random(builtins.object)\n",
      "        Random\n",
      "            SystemRandom\n",
      "    \n",
      "    class Random(_random.Random)\n",
      "     |  Random(x=None)\n",
      "     |  \n",
      "     |  Random number generator base class used by bound module functions.\n",
      "     |  \n",
      "     |  Used to instantiate instances of Random to get generators that don't\n",
      "     |  share state.\n",
      "     |  \n",
      "     |  Class Random can also be subclassed if you want to use a different basic\n",
      "     |  generator of your own devising: in that case, override the following\n",
      "     |  methods:  random(), seed(), getstate(), and setstate().\n",
      "     |  Optionally, implement a getrandbits() method so that randrange()\n",
      "     |  can cover arbitrarily large ranges.\n",
      "     |  \n",
      "     |  Method resolution order:\n",
      "     |      Random\n",
      "     |      _random.Random\n",
      "     |      builtins.object\n",
      "     |  \n",
      "     |  Methods defined here:\n",
      "     |  \n",
      "     |  __getstate__(self)\n",
      "     |      # Issue 17489: Since __reduce__ was defined to fix #759889 this is no\n",
      "     |      # longer called; we leave it here because it has been here since random was\n",
      "     |      # rewritten back in 2001 and why risk breaking something.\n",
      "     |  \n",
      "     |  __init__(self, x=None)\n",
      "     |      Initialize an instance.\n",
      "     |      \n",
      "     |      Optional argument x controls seeding, as for Random.seed().\n",
      "     |  \n",
      "     |  __reduce__(self)\n",
      "     |      Helper for pickle.\n",
      "     |  \n",
      "     |  __setstate__(self, state)\n",
      "     |  \n",
      "     |  betavariate(self, alpha, beta)\n",
      "     |      Beta distribution.\n",
      "     |      \n",
      "     |      Conditions on the parameters are alpha > 0 and beta > 0.\n",
      "     |      Returned values range between 0 and 1.\n",
      "     |  \n",
      "     |  choice(self, seq)\n",
      "     |      Choose a random element from a non-empty sequence.\n",
      "     |  \n",
      "     |  choices(self, population, weights=None, *, cum_weights=None, k=1)\n",
      "     |      Return a k sized list of population elements chosen with replacement.\n",
      "     |      \n",
      "     |      If the relative weights or cumulative weights are not specified,\n",
      "     |      the selections are made with equal probability.\n",
      "     |  \n",
      "     |  expovariate(self, lambd)\n",
      "     |      Exponential distribution.\n",
      "     |      \n",
      "     |      lambd is 1.0 divided by the desired mean.  It should be\n",
      "     |      nonzero.  (The parameter would be called \"lambda\", but that is\n",
      "     |      a reserved word in Python.)  Returned values range from 0 to\n",
      "     |      positive infinity if lambd is positive, and from negative\n",
      "     |      infinity to 0 if lambd is negative.\n",
      "     |  \n",
      "     |  gammavariate(self, alpha, beta)\n",
      "     |      Gamma distribution.  Not the gamma function!\n",
      "     |      \n",
      "     |      Conditions on the parameters are alpha > 0 and beta > 0.\n",
      "     |      \n",
      "     |      The probability distribution function is:\n",
      "     |      \n",
      "     |                  x ** (alpha - 1) * math.exp(-x / beta)\n",
      "     |        pdf(x) =  --------------------------------------\n",
      "     |                    math.gamma(alpha) * beta ** alpha\n",
      "     |  \n",
      "     |  gauss(self, mu, sigma)\n",
      "     |      Gaussian distribution.\n",
      "     |      \n",
      "     |      mu is the mean, and sigma is the standard deviation.  This is\n",
      "     |      slightly faster than the normalvariate() function.\n",
      "     |      \n",
      "     |      Not thread-safe without a lock around calls.\n",
      "     |  \n",
      "     |  getstate(self)\n",
      "     |      Return internal state; can be passed to setstate() later.\n",
      "     |  \n",
      "     |  lognormvariate(self, mu, sigma)\n",
      "     |      Log normal distribution.\n",
      "     |      \n",
      "     |      If you take the natural logarithm of this distribution, you'll get a\n",
      "     |      normal distribution with mean mu and standard deviation sigma.\n",
      "     |      mu can have any value, and sigma must be greater than zero.\n",
      "     |  \n",
      "     |  normalvariate(self, mu, sigma)\n",
      "     |      Normal distribution.\n",
      "     |      \n",
      "     |      mu is the mean, and sigma is the standard deviation.\n",
      "     |  \n",
      "     |  paretovariate(self, alpha)\n",
      "     |      Pareto distribution.  alpha is the shape parameter.\n",
      "     |  \n",
      "     |  randbytes(self, n)\n",
      "     |      Generate n random bytes.\n",
      "     |  \n",
      "     |  randint(self, a, b)\n",
      "     |      Return random integer in range [a, b], including both end points.\n",
      "     |  \n",
      "     |  randrange(self, start, stop=None, step=1)\n",
      "     |      Choose a random item from range(start, stop[, step]).\n",
      "     |      \n",
      "     |      This fixes the problem with randint() which includes the\n",
      "     |      endpoint; in Python this is usually not what you want.\n",
      "     |  \n",
      "     |  sample(self, population, k, *, counts=None)\n",
      "     |      Chooses k unique random elements from a population sequence or set.\n",
      "     |      \n",
      "     |      Returns a new list containing elements from the population while\n",
      "     |      leaving the original population unchanged.  The resulting list is\n",
      "     |      in selection order so that all sub-slices will also be valid random\n",
      "     |      samples.  This allows raffle winners (the sample) to be partitioned\n",
      "     |      into grand prize and second place winners (the subslices).\n",
      "     |      \n",
      "     |      Members of the population need not be hashable or unique.  If the\n",
      "     |      population contains repeats, then each occurrence is a possible\n",
      "     |      selection in the sample.\n",
      "     |      \n",
      "     |      Repeated elements can be specified one at a time or with the optional\n",
      "     |      counts parameter.  For example:\n",
      "     |      \n",
      "     |          sample(['red', 'blue'], counts=[4, 2], k=5)\n",
      "     |      \n",
      "     |      is equivalent to:\n",
      "     |      \n",
      "     |          sample(['red', 'red', 'red', 'red', 'blue', 'blue'], k=5)\n",
      "     |      \n",
      "     |      To choose a sample from a range of integers, use range() for the\n",
      "     |      population argument.  This is especially fast and space efficient\n",
      "     |      for sampling from a large population:\n",
      "     |      \n",
      "     |          sample(range(10000000), 60)\n",
      "     |  \n",
      "     |  seed(self, a=None, version=2)\n",
      "     |      Initialize internal state from a seed.\n",
      "     |      \n",
      "     |      The only supported seed types are None, int, float,\n",
      "     |      str, bytes, and bytearray.\n",
      "     |      \n",
      "     |      None or no argument seeds from current time or from an operating\n",
      "     |      system specific randomness source if available.\n",
      "     |      \n",
      "     |      If *a* is an int, all bits are used.\n",
      "     |      \n",
      "     |      For version 2 (the default), all of the bits are used if *a* is a str,\n",
      "     |      bytes, or bytearray.  For version 1 (provided for reproducing random\n",
      "     |      sequences from older versions of Python), the algorithm for str and\n",
      "     |      bytes generates a narrower range of seeds.\n",
      "     |  \n",
      "     |  setstate(self, state)\n",
      "     |      Restore internal state from object returned by getstate().\n",
      "     |  \n",
      "     |  shuffle(self, x, random=None)\n",
      "     |      Shuffle list x in place, and return None.\n",
      "     |      \n",
      "     |      Optional argument random is a 0-argument function returning a\n",
      "     |      random float in [0.0, 1.0); if it is the default None, the\n",
      "     |      standard random.random will be used.\n",
      "     |  \n",
      "     |  triangular(self, low=0.0, high=1.0, mode=None)\n",
      "     |      Triangular distribution.\n",
      "     |      \n",
      "     |      Continuous distribution bounded by given lower and upper limits,\n",
      "     |      and having a given mode value in-between.\n",
      "     |      \n",
      "     |      http://en.wikipedia.org/wiki/Triangular_distribution\n",
      "     |  \n",
      "     |  uniform(self, a, b)\n",
      "     |      Get a random number in the range [a, b) or [a, b] depending on rounding.\n",
      "     |  \n",
      "     |  vonmisesvariate(self, mu, kappa)\n",
      "     |      Circular data distribution.\n",
      "     |      \n",
      "     |      mu is the mean angle, expressed in radians between 0 and 2*pi, and\n",
      "     |      kappa is the concentration parameter, which must be greater than or\n",
      "     |      equal to zero.  If kappa is equal to zero, this distribution reduces\n",
      "     |      to a uniform random angle over the range 0 to 2*pi.\n",
      "     |  \n",
      "     |  weibullvariate(self, alpha, beta)\n",
      "     |      Weibull distribution.\n",
      "     |      \n",
      "     |      alpha is the scale parameter and beta is the shape parameter.\n",
      "     |  \n",
      "     |  ----------------------------------------------------------------------\n",
      "     |  Class methods defined here:\n",
      "     |  \n",
      "     |  __init_subclass__(**kwargs) from builtins.type\n",
      "     |      Control how subclasses generate random integers.\n",
      "     |      \n",
      "     |      The algorithm a subclass can use depends on the random() and/or\n",
      "     |      getrandbits() implementation available to it and determines\n",
      "     |      whether it can generate random integers from arbitrarily large\n",
      "     |      ranges.\n",
      "     |  \n",
      "     |  ----------------------------------------------------------------------\n",
      "     |  Data descriptors defined here:\n",
      "     |  \n",
      "     |  __dict__\n",
      "     |      dictionary for instance variables (if defined)\n",
      "     |  \n",
      "     |  __weakref__\n",
      "     |      list of weak references to the object (if defined)\n",
      "     |  \n",
      "     |  ----------------------------------------------------------------------\n",
      "     |  Data and other attributes defined here:\n",
      "     |  \n",
      "     |  VERSION = 3\n",
      "     |  \n",
      "     |  ----------------------------------------------------------------------\n",
      "     |  Methods inherited from _random.Random:\n",
      "     |  \n",
      "     |  getrandbits(self, k, /)\n",
      "     |      getrandbits(k) -> x.  Generates an int with k random bits.\n",
      "     |  \n",
      "     |  random(self, /)\n",
      "     |      random() -> x in the interval [0, 1).\n",
      "     |  \n",
      "     |  ----------------------------------------------------------------------\n",
      "     |  Static methods inherited from _random.Random:\n",
      "     |  \n",
      "     |  __new__(*args, **kwargs) from builtins.type\n",
      "     |      Create and return a new object.  See help(type) for accurate signature.\n",
      "    \n",
      "    class SystemRandom(Random)\n",
      "     |  SystemRandom(x=None)\n",
      "     |  \n",
      "     |  Alternate random number generator using sources provided\n",
      "     |  by the operating system (such as /dev/urandom on Unix or\n",
      "     |  CryptGenRandom on Windows).\n",
      "     |  \n",
      "     |   Not available on all systems (see os.urandom() for details).\n",
      "     |  \n",
      "     |  Method resolution order:\n",
      "     |      SystemRandom\n",
      "     |      Random\n",
      "     |      _random.Random\n",
      "     |      builtins.object\n",
      "     |  \n",
      "     |  Methods defined here:\n",
      "     |  \n",
      "     |  getrandbits(self, k)\n",
      "     |      getrandbits(k) -> x.  Generates an int with k random bits.\n",
      "     |  \n",
      "     |  getstate = _notimplemented(self, *args, **kwds)\n",
      "     |  \n",
      "     |  randbytes(self, n)\n",
      "     |      Generate n random bytes.\n",
      "     |  \n",
      "     |  random(self)\n",
      "     |      Get the next random number in the range [0.0, 1.0).\n",
      "     |  \n",
      "     |  seed(self, *args, **kwds)\n",
      "     |      Stub method.  Not used for a system random number generator.\n",
      "     |  \n",
      "     |  setstate = _notimplemented(self, *args, **kwds)\n",
      "     |  \n",
      "     |  ----------------------------------------------------------------------\n",
      "     |  Methods inherited from Random:\n",
      "     |  \n",
      "     |  __getstate__(self)\n",
      "     |      # Issue 17489: Since __reduce__ was defined to fix #759889 this is no\n",
      "     |      # longer called; we leave it here because it has been here since random was\n",
      "     |      # rewritten back in 2001 and why risk breaking something.\n",
      "     |  \n",
      "     |  __init__(self, x=None)\n",
      "     |      Initialize an instance.\n",
      "     |      \n",
      "     |      Optional argument x controls seeding, as for Random.seed().\n",
      "     |  \n",
      "     |  __reduce__(self)\n",
      "     |      Helper for pickle.\n",
      "     |  \n",
      "     |  __setstate__(self, state)\n",
      "     |  \n",
      "     |  betavariate(self, alpha, beta)\n",
      "     |      Beta distribution.\n",
      "     |      \n",
      "     |      Conditions on the parameters are alpha > 0 and beta > 0.\n",
      "     |      Returned values range between 0 and 1.\n",
      "     |  \n",
      "     |  choice(self, seq)\n",
      "     |      Choose a random element from a non-empty sequence.\n",
      "     |  \n",
      "     |  choices(self, population, weights=None, *, cum_weights=None, k=1)\n",
      "     |      Return a k sized list of population elements chosen with replacement.\n",
      "     |      \n",
      "     |      If the relative weights or cumulative weights are not specified,\n",
      "     |      the selections are made with equal probability.\n",
      "     |  \n",
      "     |  expovariate(self, lambd)\n",
      "     |      Exponential distribution.\n",
      "     |      \n",
      "     |      lambd is 1.0 divided by the desired mean.  It should be\n",
      "     |      nonzero.  (The parameter would be called \"lambda\", but that is\n",
      "     |      a reserved word in Python.)  Returned values range from 0 to\n",
      "     |      positive infinity if lambd is positive, and from negative\n",
      "     |      infinity to 0 if lambd is negative.\n",
      "     |  \n",
      "     |  gammavariate(self, alpha, beta)\n",
      "     |      Gamma distribution.  Not the gamma function!\n",
      "     |      \n",
      "     |      Conditions on the parameters are alpha > 0 and beta > 0.\n",
      "     |      \n",
      "     |      The probability distribution function is:\n",
      "     |      \n",
      "     |                  x ** (alpha - 1) * math.exp(-x / beta)\n",
      "     |        pdf(x) =  --------------------------------------\n",
      "     |                    math.gamma(alpha) * beta ** alpha\n",
      "     |  \n",
      "     |  gauss(self, mu, sigma)\n",
      "     |      Gaussian distribution.\n",
      "     |      \n",
      "     |      mu is the mean, and sigma is the standard deviation.  This is\n",
      "     |      slightly faster than the normalvariate() function.\n",
      "     |      \n",
      "     |      Not thread-safe without a lock around calls.\n",
      "     |  \n",
      "     |  lognormvariate(self, mu, sigma)\n",
      "     |      Log normal distribution.\n",
      "     |      \n",
      "     |      If you take the natural logarithm of this distribution, you'll get a\n",
      "     |      normal distribution with mean mu and standard deviation sigma.\n",
      "     |      mu can have any value, and sigma must be greater than zero.\n",
      "     |  \n",
      "     |  normalvariate(self, mu, sigma)\n",
      "     |      Normal distribution.\n",
      "     |      \n",
      "     |      mu is the mean, and sigma is the standard deviation.\n",
      "     |  \n",
      "     |  paretovariate(self, alpha)\n",
      "     |      Pareto distribution.  alpha is the shape parameter.\n",
      "     |  \n",
      "     |  randint(self, a, b)\n",
      "     |      Return random integer in range [a, b], including both end points.\n",
      "     |  \n",
      "     |  randrange(self, start, stop=None, step=1)\n",
      "     |      Choose a random item from range(start, stop[, step]).\n",
      "     |      \n",
      "     |      This fixes the problem with randint() which includes the\n",
      "     |      endpoint; in Python this is usually not what you want.\n",
      "     |  \n",
      "     |  sample(self, population, k, *, counts=None)\n",
      "     |      Chooses k unique random elements from a population sequence or set.\n",
      "     |      \n",
      "     |      Returns a new list containing elements from the population while\n",
      "     |      leaving the original population unchanged.  The resulting list is\n",
      "     |      in selection order so that all sub-slices will also be valid random\n",
      "     |      samples.  This allows raffle winners (the sample) to be partitioned\n",
      "     |      into grand prize and second place winners (the subslices).\n",
      "     |      \n",
      "     |      Members of the population need not be hashable or unique.  If the\n",
      "     |      population contains repeats, then each occurrence is a possible\n",
      "     |      selection in the sample.\n",
      "     |      \n",
      "     |      Repeated elements can be specified one at a time or with the optional\n",
      "     |      counts parameter.  For example:\n",
      "     |      \n",
      "     |          sample(['red', 'blue'], counts=[4, 2], k=5)\n",
      "     |      \n",
      "     |      is equivalent to:\n",
      "     |      \n",
      "     |          sample(['red', 'red', 'red', 'red', 'blue', 'blue'], k=5)\n",
      "     |      \n",
      "     |      To choose a sample from a range of integers, use range() for the\n",
      "     |      population argument.  This is especially fast and space efficient\n",
      "     |      for sampling from a large population:\n",
      "     |      \n",
      "     |          sample(range(10000000), 60)\n",
      "     |  \n",
      "     |  shuffle(self, x, random=None)\n",
      "     |      Shuffle list x in place, and return None.\n",
      "     |      \n",
      "     |      Optional argument random is a 0-argument function returning a\n",
      "     |      random float in [0.0, 1.0); if it is the default None, the\n",
      "     |      standard random.random will be used.\n",
      "     |  \n",
      "     |  triangular(self, low=0.0, high=1.0, mode=None)\n",
      "     |      Triangular distribution.\n",
      "     |      \n",
      "     |      Continuous distribution bounded by given lower and upper limits,\n",
      "     |      and having a given mode value in-between.\n",
      "     |      \n",
      "     |      http://en.wikipedia.org/wiki/Triangular_distribution\n",
      "     |  \n",
      "     |  uniform(self, a, b)\n",
      "     |      Get a random number in the range [a, b) or [a, b] depending on rounding.\n",
      "     |  \n",
      "     |  vonmisesvariate(self, mu, kappa)\n",
      "     |      Circular data distribution.\n",
      "     |      \n",
      "     |      mu is the mean angle, expressed in radians between 0 and 2*pi, and\n",
      "     |      kappa is the concentration parameter, which must be greater than or\n",
      "     |      equal to zero.  If kappa is equal to zero, this distribution reduces\n",
      "     |      to a uniform random angle over the range 0 to 2*pi.\n",
      "     |  \n",
      "     |  weibullvariate(self, alpha, beta)\n",
      "     |      Weibull distribution.\n",
      "     |      \n",
      "     |      alpha is the scale parameter and beta is the shape parameter.\n",
      "     |  \n",
      "     |  ----------------------------------------------------------------------\n",
      "     |  Class methods inherited from Random:\n",
      "     |  \n",
      "     |  __init_subclass__(**kwargs) from builtins.type\n",
      "     |      Control how subclasses generate random integers.\n",
      "     |      \n",
      "     |      The algorithm a subclass can use depends on the random() and/or\n",
      "     |      getrandbits() implementation available to it and determines\n",
      "     |      whether it can generate random integers from arbitrarily large\n",
      "     |      ranges.\n",
      "     |  \n",
      "     |  ----------------------------------------------------------------------\n",
      "     |  Data descriptors inherited from Random:\n",
      "     |  \n",
      "     |  __dict__\n",
      "     |      dictionary for instance variables (if defined)\n",
      "     |  \n",
      "     |  __weakref__\n",
      "     |      list of weak references to the object (if defined)\n",
      "     |  \n",
      "     |  ----------------------------------------------------------------------\n",
      "     |  Data and other attributes inherited from Random:\n",
      "     |  \n",
      "     |  VERSION = 3\n",
      "     |  \n",
      "     |  ----------------------------------------------------------------------\n",
      "     |  Static methods inherited from _random.Random:\n",
      "     |  \n",
      "     |  __new__(*args, **kwargs) from builtins.type\n",
      "     |      Create and return a new object.  See help(type) for accurate signature.\n",
      "\n",
      "FUNCTIONS\n",
      "    betavariate(alpha, beta) method of Random instance\n",
      "        Beta distribution.\n",
      "        \n",
      "        Conditions on the parameters are alpha > 0 and beta > 0.\n",
      "        Returned values range between 0 and 1.\n",
      "    \n",
      "    choice(seq) method of Random instance\n",
      "        Choose a random element from a non-empty sequence.\n",
      "    \n",
      "    choices(population, weights=None, *, cum_weights=None, k=1) method of Random instance\n",
      "        Return a k sized list of population elements chosen with replacement.\n",
      "        \n",
      "        If the relative weights or cumulative weights are not specified,\n",
      "        the selections are made with equal probability.\n",
      "    \n",
      "    expovariate(lambd) method of Random instance\n",
      "        Exponential distribution.\n",
      "        \n",
      "        lambd is 1.0 divided by the desired mean.  It should be\n",
      "        nonzero.  (The parameter would be called \"lambda\", but that is\n",
      "        a reserved word in Python.)  Returned values range from 0 to\n",
      "        positive infinity if lambd is positive, and from negative\n",
      "        infinity to 0 if lambd is negative.\n",
      "    \n",
      "    gammavariate(alpha, beta) method of Random instance\n",
      "        Gamma distribution.  Not the gamma function!\n",
      "        \n",
      "        Conditions on the parameters are alpha > 0 and beta > 0.\n",
      "        \n",
      "        The probability distribution function is:\n",
      "        \n",
      "                    x ** (alpha - 1) * math.exp(-x / beta)\n",
      "          pdf(x) =  --------------------------------------\n",
      "                      math.gamma(alpha) * beta ** alpha\n",
      "    \n",
      "    gauss(mu, sigma) method of Random instance\n",
      "        Gaussian distribution.\n",
      "        \n",
      "        mu is the mean, and sigma is the standard deviation.  This is\n",
      "        slightly faster than the normalvariate() function.\n",
      "        \n",
      "        Not thread-safe without a lock around calls.\n",
      "    \n",
      "    getrandbits(k, /) method of Random instance\n",
      "        getrandbits(k) -> x.  Generates an int with k random bits.\n",
      "    \n",
      "    getstate() method of Random instance\n",
      "        Return internal state; can be passed to setstate() later.\n",
      "    \n",
      "    lognormvariate(mu, sigma) method of Random instance\n",
      "        Log normal distribution.\n",
      "        \n",
      "        If you take the natural logarithm of this distribution, you'll get a\n",
      "        normal distribution with mean mu and standard deviation sigma.\n",
      "        mu can have any value, and sigma must be greater than zero.\n",
      "    \n",
      "    normalvariate(mu, sigma) method of Random instance\n",
      "        Normal distribution.\n",
      "        \n",
      "        mu is the mean, and sigma is the standard deviation.\n",
      "    \n",
      "    paretovariate(alpha) method of Random instance\n",
      "        Pareto distribution.  alpha is the shape parameter.\n",
      "    \n",
      "    randbytes(n) method of Random instance\n",
      "        Generate n random bytes.\n",
      "    \n",
      "    randint(a, b) method of Random instance\n",
      "        Return random integer in range [a, b], including both end points.\n",
      "    \n",
      "    random() method of Random instance\n",
      "        random() -> x in the interval [0, 1).\n",
      "    \n",
      "    randrange(start, stop=None, step=1) method of Random instance\n",
      "        Choose a random item from range(start, stop[, step]).\n",
      "        \n",
      "        This fixes the problem with randint() which includes the\n",
      "        endpoint; in Python this is usually not what you want.\n",
      "    \n",
      "    sample(population, k, *, counts=None) method of Random instance\n",
      "        Chooses k unique random elements from a population sequence or set.\n",
      "        \n",
      "        Returns a new list containing elements from the population while\n",
      "        leaving the original population unchanged.  The resulting list is\n",
      "        in selection order so that all sub-slices will also be valid random\n",
      "        samples.  This allows raffle winners (the sample) to be partitioned\n",
      "        into grand prize and second place winners (the subslices).\n",
      "        \n",
      "        Members of the population need not be hashable or unique.  If the\n",
      "        population contains repeats, then each occurrence is a possible\n",
      "        selection in the sample.\n",
      "        \n",
      "        Repeated elements can be specified one at a time or with the optional\n",
      "        counts parameter.  For example:\n",
      "        \n",
      "            sample(['red', 'blue'], counts=[4, 2], k=5)\n",
      "        \n",
      "        is equivalent to:\n",
      "        \n",
      "            sample(['red', 'red', 'red', 'red', 'blue', 'blue'], k=5)\n",
      "        \n",
      "        To choose a sample from a range of integers, use range() for the\n",
      "        population argument.  This is especially fast and space efficient\n",
      "        for sampling from a large population:\n",
      "        \n",
      "            sample(range(10000000), 60)\n",
      "    \n",
      "    seed(a=None, version=2) method of Random instance\n",
      "        Initialize internal state from a seed.\n",
      "        \n",
      "        The only supported seed types are None, int, float,\n",
      "        str, bytes, and bytearray.\n",
      "        \n",
      "        None or no argument seeds from current time or from an operating\n",
      "        system specific randomness source if available.\n",
      "        \n",
      "        If *a* is an int, all bits are used.\n",
      "        \n",
      "        For version 2 (the default), all of the bits are used if *a* is a str,\n",
      "        bytes, or bytearray.  For version 1 (provided for reproducing random\n",
      "        sequences from older versions of Python), the algorithm for str and\n",
      "        bytes generates a narrower range of seeds.\n",
      "    \n",
      "    setstate(state) method of Random instance\n",
      "        Restore internal state from object returned by getstate().\n",
      "    \n",
      "    shuffle(x, random=None) method of Random instance\n",
      "        Shuffle list x in place, and return None.\n",
      "        \n",
      "        Optional argument random is a 0-argument function returning a\n",
      "        random float in [0.0, 1.0); if it is the default None, the\n",
      "        standard random.random will be used.\n",
      "    \n",
      "    triangular(low=0.0, high=1.0, mode=None) method of Random instance\n",
      "        Triangular distribution.\n",
      "        \n",
      "        Continuous distribution bounded by given lower and upper limits,\n",
      "        and having a given mode value in-between.\n",
      "        \n",
      "        http://en.wikipedia.org/wiki/Triangular_distribution\n",
      "    \n",
      "    uniform(a, b) method of Random instance\n",
      "        Get a random number in the range [a, b) or [a, b] depending on rounding.\n",
      "    \n",
      "    vonmisesvariate(mu, kappa) method of Random instance\n",
      "        Circular data distribution.\n",
      "        \n",
      "        mu is the mean angle, expressed in radians between 0 and 2*pi, and\n",
      "        kappa is the concentration parameter, which must be greater than or\n",
      "        equal to zero.  If kappa is equal to zero, this distribution reduces\n",
      "        to a uniform random angle over the range 0 to 2*pi.\n",
      "    \n",
      "    weibullvariate(alpha, beta) method of Random instance\n",
      "        Weibull distribution.\n",
      "        \n",
      "        alpha is the scale parameter and beta is the shape parameter.\n",
      "\n",
      "DATA\n",
      "    __all__ = ['Random', 'SystemRandom', 'betavariate', 'choice', 'choices...\n",
      "\n",
      "FILE\n",
      "    c:\\users\\hp\\anaconda3\\lib\\random.py\n",
      "\n",
      "\n"
     ]
    }
   ],
   "source": [
    "help(random)"
   ]
  },
  {
   "cell_type": "code",
   "execution_count": 149,
   "id": "e74d2f7a",
   "metadata": {},
   "outputs": [
    {
     "data": {
      "text/plain": [
       "['BPF',\n",
       " 'LOG4',\n",
       " 'NV_MAGICCONST',\n",
       " 'RECIP_BPF',\n",
       " 'Random',\n",
       " 'SG_MAGICCONST',\n",
       " 'SystemRandom',\n",
       " 'TWOPI',\n",
       " '_Sequence',\n",
       " '_Set',\n",
       " '__all__',\n",
       " '__builtins__',\n",
       " '__cached__',\n",
       " '__doc__',\n",
       " '__file__',\n",
       " '__loader__',\n",
       " '__name__',\n",
       " '__package__',\n",
       " '__spec__',\n",
       " '_accumulate',\n",
       " '_acos',\n",
       " '_bisect',\n",
       " '_ceil',\n",
       " '_cos',\n",
       " '_e',\n",
       " '_exp',\n",
       " '_floor',\n",
       " '_inst',\n",
       " '_log',\n",
       " '_os',\n",
       " '_pi',\n",
       " '_random',\n",
       " '_repeat',\n",
       " '_sha512',\n",
       " '_sin',\n",
       " '_sqrt',\n",
       " '_test',\n",
       " '_test_generator',\n",
       " '_urandom',\n",
       " '_warn',\n",
       " 'betavariate',\n",
       " 'choice',\n",
       " 'choices',\n",
       " 'expovariate',\n",
       " 'gammavariate',\n",
       " 'gauss',\n",
       " 'getrandbits',\n",
       " 'getstate',\n",
       " 'lognormvariate',\n",
       " 'normalvariate',\n",
       " 'paretovariate',\n",
       " 'randbytes',\n",
       " 'randint',\n",
       " 'random',\n",
       " 'randrange',\n",
       " 'sample',\n",
       " 'seed',\n",
       " 'setstate',\n",
       " 'shuffle',\n",
       " 'triangular',\n",
       " 'uniform',\n",
       " 'vonmisesvariate',\n",
       " 'weibullvariate']"
      ]
     },
     "execution_count": 149,
     "metadata": {},
     "output_type": "execute_result"
    }
   ],
   "source": [
    "dir(random)"
   ]
  },
  {
   "cell_type": "code",
   "execution_count": 151,
   "id": "6b0ca55c",
   "metadata": {},
   "outputs": [
    {
     "data": {
      "text/plain": [
       "7"
      ]
     },
     "execution_count": 151,
     "metadata": {},
     "output_type": "execute_result"
    }
   ],
   "source": [
    "random.randrange(10)"
   ]
  },
  {
   "cell_type": "code",
   "execution_count": 152,
   "id": "0517599f",
   "metadata": {},
   "outputs": [
    {
     "data": {
      "text/plain": [
       "0.8924098903470845"
      ]
     },
     "execution_count": 152,
     "metadata": {},
     "output_type": "execute_result"
    }
   ],
   "source": [
    "random.random()"
   ]
  },
  {
   "cell_type": "code",
   "execution_count": 153,
   "id": "d5ecfff3",
   "metadata": {},
   "outputs": [],
   "source": [
    "# Write a function invertDictionary(d) that takes in a dictionary \n",
    "# as argument and return a dictionary that inverts the keys and the values of the original dictionary.\n",
    "# In - invertDictionary({'a':1, 'b':2, 'c':3, 'd':2})\n",
    "# Out - {1: ['a'], 2: ['b', 'd'], 3: ['c']}\n",
    "# In - invertDictionary({'a':3, 'b':3, 'c':3})\n",
    "# Out - {3: ['a', 'c', 'b']}\n",
    "# In - invertDictionary({'a':2, 'b':1, 'c':2, 'd':1})\n",
    "# Out - {1: ['b', 'd'], 2: ['a', 'c']}"
   ]
  },
  {
   "cell_type": "code",
   "execution_count": 155,
   "id": "15ef6df5",
   "metadata": {},
   "outputs": [],
   "source": [
    "my_dict = {'a':1, 'b':2, 'c':3, 'd':2}\n",
    "# {1: ['a'], 2: ['b', 'd'], 3: ['c']}"
   ]
  },
  {
   "cell_type": "code",
   "execution_count": 156,
   "id": "ac128329",
   "metadata": {},
   "outputs": [],
   "source": [
    "# Get the documentation of below function\n",
    "\n",
    "def getScore():\n",
    "  ''''A function that computes and returns the final score.'''\n",
    "  pass\n"
   ]
  },
  {
   "cell_type": "code",
   "execution_count": 157,
   "id": "b9b595a3",
   "metadata": {},
   "outputs": [
    {
     "name": "stdout",
     "output_type": "stream",
     "text": [
      "Help on function getScore in module __main__:\n",
      "\n",
      "getScore()\n",
      "    'A function that computes and returns the final score.\n",
      "\n"
     ]
    }
   ],
   "source": [
    "help(getScore)"
   ]
  },
  {
   "cell_type": "code",
   "execution_count": 158,
   "id": "d6246380",
   "metadata": {},
   "outputs": [
    {
     "data": {
      "text/plain": [
       "\"'A function that computes and returns the final score.\""
      ]
     },
     "execution_count": 158,
     "metadata": {},
     "output_type": "execute_result"
    }
   ],
   "source": [
    "getScore.__doc__"
   ]
  },
  {
   "cell_type": "code",
   "execution_count": 159,
   "id": "4ad69f29",
   "metadata": {},
   "outputs": [],
   "source": [
    "# Write a function that converts a dictionary back to its sparse vector representation.\n",
    "# In - convertDictionary({0: 1, 3: 2, 7: 3, 12: 4})\n",
    "# Out - [1, 0, 0, 2, 0, 0, 0, 3, 0, 0, 0, 0, 4]\n",
    "# In - convertDictionary({0: 1, 2: 1, 4: 2, 6: 1, 9: 1})\n",
    "# Out - [1, 0, 1, 0, 2, 0, 1, 0, 0, 1]\n",
    "# In - convertDictionary({})\n",
    "# Out - []\n"
   ]
  },
  {
   "cell_type": "code",
   "execution_count": 160,
   "id": "fbf9995d",
   "metadata": {},
   "outputs": [],
   "source": [
    "#Write a Python program to create a 3X4X6 3D matrix wiith below elements using loop\n",
    "#Output:- \n",
    "# [\n",
    "#     [[0,0,0,0,0,0],[0,0,0,0,0,0],[0,0,0,0,0,0],[0,0,0,0,0,0]],\n",
    "#     [[0,0,0,0,0,0],[1,1,1,1,1,1],[2,2,2,2,2,2],[3,3,3,3,3,3]],\n",
    "#     [[0,0,0,0,0,0],[2,2,2,2,2,2],[4,4,4,4,4,4],[6,6,6,6,6,6]]\n",
    "# ]\n"
   ]
  },
  {
   "cell_type": "code",
   "execution_count": 161,
   "id": "338c2918",
   "metadata": {},
   "outputs": [],
   "source": [
    "lst = [\n",
    "    [[0,0,0,0,0,0],[0,0,0,0,0,0],[0,0,0,0,0,0],[0,0,0,0,0,0]],\n",
    "    [[0,0,0,0,0,0],[1,1,1,1,1,1],[2,2,2,2,2,2],[3,3,3,3,3,3]],\n",
    "    [[0,0,0,0,0,0],[2,2,2,2,2,2],[4,4,4,4,4,4],[6,6,6,6,6,6]]\n",
    "]"
   ]
  },
  {
   "cell_type": "code",
   "execution_count": 163,
   "id": "87f55784",
   "metadata": {},
   "outputs": [
    {
     "data": {
      "text/plain": [
       "[[0, 0, 0, 0, 0, 0],\n",
       " [0, 0, 0, 0, 0, 0],\n",
       " [0, 0, 0, 0, 0, 0],\n",
       " [0, 0, 0, 0, 0, 0]]"
      ]
     },
     "execution_count": 163,
     "metadata": {},
     "output_type": "execute_result"
    }
   ],
   "source": [
    "lst[0]"
   ]
  },
  {
   "cell_type": "code",
   "execution_count": 164,
   "id": "5daa1d3e",
   "metadata": {},
   "outputs": [
    {
     "data": {
      "text/plain": [
       "[0, 0, 0, 0, 0, 0]"
      ]
     },
     "execution_count": 164,
     "metadata": {},
     "output_type": "execute_result"
    }
   ],
   "source": [
    "lst[0][0]"
   ]
  },
  {
   "cell_type": "code",
   "execution_count": 165,
   "id": "5a9010ab",
   "metadata": {},
   "outputs": [
    {
     "data": {
      "text/plain": [
       "0"
      ]
     },
     "execution_count": 165,
     "metadata": {},
     "output_type": "execute_result"
    }
   ],
   "source": [
    "lst[0][0][0]"
   ]
  },
  {
   "cell_type": "code",
   "execution_count": 166,
   "id": "fc071d82",
   "metadata": {},
   "outputs": [
    {
     "data": {
      "text/plain": [
       "[[0, 0, 0, 0], [0, 0, 0, 0], [0, 0, 0, 0], [0, 0, 0, 0]]"
      ]
     },
     "execution_count": 166,
     "metadata": {},
     "output_type": "execute_result"
    }
   ],
   "source": [
    "[[0]*4]*4"
   ]
  },
  {
   "cell_type": "code",
   "execution_count": null,
   "id": "88d83401",
   "metadata": {},
   "outputs": [],
   "source": []
  }
 ],
 "metadata": {
  "kernelspec": {
   "display_name": "Python 3 (ipykernel)",
   "language": "python",
   "name": "python3"
  },
  "language_info": {
   "codemirror_mode": {
    "name": "ipython",
    "version": 3
   },
   "file_extension": ".py",
   "mimetype": "text/x-python",
   "name": "python",
   "nbconvert_exporter": "python",
   "pygments_lexer": "ipython3",
   "version": "3.9.7"
  }
 },
 "nbformat": 4,
 "nbformat_minor": 5
}
