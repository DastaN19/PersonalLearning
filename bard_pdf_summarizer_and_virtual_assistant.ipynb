{
 "cells": [
  {
   "cell_type": "code",
   "execution_count": null,
   "metadata": {
    "colab": {
     "base_uri": "https://localhost:8080/"
    },
    "id": "R1WT6-A2iITM",
    "outputId": "7ed6ea50-73cd-432e-87ed-f2da491c4209"
   },
   "outputs": [],
   "source": [
    "!pip install bardapi"
   ]
  },
  {
   "cell_type": "code",
   "execution_count": null,
   "metadata": {
    "id": "RlAqn5lcibjN"
   },
   "outputs": [],
   "source": [
    "from bardapi import Bard\n",
    "import os\n",
    "import time"
   ]
  },
  {
   "cell_type": "code",
   "execution_count": null,
   "metadata": {
    "id": "ztK6j0Yximga"
   },
   "outputs": [],
   "source": [
    "os.environ['_BARD_API_KEY'] = \"\""
   ]
  },
  {
   "cell_type": "code",
   "execution_count": null,
   "metadata": {
    "colab": {
     "base_uri": "https://localhost:8080/"
    },
    "id": "HAgVxk08i8qz",
    "outputId": "cd36e634-3187-4821-be5d-4a94b2a5bd2b"
   },
   "outputs": [],
   "source": [
    "input_text = \"why is sky blue?\"\n",
    "print(Bard().get_answer(input_text)['content'])"
   ]
  },
  {
   "cell_type": "code",
   "execution_count": null,
   "metadata": {
    "id": "v2G4pcmHjPGP"
   },
   "outputs": [],
   "source": [
    "#BARD IS CONNECTED WITH INTERNET"
   ]
  },
  {
   "cell_type": "code",
   "execution_count": null,
   "metadata": {
    "colab": {
     "base_uri": "https://localhost:8080/"
    },
    "id": "8RmiKM5ujtPU",
    "outputId": "d994753d-4662-43bd-d044-8b937cab35d9"
   },
   "outputs": [],
   "source": [
    "!pip install pypdf"
   ]
  },
  {
   "cell_type": "code",
   "execution_count": null,
   "metadata": {
    "id": "94ElCA1Fjt60"
   },
   "outputs": [],
   "source": [
    "from pypdf import PdfReader"
   ]
  },
  {
   "cell_type": "code",
   "execution_count": null,
   "metadata": {
    "id": "gWPS6RQ4juC1"
   },
   "outputs": [],
   "source": [
    "filepath = \"attention is a ll you need.pdf\""
   ]
  },
  {
   "cell_type": "code",
   "execution_count": null,
   "metadata": {
    "id": "LHnkxoyMjuL-"
   },
   "outputs": [],
   "source": [
    "pdfFileObject = open(filepath, 'rb')\n",
    "pdfReader = PdfReader(pdfFileObject)\n",
    "text = []\n",
    "summary = ' '\n",
    "\n",
    "#reading each page at a time\n",
    "for i in range(0,len(pdfReader.pages)):\n",
    "  pgobject = pdfReader.pages[i].extract_text()\n",
    "  pgobject = pgobject.replace('\\t\\r','')   #removes tab and carriage return\n",
    "  pgobject = pgobject.replace('\\xa0','')   #used in typing non breaking space\n",
    "  text.append(pgobject)\n"
   ]
  },
  {
   "cell_type": "code",
   "execution_count": null,
   "metadata": {},
   "outputs": [],
   "source": [
    "text"
   ]
  },
  {
   "cell_type": "code",
   "execution_count": null,
   "metadata": {
    "id": "ZclEbVfUlD6B"
   },
   "outputs": [],
   "source": [
    "#Joining few pages together\n",
    "\n",
    "def join_elements(text_lst, chars_per_element):\n",
    "  new_lst=[]\n",
    "  for i in range(0,len(text_lst), chars_per_element):\n",
    "    new_lst.append(''.join(text_lst[i:i+chars_per_element]))\n",
    "    return new_lst\n",
    "\n",
    "\n",
    "new_text = join_elements(text,3)\n",
    "print(f\"Orginal Pages = \",len(text))\n",
    "print(f\"Compressed Pages = \", len(new_text))"
   ]
  },
  {
   "cell_type": "code",
   "execution_count": null,
   "metadata": {
    "id": "Pt1HqXlslEiy"
   },
   "outputs": [],
   "source": [
    "##Creating a function get response using BARD for the entire PDF data\n",
    "def get_completion(prompt):\n",
    "  response =Bard().get_answer(input_text = prompt)['content']\n",
    "  return response\n"
   ]
  },
  {
   "cell_type": "markdown",
   "metadata": {},
   "source": [
    "### Text Summarizer (PDF Summarizer)"
   ]
  },
  {
   "cell_type": "code",
   "execution_count": null,
   "metadata": {
    "colab": {
     "base_uri": "https://localhost:8080/"
    },
    "id": "a7sx38p3lE0L",
    "outputId": "e58c5517-b2bb-42b1-84b4-5d4a44590ba5"
   },
   "outputs": [],
   "source": [
    "for i in range(len(new_text)):\n",
    "  prompt = f\"\"\"your task is to act like a text summarizer.I will give text of pages from a book from beginning to end.\n",
    "  And your job is to summarize text from these pages in less than 100 words. Do not be conversational.\n",
    "  I need plain 100 word answer.Text is shared below, delimited with triple backticks.\n",
    "  '''{text[i]}'''\n",
    "  \"\"\"\n",
    "\n",
    "  # print(prompt)\n",
    "  response = get_completion(prompt)\n",
    "  # try:\n",
    "  #   response = get_completion(prompt)\n",
    "  # except:\n",
    "  #   response = get_completion(prompt)\n",
    "  print(response)\n",
    "\n",
    "  summary = summary+ ' '+ response +'\\n\\n'\n",
    "  time.sleep(19)"
   ]
  },
  {
   "cell_type": "code",
   "execution_count": null,
   "metadata": {
    "id": "dOIjCo27lFVj"
   },
   "outputs": [],
   "source": [
    "# summary"
   ]
  },
  {
   "cell_type": "markdown",
   "metadata": {},
   "source": [
    "### ChatBOT for the PDF"
   ]
  },
  {
   "cell_type": "code",
   "execution_count": null,
   "metadata": {},
   "outputs": [],
   "source": [
    "user_question = input(\"Please enter your question: \")\n",
    "for i in range(len(new_text)):\n",
    "  prompt = f\"\"\"\n",
    "You are a chatbot trained to answer questions. \n",
    "Below, I will provide a context and a question based on that context. \n",
    "Your task is to provide the best answer possible strictly from the given context only, \n",
    "in a non-conversational manner. Keep the answer within 30 words.\n",
    "If the question is not related to the context, ask the user to provide context \n",
    "related question only.\n",
    "Do not provide the correct answer of question at all if it is not from the context. \n",
    "The context and the question are shared below, delimited with triple backticks.\n",
    "Context:\n",
    "'''{text[i]}'''\n",
    "Question:\n",
    "'''{user_question}'''\n",
    "\"\"\"\n",
    "\n",
    "  # print(prompt)\n",
    "  response = get_completion(prompt)\n",
    "  # try:\n",
    "  #   response = get_completion(prompt)\n",
    "  # except:\n",
    "  #   response = get_completion(prompt)\n",
    "  print(response)\n",
    "\n",
    "  summary = summary+ ' '+ response +'\\n\\n'\n",
    "  time.sleep(19)"
   ]
  },
  {
   "cell_type": "code",
   "execution_count": null,
   "metadata": {},
   "outputs": [],
   "source": []
  }
 ],
 "metadata": {
  "accelerator": "GPU",
  "colab": {
   "gpuType": "T4",
   "provenance": []
  },
  "kernelspec": {
   "display_name": "Python 3 (ipykernel)",
   "language": "python",
   "name": "python3"
  },
  "language_info": {
   "codemirror_mode": {
    "name": "ipython",
    "version": 3
   },
   "file_extension": ".py",
   "mimetype": "text/x-python",
   "name": "python",
   "nbconvert_exporter": "python",
   "pygments_lexer": "ipython3",
   "version": "3.9.12"
  }
 },
 "nbformat": 4,
 "nbformat_minor": 1
}
